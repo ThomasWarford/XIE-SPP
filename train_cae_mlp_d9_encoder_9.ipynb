{
 "cells": [
  {
   "cell_type": "code",
   "execution_count": 1,
   "metadata": {
    "ExecuteTime": {
     "end_time": "2021-06-09T10:39:30.209835Z",
     "start_time": "2021-06-09T10:39:26.635744Z"
    }
   },
   "outputs": [],
   "source": [
    "from utility.utility_general import *\n",
    "from utility.util_tf import *\n",
    "from utility import util_tf\n",
    "import utility.util_plot as Plots\n",
    "from IPython.display import display\n",
    "import image_generator, imp, ml_tools, plots_tools\n",
    "imp.reload(image_generator)\n",
    "imp.reload(ml_tools)\n",
    "imp.reload(plots_tools)\n",
    "\n",
    "from sklearn.model_selection import train_test_split\n",
    "from sklearn.metrics import accuracy_score, classification_report, roc_auc_score, \\\n",
    "    roc_curve, auc\n",
    "import seaborn as sns\n",
    "import tqdm\n",
    "\n",
    "from sklearn.decomposition import PCA\n",
    "from sklearn.preprocessing import StandardScaler\n",
    "from sklearn.neural_network import MLPClassifier\n",
    "from sklearn.ensemble import RandomForestClassifier"
   ]
  },
  {
   "cell_type": "markdown",
   "metadata": {},
   "source": [
    "## Initializing variables"
   ]
  },
  {
   "cell_type": "code",
   "execution_count": 2,
   "metadata": {
    "ExecuteTime": {
     "end_time": "2021-06-09T10:39:30.232272Z",
     "start_time": "2021-06-09T10:39:30.227197Z"
    }
   },
   "outputs": [
    {
     "name": "stdout",
     "output_type": "stream",
     "text": [
      "Executable     :  /home/adavar2/anaconda3/envs/tfgpu2/bin/python\n",
      "Results        :  results/train_cae_mlp/encoder_9/train_cae_mlp_d9_encoder_9\n"
     ]
    }
   ],
   "source": [
    "notebook_filename = 'train_cae_mlp_d9_encoder_9.ipynb'\n",
    "gpu_n = 3\n",
    "data_set_num = 9\n",
    "mlp_nodes_p_layer = 13\n",
    "epochs = 5\n",
    "over_sample = True\n",
    "\n",
    "design_num = {13: 1, 7:2}\n",
    "design_num = design_num[mlp_nodes_p_layer]\n",
    "data_set_path = data_path + f'/data_sets/data_set_{data_set_num}/'\n",
    "result_dir = f'results/train_cae_mlp/encoder_9/'\\\n",
    "             + notebook_filename.split('.ipynb')[0]\n",
    "\n",
    "random_state = 0\n",
    "util_tf.random_seed(random_state)\n",
    "\n",
    "tot_time_1 = datetime.now()\n",
    "gpu_device = f'/device:GPU:{gpu_n}'\n",
    "print(f'{\"Executable\": <15}: ', sys.executable)\n",
    "print(f'{\"Results\": <15}: ', result_dir)"
   ]
  },
  {
   "cell_type": "markdown",
   "metadata": {},
   "source": [
    "## Configure GPU\n",
    "* [Disable first GPU](https://www.tensorflow.org/api_docs/python/tf/config/set_visible_devices)\n",
    "* [Restrict to first GPU](https://www.tensorflow.org/guide/gpu)"
   ]
  },
  {
   "cell_type": "code",
   "execution_count": 3,
   "metadata": {
    "ExecuteTime": {
     "end_time": "2021-06-08T22:46:31.445765Z",
     "start_time": "2021-06-08T22:46:30.658957Z"
    }
   },
   "outputs": [
    {
     "name": "stdout",
     "output_type": "stream",
     "text": [
      "Total Num. GPUs Available:  6\n",
      "6 Physical GPUs, 1 Logical GPU\n",
      "\n",
      "Selected resources:\n",
      "/physical_device:CPU:0\n",
      "/physical_device:GPU:3\n"
     ]
    }
   ],
   "source": [
    "util_tf.tf_select_gpu(gpu_n)\n",
    "makedirs(result_dir, exist_ok=True)"
   ]
  },
  {
   "cell_type": "markdown",
   "metadata": {},
   "source": [
    "## Preparing data set\n",
    "### Loading files into generators"
   ]
  },
  {
   "cell_type": "code",
   "execution_count": 4,
   "metadata": {
    "ExecuteTime": {
     "end_time": "2021-06-08T22:46:31.511551Z",
     "start_time": "2021-06-08T22:46:31.448905Z"
    }
   },
   "outputs": [
    {
     "name": "stdout",
     "output_type": "stream",
     "text": [
      "Data set:  /home/adavar2/Data/syn/data_sets/data_set_9/ \n",
      "\n",
      "Before oversampling: Tot. samples= 1,764  [Pos.= 1,464 - Neg.=   300(17.0%)]\n",
      "After oversampling: Tot. samples= 2,928  [Pos.= 1,464 - Neg.= 1,464(50.0%)]\n",
      "Train stats    : Tot. samples= 2,928  [Pos.= 1,464 - Neg.= 1,464(50.0%)]\n",
      "Dev stats      : Tot. samples=   756  [Pos.=   640 - Neg.=   116(15.3%)]\n",
      "Test stats     : Tot. samples= 1,080  [Pos.=   896 - Neg.=   184(17.0%)]\n"
     ]
    }
   ],
   "source": [
    "print('Data set: ', data_set_path, '\\n')\n",
    "train_generator = image_generator.ImageGeneratorDataFrame(data_set_path + 'train.csv', return_image=True,\n",
    "                                                          over_sample=over_sample)\n",
    "test_generator = image_generator.ImageGeneratorDataFrame(data_set_path + 'test.csv', return_image=True,)\n",
    "dev_generator = image_generator.ImageGeneratorDataFrame(data_set_path + 'dev.csv', return_image=True,)\n",
    "\n",
    "print(f'{\"Train stats\": <15}: ', end='')\n",
    "train_generator.stats()\n",
    "print(f'{\"Dev stats\": <15}: ', end='')\n",
    "dev_generator.stats()\n",
    "print(f'{\"Test stats\": <15}: ', end='')\n",
    "test_generator.stats()"
   ]
  },
  {
   "cell_type": "markdown",
   "metadata": {},
   "source": [
    "## Creating the model"
   ]
  },
  {
   "cell_type": "code",
   "execution_count": 5,
   "metadata": {
    "ExecuteTime": {
     "end_time": "2021-06-08T22:46:31.517156Z",
     "start_time": "2021-06-08T22:46:31.513465Z"
    }
   },
   "outputs": [
    {
     "name": "stdout",
     "output_type": "stream",
     "text": [
      "Object `Adam` not found.\n"
     ]
    }
   ],
   "source": [
    "Adam??"
   ]
  },
  {
   "cell_type": "code",
   "execution_count": 4,
   "metadata": {
    "ExecuteTime": {
     "end_time": "2021-06-09T10:39:48.863914Z",
     "start_time": "2021-06-09T10:39:48.828842Z"
    },
    "scrolled": false
   },
   "outputs": [
    {
     "name": "stdout",
     "output_type": "stream",
     "text": [
      "\n",
      "MODEL 5 adjustable params:\n",
      "input_shape: (128, 128, 128, 3)\n",
      "channels: [32, 32, 64]\n",
      "kernel_size: (3, 3, 3)\n",
      "activation: ['relu', 'sigmoid']\n",
      "pool_size: [(4, 4, 4), (4, 4, 4), (2, 2, 2)]\n",
      "loss: binary_crossentropy\n",
      "optimizer: <tensorflow.python.keras.optimizer_v2.adam.Adam object at 0x7f88842085d0>\n",
      "metrics: None\n",
      "verbose: True\n",
      "dropout_rate: 0.3\n",
      "kernel_regularizer: [None, None, None]\n",
      "\n"
     ]
    },
    {
     "ename": "ValueError",
     "evalue": "Could not interpret regularizer identifier: [None, None, None]",
     "output_type": "error",
     "traceback": [
      "\u001b[0;31m---------------------------------------------------------------------------\u001b[0m",
      "\u001b[0;31mValueError\u001b[0m                                Traceback (most recent call last)",
      "\u001b[0;32m<ipython-input-4-a2342d50ba13>\u001b[0m in \u001b[0;36m<module>\u001b[0;34m\u001b[0m\n\u001b[1;32m     16\u001b[0m \u001b[0minput_shape\u001b[0m \u001b[0;34m=\u001b[0m \u001b[0;34m(\u001b[0m\u001b[0;36m128\u001b[0m\u001b[0;34m,\u001b[0m \u001b[0;36m128\u001b[0m\u001b[0;34m,\u001b[0m \u001b[0;36m128\u001b[0m\u001b[0;34m,\u001b[0m \u001b[0;36m3\u001b[0m\u001b[0;34m)\u001b[0m\u001b[0;34m\u001b[0m\u001b[0;34m\u001b[0m\u001b[0m\n\u001b[1;32m     17\u001b[0m \u001b[0mauto_encoder\u001b[0m \u001b[0;34m=\u001b[0m \u001b[0mmodels\u001b[0m\u001b[0;34m.\u001b[0m\u001b[0mCAE\u001b[0m\u001b[0;34m(\u001b[0m\u001b[0minput_shape\u001b[0m\u001b[0;34m=\u001b[0m\u001b[0minput_shape\u001b[0m\u001b[0;34m,\u001b[0m \u001b[0mpool_size\u001b[0m\u001b[0;34m=\u001b[0m\u001b[0;34m[\u001b[0m\u001b[0;36m4\u001b[0m\u001b[0;34m,\u001b[0m \u001b[0;36m4\u001b[0m\u001b[0;34m,\u001b[0m \u001b[0;36m2\u001b[0m\u001b[0;34m]\u001b[0m\u001b[0;34m,\u001b[0m \u001b[0moptimizer\u001b[0m\u001b[0;34m=\u001b[0m\u001b[0mopti\u001b[0m\u001b[0;34m,\u001b[0m \u001b[0mdropout_rate\u001b[0m\u001b[0;34m=\u001b[0m\u001b[0;36m0.3\u001b[0m\u001b[0;34m)\u001b[0m\u001b[0;34m\u001b[0m\u001b[0;34m\u001b[0m\u001b[0m\n\u001b[0;32m---> 18\u001b[0;31m \u001b[0mauto_encoder\u001b[0m \u001b[0;34m=\u001b[0m \u001b[0mauto_encoder\u001b[0m\u001b[0;34m.\u001b[0m\u001b[0mgenerate\u001b[0m\u001b[0;34m(\u001b[0m\u001b[0;34m)\u001b[0m\u001b[0;34m\u001b[0m\u001b[0;34m\u001b[0m\u001b[0m\n\u001b[0m\u001b[1;32m     19\u001b[0m \u001b[0mauto_encoder\u001b[0m\u001b[0;34m.\u001b[0m\u001b[0msummary\u001b[0m\u001b[0;34m(\u001b[0m\u001b[0;34m)\u001b[0m\u001b[0;34m\u001b[0m\u001b[0;34m\u001b[0m\u001b[0m\n\u001b[1;32m     20\u001b[0m \u001b[0mmodel\u001b[0m \u001b[0;34m=\u001b[0m \u001b[0mauto_encoder\u001b[0m\u001b[0;34m\u001b[0m\u001b[0;34m\u001b[0m\u001b[0m\n",
      "\u001b[0;32m~/Documents/synthesizability-predictor/ver2/models.py\u001b[0m in \u001b[0;36mgenerate\u001b[0;34m(self)\u001b[0m\n\u001b[1;32m     79\u001b[0m \u001b[0;34m\u001b[0m\u001b[0m\n\u001b[1;32m     80\u001b[0m                 mod.add(layers.Conv3D(filters=channels[i], kernel_size=self.kernel_size, padding='same',\n\u001b[0;32m---> 81\u001b[0;31m                                       name=decoding_starting_point, kernel_regularizer=self.kernel_regularizer))\n\u001b[0m\u001b[1;32m     82\u001b[0m                 \u001b[0mmod\u001b[0m\u001b[0;34m.\u001b[0m\u001b[0madd\u001b[0m\u001b[0;34m(\u001b[0m\u001b[0mlayers\u001b[0m\u001b[0;34m.\u001b[0m\u001b[0mActivation\u001b[0m\u001b[0;34m(\u001b[0m\u001b[0mactivation\u001b[0m\u001b[0;34m)\u001b[0m\u001b[0;34m)\u001b[0m\u001b[0;34m\u001b[0m\u001b[0;34m\u001b[0m\u001b[0m\n\u001b[1;32m     83\u001b[0m                 \u001b[0;32mif\u001b[0m \u001b[0me\u001b[0m \u001b[0;34m==\u001b[0m \u001b[0;34m'encoded'\u001b[0m\u001b[0;34m:\u001b[0m\u001b[0;34m\u001b[0m\u001b[0;34m\u001b[0m\u001b[0m\n",
      "\u001b[0;32m~/anaconda3/envs/tfgpu2/lib/python3.7/site-packages/tensorflow/python/keras/layers/convolutional.py\u001b[0m in \u001b[0;36m__init__\u001b[0;34m(self, filters, kernel_size, strides, padding, data_format, dilation_rate, groups, activation, use_bias, kernel_initializer, bias_initializer, kernel_regularizer, bias_regularizer, activity_regularizer, kernel_constraint, bias_constraint, **kwargs)\u001b[0m\n\u001b[1;32m    811\u001b[0m         \u001b[0mkernel_initializer\u001b[0m\u001b[0;34m=\u001b[0m\u001b[0minitializers\u001b[0m\u001b[0;34m.\u001b[0m\u001b[0mget\u001b[0m\u001b[0;34m(\u001b[0m\u001b[0mkernel_initializer\u001b[0m\u001b[0;34m)\u001b[0m\u001b[0;34m,\u001b[0m\u001b[0;34m\u001b[0m\u001b[0;34m\u001b[0m\u001b[0m\n\u001b[1;32m    812\u001b[0m         \u001b[0mbias_initializer\u001b[0m\u001b[0;34m=\u001b[0m\u001b[0minitializers\u001b[0m\u001b[0;34m.\u001b[0m\u001b[0mget\u001b[0m\u001b[0;34m(\u001b[0m\u001b[0mbias_initializer\u001b[0m\u001b[0;34m)\u001b[0m\u001b[0;34m,\u001b[0m\u001b[0;34m\u001b[0m\u001b[0;34m\u001b[0m\u001b[0m\n\u001b[0;32m--> 813\u001b[0;31m         \u001b[0mkernel_regularizer\u001b[0m\u001b[0;34m=\u001b[0m\u001b[0mregularizers\u001b[0m\u001b[0;34m.\u001b[0m\u001b[0mget\u001b[0m\u001b[0;34m(\u001b[0m\u001b[0mkernel_regularizer\u001b[0m\u001b[0;34m)\u001b[0m\u001b[0;34m,\u001b[0m\u001b[0;34m\u001b[0m\u001b[0;34m\u001b[0m\u001b[0m\n\u001b[0m\u001b[1;32m    814\u001b[0m         \u001b[0mbias_regularizer\u001b[0m\u001b[0;34m=\u001b[0m\u001b[0mregularizers\u001b[0m\u001b[0;34m.\u001b[0m\u001b[0mget\u001b[0m\u001b[0;34m(\u001b[0m\u001b[0mbias_regularizer\u001b[0m\u001b[0;34m)\u001b[0m\u001b[0;34m,\u001b[0m\u001b[0;34m\u001b[0m\u001b[0;34m\u001b[0m\u001b[0m\n\u001b[1;32m    815\u001b[0m         \u001b[0mactivity_regularizer\u001b[0m\u001b[0;34m=\u001b[0m\u001b[0mregularizers\u001b[0m\u001b[0;34m.\u001b[0m\u001b[0mget\u001b[0m\u001b[0;34m(\u001b[0m\u001b[0mactivity_regularizer\u001b[0m\u001b[0;34m)\u001b[0m\u001b[0;34m,\u001b[0m\u001b[0;34m\u001b[0m\u001b[0;34m\u001b[0m\u001b[0m\n",
      "\u001b[0;32m~/anaconda3/envs/tfgpu2/lib/python3.7/site-packages/tensorflow/python/keras/regularizers.py\u001b[0m in \u001b[0;36mget\u001b[0;34m(identifier)\u001b[0m\n\u001b[1;32m    382\u001b[0m   \u001b[0;32melse\u001b[0m\u001b[0;34m:\u001b[0m\u001b[0;34m\u001b[0m\u001b[0;34m\u001b[0m\u001b[0m\n\u001b[1;32m    383\u001b[0m     raise ValueError(\n\u001b[0;32m--> 384\u001b[0;31m         'Could not interpret regularizer identifier: {}'.format(identifier))\n\u001b[0m",
      "\u001b[0;31mValueError\u001b[0m: Could not interpret regularizer identifier: [None, None, None]"
     ]
    }
   ],
   "source": [
    "from keras.models import Sequential\n",
    "from keras.layers import Input, Conv3D, Flatten, Dense, MaxPooling3D, Dropout\n",
    "from keras.regularizers import l2\n",
    "from keras.optimizers import Adam\n",
    "from keras.models import load_model\n",
    "from keras.callbacks import EarlyStopping, ModelCheckpoint\n",
    "from keras.utils import Sequence\n",
    "import keras.backend as K\n",
    "import models\n",
    "from keras import layers\n",
    "\n",
    "lr = 0.0005\n",
    "lr_decay = 0.002\n",
    "opti = Adam(lr=lr, decay=lr_decay)\n",
    "\n",
    "input_shape = (128, 128, 128, 3)\n",
    "auto_encoder = models.CAE(input_shape=input_shape, pool_size=[4, 4, 2], optimizer=opti, dropout_rate=0.3)\n",
    "auto_encoder = auto_encoder.generate()\n",
    "auto_encoder.summary()\n",
    "model = auto_encoder"
   ]
  },
  {
   "cell_type": "markdown",
   "metadata": {},
   "source": [
    "## Preparing Loggers"
   ]
  },
  {
   "cell_type": "code",
   "execution_count": 7,
   "metadata": {
    "ExecuteTime": {
     "end_time": "2021-06-08T22:46:32.078089Z",
     "start_time": "2021-06-08T22:46:32.074792Z"
    }
   },
   "outputs": [],
   "source": [
    "from keras.callbacks import CSVLogger\n",
    "\n",
    "\n",
    "model_checkpoint = ModelCheckpoint(\n",
    "    result_dir + '/weights{epoch:04d}.h5',\n",
    "#     monitor='val_acc',\n",
    "    verbose=1,\n",
    "    #                                    save_best_only=True,\n",
    "    #                                    mode='max',\n",
    "    save_weights_only=True,\n",
    "    save_freq='epoch')\n",
    "# earlystop = EarlyStopping(monitor='val_loss',\n",
    "#                           min_delta=0,\n",
    "#                           patience=15,\n",
    "#                           verbose=1,\n",
    "#                           mode='auto')\n",
    "csv_logger = CSVLogger(result_dir + '/training.log',\n",
    "                       separator=',',\n",
    "                       append=True)\n",
    "# tb_callback = tf.keras.callbacks.TensorBoard(log_dir= result_dir + \"/tensor_board_logs\",\n",
    "#                                              histogram_freq=1,\n",
    "#                                              write_graph=False,\n",
    "#                                              write_images=True,\n",
    "#                                              update_freq=1000,\n",
    "#                                              profile_batch=2,\n",
    "#                                              embeddings_freq=0,\n",
    "#                                             )\n",
    "\n",
    "batch_logger = util_tf.BatchLogger(result_dir)\n",
    "\n",
    "\n",
    "# callbacks = [earlystop, model_checkpoint, csv_logger]\n",
    "callbacks = [model_checkpoint, csv_logger, batch_logger]"
   ]
  },
  {
   "cell_type": "markdown",
   "metadata": {},
   "source": [
    "## Training CAE"
   ]
  },
  {
   "cell_type": "code",
   "execution_count": 8,
   "metadata": {
    "ExecuteTime": {
     "end_time": "2021-06-08T23:19:15.788021Z",
     "start_time": "2021-06-08T22:46:32.079503Z"
    },
    "scrolled": true
   },
   "outputs": [
    {
     "name": "stdout",
     "output_type": "stream",
     "text": [
      "Epoch 1/5\n",
      "2928/2928 [==============================] - 417s 138ms/step - loss: 0.1193 - val_loss: 0.0468\n",
      "\n",
      "Epoch 00001: saving model to results/train_cae_mlp/encoder_9/train_cae_mlp_d9_encoder_9/weights0001.h5\n",
      "Epoch 2/5\n",
      "2928/2928 [==============================] - 386s 132ms/step - loss: 0.0655 - val_loss: 0.0382\n",
      "\n",
      "Epoch 00002: saving model to results/train_cae_mlp/encoder_9/train_cae_mlp_d9_encoder_9/weights0002.h5\n",
      "Epoch 3/5\n",
      "2928/2928 [==============================] - 386s 132ms/step - loss: 0.0640 - val_loss: 0.0345\n",
      "\n",
      "Epoch 00003: saving model to results/train_cae_mlp/encoder_9/train_cae_mlp_d9_encoder_9/weights0003.h5\n",
      "Epoch 4/5\n",
      "2928/2928 [==============================] - 386s 132ms/step - loss: 0.0629 - val_loss: 0.0334\n",
      "\n",
      "Epoch 00004: saving model to results/train_cae_mlp/encoder_9/train_cae_mlp_d9_encoder_9/weights0004.h5\n",
      "Epoch 5/5\n",
      "2928/2928 [==============================] - 388s 133ms/step - loss: 0.0641 - val_loss: 0.0331\n",
      "\n",
      "Epoch 00005: saving model to results/train_cae_mlp/encoder_9/train_cae_mlp_d9_encoder_9/weights0005.h5\n",
      "End of the training. Run time: 0:32:43\n"
     ]
    }
   ],
   "source": [
    "time_1 = datetime.now()\n",
    "# util_tf.random_seed(random_state)\n",
    "\n",
    "with tf.device(gpu_device):\n",
    "    history = model.fit(\n",
    "        train_generator, \n",
    "        steps_per_epoch=len(train_generator),\n",
    "        epochs=epochs,\n",
    "        validation_data=dev_generator,\n",
    "        validation_steps=len(dev_generator),\n",
    "        callbacks=callbacks,\n",
    "        verbose=1,\n",
    "#         use_multiprocessing=True,\n",
    "#         workers=32,\n",
    "#         max_queue_size=20,\n",
    "                                 )\n",
    "    \n",
    "time_2 = datetime.now()\n",
    "print('End of the training. Run time:', str(time_2-time_1)[:-7])"
   ]
  },
  {
   "cell_type": "code",
   "execution_count": 9,
   "metadata": {
    "ExecuteTime": {
     "end_time": "2021-06-08T23:19:15.828236Z",
     "start_time": "2021-06-08T23:19:15.789604Z"
    }
   },
   "outputs": [],
   "source": [
    "model.save(result_dir + '/model.h5')\n",
    "pd.DataFrame(model.history.history).to_csv(result_dir + '/history.csv', index=False)"
   ]
  },
  {
   "cell_type": "markdown",
   "metadata": {},
   "source": [
    "### History Plots (Loss & Accuracy)"
   ]
  },
  {
   "cell_type": "code",
   "execution_count": 10,
   "metadata": {
    "ExecuteTime": {
     "end_time": "2021-06-08T23:19:16.152806Z",
     "start_time": "2021-06-08T23:19:15.829578Z"
    }
   },
   "outputs": [
    {
     "data": {
      "image/png": "[encoded data removed]",
      "text/plain": [
       "<Figure size 396x288 with 1 Axes>"
      ]
     },
     "metadata": {
      "needs_background": "light"
     },
     "output_type": "display_data"
    }
   ],
   "source": [
    "# Plot training curves\n",
    "# hist = history.history\n",
    "hist = pd.read_csv(result_dir + '/history.csv')\n",
    "\n",
    "plt.figure(figsize=(11/2, 4))\n",
    "plt.plot(hist[\"loss\"])\n",
    "plt.plot(hist[\"val_loss\"])\n",
    "plt.legend([\"Train\", \"Val\"])\n",
    "plt.xlabel('Epoch')\n",
    "plt.ylabel('Loss')\n",
    "plt.show()"
   ]
  },
  {
   "cell_type": "markdown",
   "metadata": {},
   "source": [
    "## Getting Latent Space Representation\n",
    "### train, test and dev"
   ]
  },
  {
   "cell_type": "code",
   "execution_count": 5,
   "metadata": {
    "ExecuteTime": {
     "end_time": "2021-06-09T10:39:56.616770Z",
     "start_time": "2021-06-09T10:39:56.428971Z"
    }
   },
   "outputs": [
    {
     "name": "stdout",
     "output_type": "stream",
     "text": [
      "Model: \"sequential\"\n",
      "_________________________________________________________________\n",
      "Layer (type)                 Output Shape              Param #   \n",
      "=================================================================\n",
      "conv3d (Conv3D)              (None, 128, 128, 128, 32) 2624      \n",
      "_________________________________________________________________\n",
      "activation (Activation)      (None, 128, 128, 128, 32) 0         \n",
      "_________________________________________________________________\n",
      "max_pooling3d (MaxPooling3D) (None, 32, 32, 32, 32)    0         \n",
      "_________________________________________________________________\n",
      "dropout (Dropout)            (None, 32, 32, 32, 32)    0         \n",
      "_________________________________________________________________\n",
      "conv3d_1 (Conv3D)            (None, 32, 32, 32, 32)    27680     \n",
      "_________________________________________________________________\n",
      "activation_1 (Activation)    (None, 32, 32, 32, 32)    0         \n",
      "_________________________________________________________________\n",
      "max_pooling3d_1 (MaxPooling3 (None, 8, 8, 8, 32)       0         \n",
      "_________________________________________________________________\n",
      "dropout_1 (Dropout)          (None, 8, 8, 8, 32)       0         \n",
      "_________________________________________________________________\n",
      "conv3d_2 (Conv3D)            (None, 8, 8, 8, 64)       55360     \n",
      "_________________________________________________________________\n",
      "activation_2 (Activation)    (None, 8, 8, 8, 64)       0         \n",
      "_________________________________________________________________\n",
      "encoded (MaxPooling3D)       (None, 4, 4, 4, 64)       0         \n",
      "_________________________________________________________________\n",
      "flatten (Flatten)            (None, 4096)              0         \n",
      "=================================================================\n",
      "Total params: 85,664\n",
      "Trainable params: 85,664\n",
      "Non-trainable params: 0\n",
      "_________________________________________________________________\n"
     ]
    }
   ],
   "source": [
    "# Loading the trained model\n",
    "\n",
    "from keras.models import load_model\n",
    "\n",
    "picked_epock = 4\n",
    "\n",
    "trained_cae = load_model(result_dir + '/model.h5')\n",
    "trained_cae.load_weights(result_dir + f'/weights{picked_epock:04d}.h5')\n",
    "for i in range(len(trained_cae.layers)):\n",
    "    if ('encode' in trained_cae.layers[-1].name) or ('pooling' in trained_cae.layers[-1].name):\n",
    "        break\n",
    "    trained_cae.pop()\n",
    "trained_cae.add(layers.Flatten())\n",
    "trained_encoder = trained_cae\n",
    "trained_encoder.summary()"
   ]
  },
  {
   "cell_type": "code",
   "execution_count": 9,
   "metadata": {
    "ExecuteTime": {
     "end_time": "2021-06-09T10:49:33.601454Z",
     "start_time": "2021-06-09T10:49:33.572610Z"
    }
   },
   "outputs": [],
   "source": [
    "trained_encoder.save(result_dir + '/encoder.h5', include_optimizer=False)\n",
    "trained_encoder.save_weights(result_dir + '/encoder_weights.h5')"
   ]
  },
  {
   "cell_type": "code",
   "execution_count": 12,
   "metadata": {
    "ExecuteTime": {
     "end_time": "2021-06-08T23:23:45.465614Z",
     "start_time": "2021-06-08T23:19:16.356279Z"
    }
   },
   "outputs": [
    {
     "name": "stdout",
     "output_type": "stream",
     "text": [
      "2928/2928 [==============================] - 162s 55ms/step\n",
      "1080/1080 [==============================] - 65s 60ms/step\n",
      "756/756 [==============================] - 41s 54ms/step\n"
     ]
    }
   ],
   "source": [
    "with tf.device(gpu_device):\n",
    "    X_all = []\n",
    "    y_all = []\n",
    "    for generator in [train_generator, test_generator, dev_generator]:\n",
    "        X = trained_encoder.predict(\n",
    "            generator,\n",
    "            steps=len(generator),\n",
    "            verbose=1,\n",
    "            max_queue_size=10,\n",
    "        )\n",
    "        X_all.append(np.array(X))\n",
    "        y_all.append(generator.get_labels())\n",
    "X_train, X_test, X_dev = X_all\n",
    "y_train, y_test, y_dev = y_all\n",
    "del X\n",
    "save_var((X_all, y_all), result_dir + f'/Xy_all_epoch{picked_epock:04d}.pkl')"
   ]
  },
  {
   "cell_type": "markdown",
   "metadata": {},
   "source": [
    "### Electrode and thermoelectric materials"
   ]
  },
  {
   "cell_type": "code",
   "execution_count": 13,
   "metadata": {
    "ExecuteTime": {
     "end_time": "2021-06-08T23:25:52.128915Z",
     "start_time": "2021-06-08T23:23:45.467523Z"
    }
   },
   "outputs": [
    {
     "name": "stdout",
     "output_type": "stream",
     "text": [
      "2569/2569 [==============================] - 127s 49ms/step\n"
     ]
    }
   ],
   "source": [
    "df_cs = pd.read_csv(data_path + '/data_sets/electrode_thermoelectric_materials.csv')\n",
    "cs_generator = image_generator.ImageGeneratorDataFrame(df_cs)\n",
    "\n",
    "util_tf.random_seed(random_state)\n",
    "with tf.device(gpu_device):\n",
    "    X_cs = trained_encoder.predict(\n",
    "        cs_generator, \n",
    "        steps=len(cs_generator),\n",
    "        verbose=1,\n",
    "        max_queue_size=10,\n",
    "    )\n",
    "# X_cs = ss.transform(X_cs)\n",
    "# X_cs = pca.transform(X_cs)\n",
    "y_cs = cs_generator.get_labels()\n",
    "save_var((X_cs, y_cs), result_dir + f'/Xcs_epoch{picked_epock:04d}.pkl')"
   ]
  },
  {
   "cell_type": "markdown",
   "metadata": {},
   "source": [
    "## Training the classifier\n",
    "### Preparation"
   ]
  },
  {
   "cell_type": "code",
   "execution_count": 14,
   "metadata": {
    "ExecuteTime": {
     "end_time": "2021-06-08T23:25:52.218651Z",
     "start_time": "2021-06-08T23:25:52.130813Z"
    }
   },
   "outputs": [],
   "source": [
    "imp.reload(ml_tools)\n",
    "X_all, y_all = load_var(result_dir + f'/Xy_all_epoch{picked_epock:04d}.pkl')\n",
    "X_train, X_test, X_dev = X_all\n",
    "y_train, y_test, y_dev = y_all\n",
    "\n",
    "mlp_clf = ml_tools.ClassifierType1(\n",
    "    clf=MLPClassifier(hidden_layer_sizes=tuple([mlp_nodes_p_layer] * 3), max_iter=500, random_state=random_state),\n",
    "    result_dir=result_dir + f'/mlp_clf_epoch{picked_epock:04d}',\n",
    "    ss=None,\n",
    "    pca=None\n",
    ")\n",
    "\n",
    "rf_clf = ml_tools.ClassifierType1(\n",
    "    clf=RandomForestClassifier(max_depth=8, random_state=random_state, n_estimators=50, n_jobs=4),\n",
    "    result_dir=result_dir + f'/rf_clf_epoch{picked_epock:04d}',\n",
    "    ss=None,\n",
    "    pca=None\n",
    ")"
   ]
  },
  {
   "cell_type": "markdown",
   "metadata": {},
   "source": [
    "### Training"
   ]
  },
  {
   "cell_type": "code",
   "execution_count": 15,
   "metadata": {
    "ExecuteTime": {
     "end_time": "2021-06-08T23:26:33.987511Z",
     "start_time": "2021-06-08T23:25:52.221851Z"
    }
   },
   "outputs": [],
   "source": [
    "for clf in [mlp_clf, rf_clf]:\n",
    "    X_all, y_all = load_var(result_dir + f'/Xy_all_epoch{picked_epock:04d}.pkl')\n",
    "    X_train, X_test, X_dev = X_all\n",
    "    y_train, y_test, y_dev = y_all\n",
    "    X_cs, y_cs = load_var(result_dir + f'/Xcs_epoch{picked_epock:04d}.pkl')\n",
    "    \n",
    "    clf.fit(X_train, y_train)\n",
    "    clf.predict_proba(X=X_test, y_true=y_test, set_name='test')\n",
    "    clf.predict_proba(X=X_dev, y_true=y_dev, set_name='dev')\n",
    "    clf.predict_proba(X=X_cs, y_true=y_cs, set_name='cs')\n",
    "    save_var(clf, clf.result_dir + '/classifier_class.pkl')\n",
    "# print(mlp_clf)\n",
    "# print('\\n')\n",
    "# print(rf_clf)"
   ]
  },
  {
   "cell_type": "markdown",
   "metadata": {},
   "source": [
    "### Results"
   ]
  },
  {
   "cell_type": "code",
   "execution_count": 16,
   "metadata": {
    "ExecuteTime": {
     "end_time": "2021-06-08T23:26:33.991619Z",
     "start_time": "2021-06-08T23:26:33.989329Z"
    }
   },
   "outputs": [],
   "source": [
    "# mlp_clf = load_var(result_dir + f'/mlp_clf/classifier_class.pkl')\n",
    "# rf_clf = load_var(result_dir + f'/rf_clf/classifier_class.pkl')"
   ]
  },
  {
   "cell_type": "code",
   "execution_count": 17,
   "metadata": {
    "ExecuteTime": {
     "end_time": "2021-06-08T23:26:34.020965Z",
     "start_time": "2021-06-08T23:26:33.993187Z"
    }
   },
   "outputs": [
    {
     "name": "stdout",
     "output_type": "stream",
     "text": [
      "MLP\n"
     ]
    },
    {
     "data": {
      "text/html": [
       "<div>\n",
       "<style scoped>\n",
       "    .dataframe tbody tr th:only-of-type {\n",
       "        vertical-align: middle;\n",
       "    }\n",
       "\n",
       "    .dataframe tbody tr th {\n",
       "        vertical-align: top;\n",
       "    }\n",
       "\n",
       "    .dataframe thead th {\n",
       "        text-align: right;\n",
       "    }\n",
       "</style>\n",
       "<table border=\"1\" class=\"dataframe\">\n",
       "  <thead>\n",
       "    <tr style=\"text-align: right;\">\n",
       "      <th></th>\n",
       "      <th>roc_auc</th>\n",
       "      <th>acc</th>\n",
       "      <th>acc_pos</th>\n",
       "      <th>acc_neg</th>\n",
       "      <th>acc_05</th>\n",
       "      <th>precision</th>\n",
       "      <th>recall</th>\n",
       "      <th>threshold</th>\n",
       "      <th>set</th>\n",
       "    </tr>\n",
       "  </thead>\n",
       "  <tbody>\n",
       "    <tr>\n",
       "      <th>0</th>\n",
       "      <td>0.997818</td>\n",
       "      <td>99.112022</td>\n",
       "      <td>98.292350</td>\n",
       "      <td>99.931694</td>\n",
       "      <td>99.112022</td>\n",
       "      <td>0.999306</td>\n",
       "      <td>0.982923</td>\n",
       "      <td>0.5</td>\n",
       "      <td>train</td>\n",
       "    </tr>\n",
       "    <tr>\n",
       "      <th>1</th>\n",
       "      <td>0.967904</td>\n",
       "      <td>91.851852</td>\n",
       "      <td>94.308036</td>\n",
       "      <td>79.891304</td>\n",
       "      <td>91.851852</td>\n",
       "      <td>0.958050</td>\n",
       "      <td>0.943080</td>\n",
       "      <td>0.5</td>\n",
       "      <td>test</td>\n",
       "    </tr>\n",
       "    <tr>\n",
       "      <th>2</th>\n",
       "      <td>0.979634</td>\n",
       "      <td>93.650794</td>\n",
       "      <td>95.781250</td>\n",
       "      <td>81.896552</td>\n",
       "      <td>93.650794</td>\n",
       "      <td>0.966877</td>\n",
       "      <td>0.957812</td>\n",
       "      <td>0.5</td>\n",
       "      <td>dev</td>\n",
       "    </tr>\n",
       "    <tr>\n",
       "      <th>3</th>\n",
       "      <td>NaN</td>\n",
       "      <td>86.103542</td>\n",
       "      <td>NaN</td>\n",
       "      <td>NaN</td>\n",
       "      <td>86.103542</td>\n",
       "      <td>NaN</td>\n",
       "      <td>NaN</td>\n",
       "      <td>0.5</td>\n",
       "      <td>cs</td>\n",
       "    </tr>\n",
       "  </tbody>\n",
       "</table>\n",
       "</div>"
      ],
      "text/plain": [
       "    roc_auc        acc    acc_pos    acc_neg     acc_05  precision    recall  \\\n",
       "0  0.997818  99.112022  98.292350  99.931694  99.112022   0.999306  0.982923   \n",
       "1  0.967904  91.851852  94.308036  79.891304  91.851852   0.958050  0.943080   \n",
       "2  0.979634  93.650794  95.781250  81.896552  93.650794   0.966877  0.957812   \n",
       "3       NaN  86.103542        NaN        NaN  86.103542        NaN       NaN   \n",
       "\n",
       "   threshold    set  \n",
       "0        0.5  train  \n",
       "1        0.5   test  \n",
       "2        0.5    dev  \n",
       "3        0.5     cs  "
      ]
     },
     "metadata": {},
     "output_type": "display_data"
    },
    {
     "name": "stdout",
     "output_type": "stream",
     "text": [
      "RF\n"
     ]
    },
    {
     "data": {
      "text/html": [
       "<div>\n",
       "<style scoped>\n",
       "    .dataframe tbody tr th:only-of-type {\n",
       "        vertical-align: middle;\n",
       "    }\n",
       "\n",
       "    .dataframe tbody tr th {\n",
       "        vertical-align: top;\n",
       "    }\n",
       "\n",
       "    .dataframe thead th {\n",
       "        text-align: right;\n",
       "    }\n",
       "</style>\n",
       "<table border=\"1\" class=\"dataframe\">\n",
       "  <thead>\n",
       "    <tr style=\"text-align: right;\">\n",
       "      <th></th>\n",
       "      <th>roc_auc</th>\n",
       "      <th>acc</th>\n",
       "      <th>acc_pos</th>\n",
       "      <th>acc_neg</th>\n",
       "      <th>acc_05</th>\n",
       "      <th>precision</th>\n",
       "      <th>recall</th>\n",
       "      <th>threshold</th>\n",
       "      <th>set</th>\n",
       "    </tr>\n",
       "  </thead>\n",
       "  <tbody>\n",
       "    <tr>\n",
       "      <th>0</th>\n",
       "      <td>0.999905</td>\n",
       "      <td>99.112022</td>\n",
       "      <td>98.292350</td>\n",
       "      <td>99.931694</td>\n",
       "      <td>99.112022</td>\n",
       "      <td>0.999306</td>\n",
       "      <td>0.982923</td>\n",
       "      <td>0.5</td>\n",
       "      <td>train</td>\n",
       "    </tr>\n",
       "    <tr>\n",
       "      <th>1</th>\n",
       "      <td>0.967567</td>\n",
       "      <td>92.962963</td>\n",
       "      <td>95.200893</td>\n",
       "      <td>82.065217</td>\n",
       "      <td>92.962963</td>\n",
       "      <td>0.962754</td>\n",
       "      <td>0.952009</td>\n",
       "      <td>0.5</td>\n",
       "      <td>test</td>\n",
       "    </tr>\n",
       "    <tr>\n",
       "      <th>2</th>\n",
       "      <td>0.979364</td>\n",
       "      <td>94.444444</td>\n",
       "      <td>96.093750</td>\n",
       "      <td>85.344828</td>\n",
       "      <td>94.444444</td>\n",
       "      <td>0.973101</td>\n",
       "      <td>0.960938</td>\n",
       "      <td>0.5</td>\n",
       "      <td>dev</td>\n",
       "    </tr>\n",
       "    <tr>\n",
       "      <th>3</th>\n",
       "      <td>NaN</td>\n",
       "      <td>84.157260</td>\n",
       "      <td>NaN</td>\n",
       "      <td>NaN</td>\n",
       "      <td>84.157260</td>\n",
       "      <td>NaN</td>\n",
       "      <td>NaN</td>\n",
       "      <td>0.5</td>\n",
       "      <td>cs</td>\n",
       "    </tr>\n",
       "  </tbody>\n",
       "</table>\n",
       "</div>"
      ],
      "text/plain": [
       "    roc_auc        acc    acc_pos    acc_neg     acc_05  precision    recall  \\\n",
       "0  0.999905  99.112022  98.292350  99.931694  99.112022   0.999306  0.982923   \n",
       "1  0.967567  92.962963  95.200893  82.065217  92.962963   0.962754  0.952009   \n",
       "2  0.979364  94.444444  96.093750  85.344828  94.444444   0.973101  0.960938   \n",
       "3       NaN  84.157260        NaN        NaN  84.157260        NaN       NaN   \n",
       "\n",
       "   threshold    set  \n",
       "0        0.5  train  \n",
       "1        0.5   test  \n",
       "2        0.5    dev  \n",
       "3        0.5     cs  "
      ]
     },
     "metadata": {},
     "output_type": "display_data"
    }
   ],
   "source": [
    "print('MLP')\n",
    "display(mlp_clf.get_stats())\n",
    "print('RF')\n",
    "display(rf_clf.get_stats())"
   ]
  },
  {
   "cell_type": "markdown",
   "metadata": {},
   "source": [
    "### ROC"
   ]
  },
  {
   "cell_type": "code",
   "execution_count": 18,
   "metadata": {
    "ExecuteTime": {
     "end_time": "2021-06-08T23:26:34.488393Z",
     "start_time": "2021-06-08T23:26:34.025144Z"
    },
    "scrolled": false
   },
   "outputs": [
    {
     "data": {
      "image/png": "[encoded data removed]",
      "text/plain": [
       "<Figure size 288x288 with 2 Axes>"
      ]
     },
     "metadata": {
      "needs_background": "light"
     },
     "output_type": "display_data"
    },
    {
     "data": {
      "image/png": "[encoded data removed]",
      "text/plain": [
       "<Figure size 288x288 with 2 Axes>"
      ]
     },
     "metadata": {
      "needs_background": "light"
     },
     "output_type": "display_data"
    }
   ],
   "source": [
    "ml_tools.plot_roc_curve(y=mlp_clf.predictions['test']['y_true'], yp=mlp_clf.predictions['test']['yp_proba'])\n",
    "plt.title(mlp_clf.label)\n",
    "plt.show()\n",
    "\n",
    "ml_tools.plot_roc_curve(y=mlp_clf.predictions['test']['y_true'], yp=rf_clf.predictions['test']['yp_proba'])\n",
    "plt.title(rf_clf.label)\n",
    "plt.show()"
   ]
  },
  {
   "cell_type": "markdown",
   "metadata": {},
   "source": [
    "## Results on electrodes and thermoelectric materials\n",
    "### Preparing"
   ]
  },
  {
   "cell_type": "code",
   "execution_count": 27,
   "metadata": {
    "ExecuteTime": {
     "end_time": "2021-06-09T07:51:50.939284Z",
     "start_time": "2021-06-09T07:51:50.893548Z"
    }
   },
   "outputs": [],
   "source": [
    "df_cs = pd.read_csv(data_path + '/data_sets/electrode_thermoelectric_materials.csv')\n",
    "df = df_cs\n",
    "df['yp_mlp'] = mlp_clf.predictions['cs']['yp_proba']\n",
    "df['ypl_mlp'] = mlp_clf.predictions['cs']['yp_label']\n",
    "\n",
    "df['yp_rf'] = rf_clf.predictions['cs']['yp_proba']\n",
    "df['ypl_rf'] = rf_clf.predictions['cs']['yp_label']\n",
    "\n",
    "df.to_csv(result_dir + '/cs_predictions.csv', index=False)\n",
    "df_cs = df\n",
    "# df"
   ]
  },
  {
   "cell_type": "markdown",
   "metadata": {},
   "source": [
    "### Electrode materials"
   ]
  },
  {
   "cell_type": "code",
   "execution_count": 20,
   "metadata": {
    "ExecuteTime": {
     "end_time": "2021-06-08T23:26:34.539531Z",
     "start_time": "2021-06-08T23:26:34.537199Z"
    }
   },
   "outputs": [],
   "source": [
    "#plots_tools.plot_electrode_thermoelectric_distribution??"
   ]
  },
  {
   "cell_type": "code",
   "execution_count": 25,
   "metadata": {
    "ExecuteTime": {
     "end_time": "2021-06-09T07:51:18.206734Z",
     "start_time": "2021-06-09T07:51:18.016987Z"
    }
   },
   "outputs": [
    {
     "name": "stdout",
     "output_type": "stream",
     "text": [
      "Data set cod size = 264\n",
      "Data set mp size = 1,824\n"
     ]
    },
    {
     "data": {
      "image/png": "[encoded data removed]",
      "text/plain": [
       "<Figure size 425.197x262.786 with 1 Axes>"
      ]
     },
     "metadata": {
      "needs_background": "light"
     },
     "output_type": "display_data"
    }
   ],
   "source": [
    "# df_cs = pd.read_csv(clf.result_dir + '/cs_predictions.csv')\n",
    "\n",
    "df = df_cs[df_cs['type']=='electrode'].rename(columns={'yp_mlp': 'yp', 'ypl_mlp': 'ypl'})\n",
    "plots_tools.plot_electrode_thermoelectric_distribution(df, title='MLP - Electrode')\n",
    "\n",
    "# df = df_cs[df_cs['type']=='electrode'].rename(columns={'yp_rf': 'yp', 'ypl_rf': 'ypl'})\n",
    "# plots_tools.plot_electrode_thermoelectric_distribution(df, title='RF - Electrode')"
   ]
  },
  {
   "cell_type": "markdown",
   "metadata": {},
   "source": [
    "### Thermoelectric"
   ]
  },
  {
   "cell_type": "code",
   "execution_count": 22,
   "metadata": {
    "ExecuteTime": {
     "end_time": "2021-06-08T23:26:35.159364Z",
     "start_time": "2021-06-08T23:26:34.739071Z"
    }
   },
   "outputs": [
    {
     "name": "stdout",
     "output_type": "stream",
     "text": [
      "Data set cod size = 56\n",
      "Data set mp size = 66\n"
     ]
    },
    {
     "data": {
      "image/png": "[encoded data removed]",
      "text/plain": [
       "<Figure size 425.197x262.786 with 1 Axes>"
      ]
     },
     "metadata": {
      "needs_background": "light"
     },
     "output_type": "display_data"
    },
    {
     "name": "stdout",
     "output_type": "stream",
     "text": [
      "Data set cod size = 56\n",
      "Data set mp size = 66\n"
     ]
    },
    {
     "data": {
      "image/png": "[encoded data removed]",
      "text/plain": [
       "<Figure size 425.197x262.786 with 1 Axes>"
      ]
     },
     "metadata": {
      "needs_background": "light"
     },
     "output_type": "display_data"
    }
   ],
   "source": [
    "# df_cs = pd.read_csv(result_dir + '/cs_predictions.csv')\n",
    "\n",
    "df = df_cs[df_cs['type']=='thermoelectric'].rename(columns={'yp_mlp': 'yp', 'ypl_mlp': 'ypl'})\n",
    "plots_tools.plot_electrode_thermoelectric_distribution(df, title='MLP - Thermoelectric')\n",
    "\n",
    "df = df_cs[df_cs['type']=='thermoelectric'].rename(columns={'yp_rf': 'yp', 'ypl_rf': 'ypl'})\n",
    "plots_tools.plot_electrode_thermoelectric_distribution(df, title='RF - Thermoelectric')"
   ]
  },
  {
   "cell_type": "markdown",
   "metadata": {},
   "source": [
    "## Saving the notebook and release GPU"
   ]
  },
  {
   "cell_type": "code",
   "execution_count": 23,
   "metadata": {
    "ExecuteTime": {
     "end_time": "2021-06-08T23:26:36.910050Z",
     "start_time": "2021-06-08T23:26:35.162764Z"
    }
   },
   "outputs": [
    {
     "name": "stdout",
     "output_type": "stream",
     "text": [
      "End of the training. Run time: 0:40:06\n"
     ]
    }
   ],
   "source": [
    "util_tf.tf_reset_gpu() # Releasing allocated GPUs\n",
    "tot_time_2 = datetime.now()\n",
    "print('End of the training. Run time:', str(tot_time_2-tot_time_1)[:-7])"
   ]
  },
  {
   "cell_type": "code",
   "execution_count": null,
   "metadata": {
    "ExecuteTime": {
     "start_time": "2021-06-08T22:46:30.389Z"
    }
   },
   "outputs": [
    {
     "data": {
      "application/javascript": [
       "IPython.notebook.save_checkpoint();"
      ],
      "text/plain": [
       "<IPython.core.display.Javascript object>"
      ]
     },
     "metadata": {},
     "output_type": "display_data"
    },
    {
     "name": "stdout",
     "output_type": "stream",
     "text": [
      "[NbConvertApp] Converting notebook train_cae_mlp_d9_encoder_9.ipynb to html\n",
      "[NbConvertApp] Writing 765939 bytes to results/train_cae_mlp/encoder_9/train_cae_mlp_d9_encoder_9/train_cae_mlp_d9_encoder_9.html\n"
     ]
    }
   ],
   "source": [
    "from IPython.display import display, Javascript\n",
    "display(Javascript('IPython.notebook.save_checkpoint();')) # Saving the notebook\n",
    "!cp $notebook_filename $result_dir/\n",
    "!jupyter nbconvert $notebook_filename --to html --output-dir $result_dir\n",
    "\n",
    "# Saving other python files into a tarfile\n",
    "import tarfile\n",
    "with tarfile.open(f'{result_dir}/codes.tar', \"w\") as tar:\n",
    "    py_files = list_all_files('./', pattern='*.py', recursive=False)\n",
    "    py_files += list_all_files('./utility/', pattern='*.py', recursive=False)\n",
    "    for f in py_files:\n",
    "        tar.add(f, arcname=os.path.basename(f))\n",
    "display(Javascript('IPython.notebook.save_checkpoint();')) # Saving the notebook"
   ]
  }
 ],
 "metadata": {
  "kernelspec": {
   "display_name": "tfgpu2",
   "language": "python",
   "name": "tfgpu2"
  },
  "language_info": {
   "codemirror_mode": {
    "name": "ipython",
    "version": 3
   },
   "file_extension": ".py",
   "mimetype": "text/x-python",
   "name": "python",
   "nbconvert_exporter": "python",
   "pygments_lexer": "ipython3",
   "version": "3.7.10"
  },
  "toc": {
   "base_numbering": 1,
   "nav_menu": {},
   "number_sections": true,
   "sideBar": true,
   "skip_h1_title": false,
   "title_cell": "Table of Contents",
   "title_sidebar": "Contents",
   "toc_cell": false,
   "toc_position": {
    "height": "calc(100% - 180px)",
    "left": "10px",
    "top": "150px",
    "width": "192.275px"
   },
   "toc_section_display": true,
   "toc_window_display": true
  },
  "varInspector": {
   "cols": {
    "lenName": 16,
    "lenType": 16,
    "lenVar": 40
   },
   "kernels_config": {
    "python": {
     "delete_cmd_postfix": "",
     "delete_cmd_prefix": "del ",
     "library": "var_list.py",
     "varRefreshCmd": "print(var_dic_list())"
    },
    "r": {
     "delete_cmd_postfix": ") ",
     "delete_cmd_prefix": "rm(",
     "library": "var_list.r",
     "varRefreshCmd": "cat(var_dic_list()) "
    }
   },
   "types_to_exclude": [
    "module",
    "function",
    "builtin_function_or_method",
    "instance",
    "_Feature"
   ],
   "window_display": false
  }
 },
 "nbformat": 4,
 "nbformat_minor": 4
}
