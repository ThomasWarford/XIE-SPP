{
 "cells": [
  {
   "cell_type": "code",
   "execution_count": 1,
   "metadata": {
    "ExecuteTime": {
     "end_time": "2021-06-07T23:39:26.089710Z",
     "start_time": "2021-06-07T23:39:24.513024Z"
    }
   },
   "outputs": [],
   "source": [
    "from utility.utility_general import *\n",
    "from utility.util_tf import *\n",
    "from utility import util_tf\n",
    "import utility.util_plot as Plots\n",
    "import image_generator, imp, ml_tools, plots_tools\n",
    "imp.reload(image_generator)\n",
    "imp.reload(ml_tools)\n",
    "imp.reload(plots_tools)\n",
    "\n",
    "from sklearn.model_selection import train_test_split\n",
    "from sklearn.metrics import accuracy_score, classification_report, roc_auc_score, \\\n",
    "    roc_curve, auc\n",
    "import seaborn as sns"
   ]
  },
  {
   "cell_type": "markdown",
   "metadata": {},
   "source": [
    "## Initializing variables"
   ]
  },
  {
   "cell_type": "code",
   "execution_count": 2,
   "metadata": {
    "ExecuteTime": {
     "end_time": "2021-06-07T23:39:26.097597Z",
     "start_time": "2021-06-07T23:39:26.092184Z"
    }
   },
   "outputs": [
    {
     "name": "stdout",
     "output_type": "stream",
     "text": [
      "Executable     :  /home/adavar2/anaconda3/envs/tfgpu2/bin/python\n",
      "Results        :  results/train_cnn_3/design_1/data_set_09/cnn-3-13-9train_cnn_d9_encoder_1_r3\n"
     ]
    }
   ],
   "source": [
    "notebook_filename = 'train_cnn_d9_encoder_1_r3.ipynb'\n",
    "gpu_n = 0\n",
    "data_set_num = 9\n",
    "mlp_nodes_p_layer = 13\n",
    "epochs = 20\n",
    "over_sample = True\n",
    "\n",
    "design_num = {13: 1, 7:2}\n",
    "design_num = design_num[mlp_nodes_p_layer]\n",
    "data_set_path = data_path + f'/data_sets/data_set_{data_set_num}/'\n",
    "result_dir = f'results/train_cnn_3/design_{design_num}/' \\\n",
    "             f'data_set_{data_set_num:02}/cnn-3-{mlp_nodes_p_layer}-{data_set_num}' \\\n",
    "             + notebook_filename.split('.ipynb')[0]\n",
    "\n",
    "random_seed = 0\n",
    "\n",
    "tot_time_1 = datetime.now()\n",
    "gpu_device = f'/device:GPU:{gpu_n}'\n",
    "print(f'{\"Executable\": <15}: ', sys.executable)\n",
    "print(f'{\"Results\": <15}: ', result_dir)"
   ]
  },
  {
   "cell_type": "markdown",
   "metadata": {},
   "source": [
    "## Configure GPU\n",
    "* [Disable first GPU](https://www.tensorflow.org/api_docs/python/tf/config/set_visible_devices)\n",
    "* [Restrict to first GPU](https://www.tensorflow.org/guide/gpu)"
   ]
  },
  {
   "cell_type": "code",
   "execution_count": 3,
   "metadata": {
    "ExecuteTime": {
     "end_time": "2021-06-07T23:39:26.967472Z",
     "start_time": "2021-06-07T23:39:26.099113Z"
    }
   },
   "outputs": [
    {
     "name": "stdout",
     "output_type": "stream",
     "text": [
      "Total Num. GPUs Available:  6\n",
      "6 Physical GPUs, 1 Logical GPU\n",
      "\n",
      "Selected resources:\n",
      "/physical_device:CPU:0\n",
      "/physical_device:GPU:0\n"
     ]
    }
   ],
   "source": [
    "util_tf.tf_select_gpu(gpu_n)\n",
    "makedirs(result_dir, exist_ok=True)"
   ]
  },
  {
   "cell_type": "markdown",
   "metadata": {},
   "source": [
    "## Preparing data set\n",
    "### Loading files into generators"
   ]
  },
  {
   "cell_type": "code",
   "execution_count": 4,
   "metadata": {
    "ExecuteTime": {
     "end_time": "2021-06-07T23:39:27.018291Z",
     "start_time": "2021-06-07T23:39:26.970355Z"
    }
   },
   "outputs": [
    {
     "name": "stdout",
     "output_type": "stream",
     "text": [
      "Data set:  /home/adavar2/Data/syn/data_sets/data_set_9/\n",
      "Before oversampling: Tot. samples= 1,764  [Pos.= 1,464 - Neg.=   300(17.0%)]\n",
      "After oversampling: Tot. samples= 2,928  [Pos.= 1,464 - Neg.= 1,464(50.0%)]\n",
      "Train stats    : Tot. samples= 2,928  [Pos.= 1,464 - Neg.= 1,464(50.0%)]\n",
      "Dev stats      : Tot. samples=   756  [Pos.=   640 - Neg.=   116(15.3%)]\n",
      "Test stats     : Tot. samples= 1,080  [Pos.=   896 - Neg.=   184(17.0%)]\n"
     ]
    }
   ],
   "source": [
    "print('Data set: ', data_set_path)\n",
    "train_generator = image_generator.ImageGeneratorDataFrame(data_set_path + 'train.csv', over_sample=over_sample)\n",
    "test_generator = image_generator.ImageGeneratorDataFrame(data_set_path + 'test.csv')\n",
    "dev_generator = image_generator.ImageGeneratorDataFrame(data_set_path + 'dev.csv')\n",
    "\n",
    "print(f'{\"Train stats\": <15}: ', end='')\n",
    "train_generator.stats()\n",
    "print(f'{\"Dev stats\": <15}: ', end='')\n",
    "dev_generator.stats()\n",
    "print(f'{\"Test stats\": <15}: ', end='')\n",
    "test_generator.stats()"
   ]
  },
  {
   "cell_type": "markdown",
   "metadata": {},
   "source": [
    "## Creating the model"
   ]
  },
  {
   "cell_type": "code",
   "execution_count": 5,
   "metadata": {
    "ExecuteTime": {
     "end_time": "2021-06-07T23:39:27.594979Z",
     "start_time": "2021-06-07T23:39:27.019900Z"
    }
   },
   "outputs": [
    {
     "name": "stdout",
     "output_type": "stream",
     "text": [
      "\n",
      "MODEL 5 adjustable params:\n",
      "input_shape: (128, 128, 128, 3)\n",
      "channels: [32, 32, 32]\n",
      "kernel_size: (3, 3, 3)\n",
      "activation: ['relu', 'sigmoid']\n",
      "pool_size: [(4, 4, 4), (4, 4, 4), (4, 4, 4)]\n",
      "loss: binary_crossentropy\n",
      "optimizer: adam\n",
      "metrics: ['accuracy']\n",
      "verbose: True\n",
      "dropout_rate: None\n",
      "kernel_regularizer: None\n",
      "\n",
      "Model: \"sequential\"\n",
      "_________________________________________________________________\n",
      "Layer (type)                 Output Shape              Param #   \n",
      "=================================================================\n",
      "conv3d (Conv3D)              (None, 128, 128, 128, 32) 2624      \n",
      "_________________________________________________________________\n",
      "activation (Activation)      (None, 128, 128, 128, 32) 0         \n",
      "_________________________________________________________________\n",
      "max_pooling3d (MaxPooling3D) (None, 32, 32, 32, 32)    0         \n",
      "_________________________________________________________________\n",
      "conv3d_1 (Conv3D)            (None, 32, 32, 32, 32)    27680     \n",
      "_________________________________________________________________\n",
      "activation_1 (Activation)    (None, 32, 32, 32, 32)    0         \n",
      "_________________________________________________________________\n",
      "max_pooling3d_1 (MaxPooling3 (None, 8, 8, 8, 32)       0         \n",
      "_________________________________________________________________\n",
      "conv3d_2 (Conv3D)            (None, 8, 8, 8, 32)       27680     \n",
      "_________________________________________________________________\n",
      "activation_2 (Activation)    (None, 8, 8, 8, 32)       0         \n",
      "_________________________________________________________________\n",
      "encoded (MaxPooling3D)       (None, 2, 2, 2, 32)       0         \n",
      "_________________________________________________________________\n",
      "flatten (Flatten)            (None, 256)               0         \n",
      "_________________________________________________________________\n",
      "dense (Dense)                (None, 13)                3341      \n",
      "_________________________________________________________________\n",
      "dense_1 (Dense)              (None, 13)                182       \n",
      "_________________________________________________________________\n",
      "dense_2 (Dense)              (None, 13)                182       \n",
      "_________________________________________________________________\n",
      "dense_3 (Dense)              (None, 1)                 14        \n",
      "=================================================================\n",
      "Total params: 61,703\n",
      "Trainable params: 61,703\n",
      "Non-trainable params: 0\n",
      "_________________________________________________________________\n"
     ]
    }
   ],
   "source": [
    "from keras.models import Sequential\n",
    "from keras.layers import Input, Conv3D, Flatten, Dense, MaxPooling3D, Dropout\n",
    "from keras.regularizers import l2\n",
    "from keras.optimizers import Adam\n",
    "from keras.models import load_model\n",
    "from keras.callbacks import EarlyStopping, ModelCheckpoint\n",
    "from keras.utils import Sequence\n",
    "import keras.backend as K\n",
    "import models\n",
    "from keras import layers\n",
    "\n",
    "input_shape = (128, 128, 128, 3)\n",
    "auto_encoder = models.CAE(input_shape=input_shape, pool_size=[4, 4, 4], optimizer='adam', \n",
    "                                     metrics=['accuracy'], channels=[32, 32, 32])\n",
    "auto_encoder = auto_encoder.generate()\n",
    "cae_1 = auto_encoder\n",
    "for i in range(len(cae_1.layers)):\n",
    "    if ('encode' in cae_1.layers[-1].name) or ('pooling' in cae_1.layers[-1].name):\n",
    "        break\n",
    "    cae_1.pop()\n",
    "cae_1.add(layers.Flatten())\n",
    "cae_1.add(layers.Dense(mlp_nodes_p_layer))\n",
    "cae_1.add(layers.Dense(mlp_nodes_p_layer))\n",
    "cae_1.add(layers.Dense(mlp_nodes_p_layer))\n",
    "cae_1.add(layers.Dense(1, activation='sigmoid'))\n",
    "cnn = cae_1\n",
    "cnn.summary()\n",
    "model = cnn"
   ]
  },
  {
   "cell_type": "markdown",
   "metadata": {},
   "source": [
    "## Preparing Loggers"
   ]
  },
  {
   "cell_type": "code",
   "execution_count": 6,
   "metadata": {
    "ExecuteTime": {
     "end_time": "2021-06-07T23:39:27.601113Z",
     "start_time": "2021-06-07T23:39:27.597517Z"
    }
   },
   "outputs": [],
   "source": [
    "from keras.callbacks import CSVLogger\n",
    "\n",
    "model_checkpoint = ModelCheckpoint(\n",
    "    result_dir + '/weights{epoch:04d}.h5',\n",
    "    monitor='val_acc',\n",
    "    verbose=1,\n",
    "    #                                    save_best_only=True,\n",
    "    #                                    mode='max',\n",
    "    save_weights_only=True,\n",
    "    save_freq='epoch')\n",
    "earlystop = EarlyStopping(monitor='val_loss',\n",
    "                          min_delta=0,\n",
    "                          patience=15,\n",
    "                          verbose=1,\n",
    "                          mode='auto')\n",
    "csv_logger = CSVLogger(result_dir + '/training.log',\n",
    "                       separator=',',\n",
    "                       append=True)\n",
    "# tb_callback = tf.keras.callbacks.TensorBoard(log_dir= result_dir + \"/tensor_board_logs\",\n",
    "#                                              histogram_freq=1,\n",
    "#                                              write_graph=False,\n",
    "#                                              write_images=True,\n",
    "#                                              update_freq=1000,\n",
    "#                                              profile_batch=2,\n",
    "#                                              embeddings_freq=0,\n",
    "#                                             )\n",
    "\n",
    "\n",
    "callbacks = [earlystop, model_checkpoint, csv_logger]"
   ]
  },
  {
   "cell_type": "markdown",
   "metadata": {},
   "source": [
    "## Training"
   ]
  },
  {
   "cell_type": "code",
   "execution_count": 7,
   "metadata": {
    "ExecuteTime": {
     "end_time": "2021-06-08T00:30:06.010238Z",
     "start_time": "2021-06-07T23:39:27.602801Z"
    },
    "scrolled": true
   },
   "outputs": [
    {
     "name": "stdout",
     "output_type": "stream",
     "text": [
      "Epoch 1/20\n",
      "2928/2928 [==============================] - 178s 58ms/step - loss: 0.4058 - accuracy: 0.8011 - val_loss: 0.3394 - val_accuracy: 0.9034\n",
      "\n",
      "Epoch 00001: saving model to results/train_cnn_3/design_1/data_set_09/cnn-3-13-9train_cnn_d9_encoder_1_r3/weights0001.h5\n",
      "Epoch 2/20\n",
      "2928/2928 [==============================] - 172s 59ms/step - loss: 0.1492 - accuracy: 0.9402 - val_loss: 0.3123 - val_accuracy: 0.9233\n",
      "\n",
      "Epoch 00002: saving model to results/train_cnn_3/design_1/data_set_09/cnn-3-13-9train_cnn_d9_encoder_1_r3/weights0002.h5\n",
      "Epoch 3/20\n",
      "2928/2928 [==============================] - 169s 58ms/step - loss: 0.1146 - accuracy: 0.9640 - val_loss: 0.0985 - val_accuracy: 0.9537\n",
      "\n",
      "Epoch 00003: saving model to results/train_cnn_3/design_1/data_set_09/cnn-3-13-9train_cnn_d9_encoder_1_r3/weights0003.h5\n",
      "Epoch 4/20\n",
      "2928/2928 [==============================] - 167s 57ms/step - loss: 0.0804 - accuracy: 0.9719 - val_loss: 0.1210 - val_accuracy: 0.9458\n",
      "\n",
      "Epoch 00004: saving model to results/train_cnn_3/design_1/data_set_09/cnn-3-13-9train_cnn_d9_encoder_1_r3/weights0004.h5\n",
      "Epoch 5/20\n",
      "2928/2928 [==============================] - 168s 57ms/step - loss: 0.0616 - accuracy: 0.9828 - val_loss: 0.1839 - val_accuracy: 0.9259\n",
      "\n",
      "Epoch 00005: saving model to results/train_cnn_3/design_1/data_set_09/cnn-3-13-9train_cnn_d9_encoder_1_r3/weights0005.h5\n",
      "Epoch 6/20\n",
      "2928/2928 [==============================] - 167s 57ms/step - loss: 0.0605 - accuracy: 0.9839 - val_loss: 0.1637 - val_accuracy: 0.9405\n",
      "\n",
      "Epoch 00006: saving model to results/train_cnn_3/design_1/data_set_09/cnn-3-13-9train_cnn_d9_encoder_1_r3/weights0006.h5\n",
      "Epoch 7/20\n",
      "2928/2928 [==============================] - 168s 57ms/step - loss: 0.0511 - accuracy: 0.9854 - val_loss: 0.1175 - val_accuracy: 0.9497\n",
      "\n",
      "Epoch 00007: saving model to results/train_cnn_3/design_1/data_set_09/cnn-3-13-9train_cnn_d9_encoder_1_r3/weights0007.h5\n",
      "Epoch 8/20\n",
      "2928/2928 [==============================] - 167s 57ms/step - loss: 0.0319 - accuracy: 0.9916 - val_loss: 0.1741 - val_accuracy: 0.9563\n",
      "\n",
      "Epoch 00008: saving model to results/train_cnn_3/design_1/data_set_09/cnn-3-13-9train_cnn_d9_encoder_1_r3/weights0008.h5\n",
      "Epoch 9/20\n",
      "2928/2928 [==============================] - 167s 57ms/step - loss: 0.0333 - accuracy: 0.9887 - val_loss: 0.1205 - val_accuracy: 0.9630\n",
      "\n",
      "Epoch 00009: saving model to results/train_cnn_3/design_1/data_set_09/cnn-3-13-9train_cnn_d9_encoder_1_r3/weights0009.h5\n",
      "Epoch 10/20\n",
      "2928/2928 [==============================] - 167s 57ms/step - loss: 0.0321 - accuracy: 0.9884 - val_loss: 0.1103 - val_accuracy: 0.9656\n",
      "\n",
      "Epoch 00010: saving model to results/train_cnn_3/design_1/data_set_09/cnn-3-13-9train_cnn_d9_encoder_1_r3/weights0010.h5\n",
      "Epoch 11/20\n",
      "2928/2928 [==============================] - 166s 57ms/step - loss: 0.0128 - accuracy: 0.9958 - val_loss: 0.1959 - val_accuracy: 0.9378\n",
      "\n",
      "Epoch 00011: saving model to results/train_cnn_3/design_1/data_set_09/cnn-3-13-9train_cnn_d9_encoder_1_r3/weights0011.h5\n",
      "Epoch 12/20\n",
      "2928/2928 [==============================] - 167s 57ms/step - loss: 0.0378 - accuracy: 0.9930 - val_loss: 0.1504 - val_accuracy: 0.9630\n",
      "\n",
      "Epoch 00012: saving model to results/train_cnn_3/design_1/data_set_09/cnn-3-13-9train_cnn_d9_encoder_1_r3/weights0012.h5\n",
      "Epoch 13/20\n",
      "2928/2928 [==============================] - 167s 57ms/step - loss: 0.0372 - accuracy: 0.9886 - val_loss: 0.1730 - val_accuracy: 0.9590\n",
      "\n",
      "Epoch 00013: saving model to results/train_cnn_3/design_1/data_set_09/cnn-3-13-9train_cnn_d9_encoder_1_r3/weights0013.h5\n",
      "Epoch 14/20\n",
      "2928/2928 [==============================] - 167s 57ms/step - loss: 0.0156 - accuracy: 0.9959 - val_loss: 0.2161 - val_accuracy: 0.9656\n",
      "\n",
      "Epoch 00014: saving model to results/train_cnn_3/design_1/data_set_09/cnn-3-13-9train_cnn_d9_encoder_1_r3/weights0014.h5\n",
      "Epoch 15/20\n",
      "2928/2928 [==============================] - 169s 58ms/step - loss: 0.0133 - accuracy: 0.9971 - val_loss: 0.1717 - val_accuracy: 0.9630\n",
      "\n",
      "Epoch 00015: saving model to results/train_cnn_3/design_1/data_set_09/cnn-3-13-9train_cnn_d9_encoder_1_r3/weights0015.h5\n",
      "Epoch 16/20\n",
      "2928/2928 [==============================] - 171s 58ms/step - loss: 0.0042 - accuracy: 0.9992 - val_loss: 0.1453 - val_accuracy: 0.9603\n",
      "\n",
      "Epoch 00016: saving model to results/train_cnn_3/design_1/data_set_09/cnn-3-13-9train_cnn_d9_encoder_1_r3/weights0016.h5\n",
      "Epoch 17/20\n",
      "2928/2928 [==============================] - 170s 58ms/step - loss: 0.0171 - accuracy: 0.9935 - val_loss: 0.1826 - val_accuracy: 0.9458\n",
      "\n",
      "Epoch 00017: saving model to results/train_cnn_3/design_1/data_set_09/cnn-3-13-9train_cnn_d9_encoder_1_r3/weights0017.h5\n",
      "Epoch 18/20\n",
      "2928/2928 [==============================] - 170s 58ms/step - loss: 0.0112 - accuracy: 0.9980 - val_loss: 0.1811 - val_accuracy: 0.9563\n",
      "\n",
      "Epoch 00018: saving model to results/train_cnn_3/design_1/data_set_09/cnn-3-13-9train_cnn_d9_encoder_1_r3/weights0018.h5\n",
      "Epoch 00018: early stopping\n",
      "End of the training. Run time: 0:50:38\n"
     ]
    }
   ],
   "source": [
    "time_1 = datetime.now()\n",
    "util_tf.random_seed(random_seed)\n",
    "\n",
    "with tf.device(gpu_device):\n",
    "    history = model.fit(\n",
    "        train_generator, \n",
    "        steps_per_epoch=len(train_generator),\n",
    "        epochs=epochs,\n",
    "        validation_data=dev_generator,\n",
    "        validation_steps=len(dev_generator),\n",
    "        callbacks=callbacks,\n",
    "        verbose=1,\n",
    "#         use_multiprocessing=True,\n",
    "#         workers=32,\n",
    "#         max_queue_size=20,\n",
    "                                 )\n",
    "    \n",
    "time_2 = datetime.now()\n",
    "print('End of the training. Run time:', str(time_2-time_1)[:-7])"
   ]
  },
  {
   "cell_type": "code",
   "execution_count": 8,
   "metadata": {
    "ExecuteTime": {
     "end_time": "2021-06-08T00:30:06.047893Z",
     "start_time": "2021-06-08T00:30:06.012173Z"
    }
   },
   "outputs": [],
   "source": [
    "model.save(result_dir + '/model.h5')\n",
    "pd.DataFrame(model.history.history).to_csv(result_dir + '/history.csv', index=False)"
   ]
  },
  {
   "cell_type": "markdown",
   "metadata": {},
   "source": [
    "### History Plots (Loss & Accuracy)"
   ]
  },
  {
   "cell_type": "code",
   "execution_count": 9,
   "metadata": {
    "ExecuteTime": {
     "end_time": "2021-06-08T00:30:06.264082Z",
     "start_time": "2021-06-08T00:30:06.049327Z"
    }
   },
   "outputs": [
    {
     "data": {
      "image/png": "[encoded data removed]",
      "text/plain": [
       "<Figure size 792x288 with 2 Axes>"
      ]
     },
     "metadata": {
      "needs_background": "light"
     },
     "output_type": "display_data"
    }
   ],
   "source": [
    "# Plot training curves\n",
    "hist = history.history\n",
    "\n",
    "plt.figure(figsize=(11, 4))\n",
    "plt.subplot(1, 2, 1)\n",
    "plt.plot(hist[\"loss\"])\n",
    "plt.plot(hist[\"val_loss\"])\n",
    "plt.legend([\"Train\", \"Val\"])\n",
    "plt.title(\"Loss\")\n",
    "plt.subplot(1, 2, 2)\n",
    "plt.plot(hist[\"accuracy\"])\n",
    "plt.plot(hist[\"val_accuracy\"])\n",
    "plt.legend([\"Train\", \"Val\"])\n",
    "plt.title(\"Accuracy\")\n",
    "plt.show()"
   ]
  },
  {
   "cell_type": "code",
   "execution_count": 10,
   "metadata": {
    "ExecuteTime": {
     "end_time": "2021-06-08T00:30:06.371338Z",
     "start_time": "2021-06-08T00:30:06.265429Z"
    }
   },
   "outputs": [],
   "source": [
    "from keras.models import load_model\n",
    "loaded_model = load_model(result_dir + '/model.h5')"
   ]
  },
  {
   "cell_type": "code",
   "execution_count": 11,
   "metadata": {
    "ExecuteTime": {
     "end_time": "2021-06-08T00:30:08.317470Z",
     "start_time": "2021-06-08T00:30:06.372820Z"
    }
   },
   "outputs": [
    {
     "data": {
      "application/javascript": [
       "IPython.notebook.save_checkpoint();"
      ],
      "text/plain": [
       "<IPython.core.display.Javascript object>"
      ]
     },
     "metadata": {},
     "output_type": "display_data"
    },
    {
     "name": "stdout",
     "output_type": "stream",
     "text": [
      "[NbConvertApp] Converting notebook train_cnn_d9_encoder_1_r3.ipynb to html\n",
      "[NbConvertApp] Writing 666441 bytes to results/train_cnn_3/design_1/data_set_09/cnn-3-13-9train_cnn_d9_encoder_1_r3/train_cnn_d9_encoder_1_r3.html\n"
     ]
    }
   ],
   "source": [
    "from IPython.display import display, Javascript\n",
    "display(Javascript('IPython.notebook.save_checkpoint();'))\n",
    "!cp $notebook_filename $result_dir/\n",
    "!jupyter nbconvert $notebook_filename --to html --output-dir $result_dir"
   ]
  },
  {
   "cell_type": "markdown",
   "metadata": {},
   "source": [
    "### Evaluating the test set"
   ]
  },
  {
   "cell_type": "code",
   "execution_count": 12,
   "metadata": {
    "ExecuteTime": {
     "end_time": "2021-06-08T00:30:08.435410Z",
     "start_time": "2021-06-08T00:30:08.320931Z"
    }
   },
   "outputs": [],
   "source": [
    "# Loading the trained model\n",
    "\n",
    "from keras.models import load_model\n",
    "\n",
    "trained_model = load_model(result_dir + '/model.h5')\n",
    "trained_model.load_weights(result_dir + '/weights0006.h5')"
   ]
  },
  {
   "cell_type": "code",
   "execution_count": 13,
   "metadata": {
    "ExecuteTime": {
     "end_time": "2021-06-08T00:31:02.705829Z",
     "start_time": "2021-06-08T00:30:08.436733Z"
    }
   },
   "outputs": [
    {
     "name": "stdout",
     "output_type": "stream",
     "text": [
      "1080/1080 [==============================] - 54s 50ms/step\n"
     ]
    }
   ],
   "source": [
    "# Evaluating the test data\n",
    "\n",
    "with tf.device(gpu_device):\n",
    "    yp = trained_model.predict(\n",
    "        test_generator, \n",
    "        steps=len(test_generator),\n",
    "        verbose=1,\n",
    "#         use_multiprocessing=True,\n",
    "#         workers=32,\n",
    "        max_queue_size=10,\n",
    "                                 )\n",
    "    \n",
    "yp_test = pd.DataFrame({\n",
    "    'y': test_generator.get_labels(),\n",
    "    'yp': yp.flatten(), #* 2 - 1\n",
    "    'ypl': np.sign(np.sign(yp.flatten() - 0.5) + .5),\n",
    "})\n",
    "yp_test.to_csv(result_dir + '/yp_test.csv', index=False)"
   ]
  },
  {
   "cell_type": "markdown",
   "metadata": {},
   "source": [
    "### ROC curve"
   ]
  },
  {
   "cell_type": "code",
   "execution_count": 14,
   "metadata": {
    "ExecuteTime": {
     "end_time": "2021-06-08T00:31:03.109700Z",
     "start_time": "2021-06-08T00:31:02.707739Z"
    }
   },
   "outputs": [
    {
     "name": "stdout",
     "output_type": "stream",
     "text": [
      "Test accuracy (samples=1,080) = 93.70%\n"
     ]
    },
    {
     "data": {
      "image/png": "[encoded data removed]",
      "text/plain": [
       "<Figure size 288x288 with 2 Axes>"
      ]
     },
     "metadata": {
      "needs_background": "light"
     },
     "output_type": "display_data"
    }
   ],
   "source": [
    "# Metrics on test data\n",
    "yp_test = pd.read_csv(result_dir + '/yp_test.csv')\n",
    "\n",
    "print('Test accuracy (samples={:,}) = {:.2f}%'.\n",
    "      format(len(yp_test), 100 * accuracy_score(yp_test['y'], yp_test['ypl'])))\n",
    "ml_tools.plot_roc_curve(y=yp_test['y'], yp=yp_test['yp'])\n",
    "plt.title('Test ROC')\n",
    "pass"
   ]
  },
  {
   "cell_type": "markdown",
   "metadata": {
    "ExecuteTime": {
     "end_time": "2021-04-14T22:09:01.406925Z",
     "start_time": "2021-04-14T22:00:15.793Z"
    }
   },
   "source": [
    "## Testing different data sets"
   ]
  },
  {
   "cell_type": "code",
   "execution_count": 15,
   "metadata": {
    "ExecuteTime": {
     "end_time": "2021-06-08T00:33:04.615594Z",
     "start_time": "2021-06-08T00:31:03.111119Z"
    }
   },
   "outputs": [
    {
     "name": "stdout",
     "output_type": "stream",
     "text": [
      "2569/2569 [==============================] - 121s 47ms/step\n"
     ]
    }
   ],
   "source": [
    "df_cs = pd.read_csv(data_path + '/data_sets/electrode_thermoelectric_materials.csv')\n",
    "cs_generator = image_generator.ImageGeneratorDataFrame(df_cs)\n",
    "\n",
    "util_tf.random_seed(random_seed)\n",
    "with tf.device(gpu_device):\n",
    "    yp = trained_model.predict(\n",
    "        cs_generator, \n",
    "        steps=len(cs_generator),\n",
    "        verbose=1,\n",
    "        max_queue_size=10,\n",
    "    )"
   ]
  },
  {
   "cell_type": "code",
   "execution_count": 16,
   "metadata": {
    "ExecuteTime": {
     "end_time": "2021-06-08T00:33:04.632829Z",
     "start_time": "2021-06-08T00:33:04.617911Z"
    }
   },
   "outputs": [],
   "source": [
    "yp_cs = pd.DataFrame({\n",
    "    'type': df_cs['type'],\n",
    "    'db': df_cs['db'],\n",
    "    'y': cs_generator.get_labels(),\n",
    "    'yp': yp.flatten(), #* 2 - 1\n",
    "    'ypl': np.sign(np.sign(yp.flatten() - 0.5) + .5),\n",
    "    'file': df_cs['file'],\n",
    "})\n",
    "yp_cs.to_csv(result_dir + '/yp_cs.csv', index=False)"
   ]
  },
  {
   "cell_type": "markdown",
   "metadata": {},
   "source": [
    "### Electrode - COD materials"
   ]
  },
  {
   "cell_type": "code",
   "execution_count": 17,
   "metadata": {
    "ExecuteTime": {
     "end_time": "2021-06-08T00:33:04.812019Z",
     "start_time": "2021-06-08T00:33:04.634097Z"
    }
   },
   "outputs": [
    {
     "name": "stdout",
     "output_type": "stream",
     "text": [
      "Data set cod size = 264\n",
      "Data set mp size = 1,824\n"
     ]
    },
    {
     "data": {
      "image/png": "[encoded data removed]",
      "text/plain": [
       "<Figure size 425.197x262.786 with 1 Axes>"
      ]
     },
     "metadata": {
      "needs_background": "light"
     },
     "output_type": "display_data"
    }
   ],
   "source": [
    "yp_cs = pd.read_csv(result_dir + '/yp_cs.csv')\n",
    "df = yp_cs[yp_cs['type']=='electrode']\n",
    "plots_tools.plot_electrode_thermoelectric_distribution(df)"
   ]
  },
  {
   "cell_type": "markdown",
   "metadata": {},
   "source": [
    "### Thermoelectric - COD materials"
   ]
  },
  {
   "cell_type": "code",
   "execution_count": 18,
   "metadata": {
    "ExecuteTime": {
     "end_time": "2021-06-08T00:33:04.985924Z",
     "start_time": "2021-06-08T00:33:04.814789Z"
    }
   },
   "outputs": [
    {
     "name": "stdout",
     "output_type": "stream",
     "text": [
      "Data set cod size = 56\n",
      "Data set mp size = 66\n"
     ]
    },
    {
     "data": {
      "image/png": "[encoded data removed]",
      "text/plain": [
       "<Figure size 425.197x262.786 with 1 Axes>"
      ]
     },
     "metadata": {
      "needs_background": "light"
     },
     "output_type": "display_data"
    }
   ],
   "source": [
    "df = yp_cs[yp_cs['type']=='thermoelectric']\n",
    "plots_tools.plot_electrode_thermoelectric_distribution(df)"
   ]
  },
  {
   "cell_type": "markdown",
   "metadata": {},
   "source": [
    "## Saving the notebook and release GPU"
   ]
  },
  {
   "cell_type": "code",
   "execution_count": null,
   "metadata": {
    "ExecuteTime": {
     "start_time": "2021-06-07T23:39:25.195Z"
    }
   },
   "outputs": [],
   "source": [
    "util_tf.tf_reset_gpu() # Releasing allocated GPUs\n",
    "tot_time_2 = datetime.now()\n",
    "print('End of the training. Run time:', str(tot_time_2-tot_time_1)[:-7])"
   ]
  },
  {
   "cell_type": "code",
   "execution_count": null,
   "metadata": {
    "ExecuteTime": {
     "start_time": "2021-06-07T23:39:25.197Z"
    }
   },
   "outputs": [],
   "source": [
    "from IPython.display import display, Javascript\n",
    "display(Javascript('IPython.notebook.save_checkpoint();')) # Saving the notebook\n",
    "!cp $notebook_filename $result_dir/\n",
    "!jupyter nbconvert $notebook_filename --to html --output-dir $result_dir\n",
    "\n",
    "# Saving other python files into a tarfile\n",
    "import tarfile\n",
    "with tarfile.open(f'{result_dir}/codes.tar', \"w\") as tar:\n",
    "    py_files = list_all_files('./', pattern='*.py', recursive=False)\n",
    "    py_files += list_all_files('./utility/', pattern='*.py', recursive=False)\n",
    "    for f in py_files:\n",
    "        tar.add(f, arcname=os.path.basename(f))\n",
    "display(Javascript('IPython.notebook.save_checkpoint();')) # Saving the notebook"
   ]
  }
 ],
 "metadata": {
  "kernelspec": {
   "display_name": "tfgpu2",
   "language": "python",
   "name": "tfgpu2"
  },
  "language_info": {
   "codemirror_mode": {
    "name": "ipython",
    "version": 3
   },
   "file_extension": ".py",
   "mimetype": "text/x-python",
   "name": "python",
   "nbconvert_exporter": "python",
   "pygments_lexer": "ipython3",
   "version": "3.7.10"
  },
  "toc": {
   "base_numbering": 1,
   "nav_menu": {},
   "number_sections": true,
   "sideBar": true,
   "skip_h1_title": false,
   "title_cell": "Table of Contents",
   "title_sidebar": "Contents",
   "toc_cell": false,
   "toc_position": {
    "height": "calc(100% - 180px)",
    "left": "10px",
    "top": "150px",
    "width": "192.275px"
   },
   "toc_section_display": true,
   "toc_window_display": true
  },
  "varInspector": {
   "cols": {
    "lenName": 16,
    "lenType": 16,
    "lenVar": 40
   },
   "kernels_config": {
    "python": {
     "delete_cmd_postfix": "",
     "delete_cmd_prefix": "del ",
     "library": "var_list.py",
     "varRefreshCmd": "print(var_dic_list())"
    },
    "r": {
     "delete_cmd_postfix": ") ",
     "delete_cmd_prefix": "rm(",
     "library": "var_list.r",
     "varRefreshCmd": "cat(var_dic_list()) "
    }
   },
   "types_to_exclude": [
    "module",
    "function",
    "builtin_function_or_method",
    "instance",
    "_Feature"
   ],
   "window_display": false
  }
 },
 "nbformat": 4,
 "nbformat_minor": 4
}
