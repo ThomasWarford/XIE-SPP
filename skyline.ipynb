{
 "cells": [
  {
   "cell_type": "markdown",
   "metadata": {},
   "source": [
    "# importing libraries"
   ]
  },
  {
   "cell_type": "code",
   "execution_count": 1,
   "metadata": {
    "ExecuteTime": {
     "end_time": "2021-06-09T13:35:08.485428Z",
     "start_time": "2021-06-09T13:35:04.267002Z"
    }
   },
   "outputs": [],
   "source": [
    "from utility.utility_general import *\n",
    "import imp\n",
    "from utility import util_plot\n",
    "from utility import util_plot as Plots\n",
    "import image_generator\n",
    "imp.reload(util_plot)\n",
    "imp.reload(Plots)\n",
    "\n",
    "# pd.set_option('display.width', 1000)\n",
    "# pd.set_option('display.max_columns', 500)\n",
    "# pd.set_option('display.max_rows',None)\n",
    "# pd.set_option('display.max_colwidth', 500)\n",
    "\n",
    "from datetime import datetime\n",
    "from joblib import Parallel, delayed\n",
    "import tqdm\n",
    "from ase.formula import Formula\n",
    "from IPython.display import display, Markdown\n",
    "\n",
    "from ase.formula import Formula\n",
    "\n",
    "from pymatgen.ext.matproj import MPRester\n",
    "api_key = \"MCpqDZgh29W9r6X4Ru\"\n",
    "mpr: MPRester = MPRester(api_key)\n",
    "    \n",
    "import tensorflow as tf\n",
    "\n",
    "import config\n",
    "\n",
    "\n",
    "sky_line_path = data_path + '/skyline'"
   ]
  },
  {
   "cell_type": "markdown",
   "metadata": {},
   "source": [
    "# Data collection\n",
    "## Getting Supporting Information and converting it to text"
   ]
  },
  {
   "cell_type": "code",
   "execution_count": null,
   "metadata": {},
   "outputs": [],
   "source": [
    "if not exists(sky_line_path + '/skyline_sup.txt'):\n",
    "    # If the pdf doesn't exist:\n",
    "    # https://advances.sciencemag.org/content/advances/suppl/2018/04/16/4.4.eaaq0148.DC1/aaq0148_SM.pdf\n",
    "    if not exists(sky_line_path + 'skyline_sup.pdf'):\n",
    "        import urllib.request\n",
    "        print('the supporting info does not exist, downloading the info from the web')\n",
    "        url = 'https://advances.sciencemag.org/content/advances/suppl/2018/04/16/4.4.eaaq0148.DC1/aaq0148_SM.pdf'\n",
    "        urllib.request.urlretrieve(url, sky_line_path + 'skyline_sup.pdf')\n",
    "    raw = parser.from_file(sky_line_path + 'skyline_sup.pdf')\n",
    "\n",
    "    write_text(sky_line_path + 'skyline_sup.pdf', raw['content'])\n",
    "txt = read_text(sky_line_path + 'skyline_sup.txt')"
   ]
  },
  {
   "cell_type": "markdown",
   "metadata": {},
   "source": [
    "# Extracting all the information from the MP"
   ]
  },
  {
   "cell_type": "code",
   "execution_count": 2,
   "metadata": {
    "ExecuteTime": {
     "end_time": "2021-06-09T13:36:13.959656Z",
     "start_time": "2021-06-09T13:36:13.941434Z"
    }
   },
   "outputs": [],
   "source": [
    "amorphous = read_text(sky_line_path + '/aaq0148_Database S1.json')\n",
    "amorphous = re.findall(\"\\\"[A-Z][A-Za-z0-9]*\\\": \\[[\\-0-9., ]+\\]\", amorphous)\n",
    "compositions = [re.findall(\"\\\".*\\\"\", i)[0][1:-1] for i in amorphous]\n",
    "energies = np.array([[float(e) for e in re.findall(\"[\\-0-9.]+\", d.split(':')[1])] for d in amorphous],\n",
    "                    dtype=object)\n",
    "min_eng = [np.min(i) for i in energies]\n",
    "ind = np.argsort(compositions)\n",
    "compositions = np.array(compositions)[ind]\n",
    "min_eng = np.array(min_eng)[ind]\n",
    "energies = energies[ind]\n",
    "save_var({'min_eng': min_eng, 'eng': energies, 'composition':compositions}, sky_line_path + '/row_variables.pkl')"
   ]
  },
  {
   "cell_type": "code",
   "execution_count": 23,
   "metadata": {
    "ExecuteTime": {
     "end_time": "2021-05-31T23:02:36.965241Z",
     "start_time": "2021-05-31T23:02:25.173243Z"
    }
   },
   "outputs": [
    {
     "data": {
      "application/vnd.jupyter.widget-view+json": {
       "model_id": "22cd99527fa74ccf94d6df8334d346c3",
       "version_major": 2,
       "version_minor": 0
      },
      "text/plain": [
       "HBox(children=(IntProgress(value=0, max=41), HTML(value='')))"
      ]
     },
     "metadata": {},
     "output_type": "display_data"
    },
    {
     "name": "stdout",
     "output_type": "stream",
     "text": [
      "\n"
     ]
    }
   ],
   "source": [
    "data = [mpr.get_data(i) for i in tqdm.tqdm_notebook(compositions)]\n",
    "save_var(data, 'tmp/mp-skyline_query.pkl')"
   ]
  },
  {
   "cell_type": "code",
   "execution_count": 8,
   "metadata": {
    "ExecuteTime": {
     "end_time": "2021-06-09T13:38:15.514854Z",
     "start_time": "2021-06-09T13:38:15.302030Z"
    }
   },
   "outputs": [
    {
     "data": {
      "text/html": [
       "<div>\n",
       "<style scoped>\n",
       "    .dataframe tbody tr th:only-of-type {\n",
       "        vertical-align: middle;\n",
       "    }\n",
       "\n",
       "    .dataframe tbody tr th {\n",
       "        vertical-align: top;\n",
       "    }\n",
       "\n",
       "    .dataframe thead th {\n",
       "        text-align: right;\n",
       "    }\n",
       "</style>\n",
       "<table border=\"1\" class=\"dataframe\">\n",
       "  <thead>\n",
       "    <tr style=\"text-align: right;\">\n",
       "      <th></th>\n",
       "      <th>query</th>\n",
       "      <th>material_id</th>\n",
       "      <th>pretty_formula</th>\n",
       "      <th>full_formula</th>\n",
       "      <th>task_ids</th>\n",
       "      <th>icsd_id</th>\n",
       "      <th>icsd_ids</th>\n",
       "      <th>e_above_hull</th>\n",
       "      <th>energy_per_atom</th>\n",
       "      <th>sgn</th>\n",
       "      <th>hall</th>\n",
       "      <th>full_formula_hill</th>\n",
       "    </tr>\n",
       "  </thead>\n",
       "  <tbody>\n",
       "    <tr>\n",
       "      <th>0</th>\n",
       "      <td>{'energy': -147.85231451, 'energy_per_atom': -...</td>\n",
       "      <td>mp-755066</td>\n",
       "      <td>Al2O3</td>\n",
       "      <td>Al8O12</td>\n",
       "      <td>[mp-859500, mp-858703, mp-755066, mp-1251182, ...</td>\n",
       "      <td>None</td>\n",
       "      <td>None</td>\n",
       "      <td>0.088742</td>\n",
       "      <td>-7.392616</td>\n",
       "      <td>14</td>\n",
       "      <td>-P 2ybc</td>\n",
       "      <td>Al8O12</td>\n",
       "    </tr>\n",
       "    <tr>\n",
       "      <th>1</th>\n",
       "      <td>{'energy': -291.46625655, 'energy_per_atom': -...</td>\n",
       "      <td>mp-1247896</td>\n",
       "      <td>Al2O3</td>\n",
       "      <td>Al16O24</td>\n",
       "      <td>[mp-1247896, mp-1818134]</td>\n",
       "      <td>None</td>\n",
       "      <td>None</td>\n",
       "      <td>0.194702</td>\n",
       "      <td>-7.286656</td>\n",
       "      <td>1</td>\n",
       "      <td>P 1</td>\n",
       "      <td>Al16O24</td>\n",
       "    </tr>\n",
       "    <tr>\n",
       "      <th>2</th>\n",
       "      <td>{'energy': -724.93346081, 'energy_per_atom': -...</td>\n",
       "      <td>mp-1245196</td>\n",
       "      <td>Al2O3</td>\n",
       "      <td>Al40O60</td>\n",
       "      <td>[mp-1245196, mp-1848370]</td>\n",
       "      <td>None</td>\n",
       "      <td>None</td>\n",
       "      <td>0.232023</td>\n",
       "      <td>-7.249335</td>\n",
       "      <td>1</td>\n",
       "      <td>P 1</td>\n",
       "      <td>Al40O60</td>\n",
       "    </tr>\n",
       "    <tr>\n",
       "      <th>5</th>\n",
       "      <td>{'energy': -565.85781994, 'energy_per_atom': -...</td>\n",
       "      <td>mp-1247839</td>\n",
       "      <td>Al2O3</td>\n",
       "      <td>Al32O48</td>\n",
       "      <td>[mp-1247839, mp-1865912]</td>\n",
       "      <td>None</td>\n",
       "      <td>None</td>\n",
       "      <td>0.541335</td>\n",
       "      <td>-7.073223</td>\n",
       "      <td>1</td>\n",
       "      <td>P 1</td>\n",
       "      <td>Al32O48</td>\n",
       "    </tr>\n",
       "    <tr>\n",
       "      <th>7</th>\n",
       "      <td>{'energy': -298.57883609, 'energy_per_atom': -...</td>\n",
       "      <td>mp-2254</td>\n",
       "      <td>Al2O3</td>\n",
       "      <td>Al16O24</td>\n",
       "      <td>[mp-672736, mp-661358, mp-2254, mp-555389, mp-...</td>\n",
       "      <td>None</td>\n",
       "      <td>[84375, 94485, 161790, 247304]</td>\n",
       "      <td>0.016887</td>\n",
       "      <td>-7.464471</td>\n",
       "      <td>33</td>\n",
       "      <td>P 2c -2n</td>\n",
       "      <td>Al16O24</td>\n",
       "    </tr>\n",
       "    <tr>\n",
       "      <th>...</th>\n",
       "      <td>...</td>\n",
       "      <td>...</td>\n",
       "      <td>...</td>\n",
       "      <td>...</td>\n",
       "      <td>...</td>\n",
       "      <td>...</td>\n",
       "      <td>...</td>\n",
       "      <td>...</td>\n",
       "      <td>...</td>\n",
       "      <td>...</td>\n",
       "      <td>...</td>\n",
       "      <td>...</td>\n",
       "    </tr>\n",
       "    <tr>\n",
       "      <th>1331</th>\n",
       "      <td>{'energy': -225.96485502, 'energy_per_atom': -...</td>\n",
       "      <td>mp-776386</td>\n",
       "      <td>ZrO2</td>\n",
       "      <td>Zr8O16</td>\n",
       "      <td>[mp-776386, mp-1343477, mp-1809809]</td>\n",
       "      <td>None</td>\n",
       "      <td>None</td>\n",
       "      <td>0.088289</td>\n",
       "      <td>-9.415202</td>\n",
       "      <td>62</td>\n",
       "      <td>-P 2ac 2n</td>\n",
       "      <td>O16Zr8</td>\n",
       "    </tr>\n",
       "    <tr>\n",
       "      <th>1333</th>\n",
       "      <td>{'energy': -56.80348487, 'energy_per_atom': -9...</td>\n",
       "      <td>mp-2574</td>\n",
       "      <td>ZrO2</td>\n",
       "      <td>Zr2O4</td>\n",
       "      <td>[mp-665220, mp-656548, mp-659686, mp-673164, m...</td>\n",
       "      <td>None</td>\n",
       "      <td>[291452, 66789, 93031, 92093, 92091, 157621, 6...</td>\n",
       "      <td>0.036244</td>\n",
       "      <td>-9.467247</td>\n",
       "      <td>137</td>\n",
       "      <td>P 4n 2n -1n</td>\n",
       "      <td>O4Zr2</td>\n",
       "    </tr>\n",
       "    <tr>\n",
       "      <th>1334</th>\n",
       "      <td>{'energy': -28.30375563, 'energy_per_atom': -9...</td>\n",
       "      <td>mp-1565</td>\n",
       "      <td>ZrO2</td>\n",
       "      <td>Zr1O2</td>\n",
       "      <td>[mp-657181, mp-657185, mp-657183, mp-2859, mp-...</td>\n",
       "      <td>None</td>\n",
       "      <td>[291453, 291119, 185123, 186672, 647689, 92095...</td>\n",
       "      <td>0.068906</td>\n",
       "      <td>-9.434585</td>\n",
       "      <td>225</td>\n",
       "      <td>-F 4 2 3</td>\n",
       "      <td>O2Zr</td>\n",
       "    </tr>\n",
       "    <tr>\n",
       "      <th>1335</th>\n",
       "      <td>{'energy': -114.0418938, 'energy_per_atom': -9...</td>\n",
       "      <td>mp-2858</td>\n",
       "      <td>ZrO2</td>\n",
       "      <td>Zr4O8</td>\n",
       "      <td>[mp-670146, mp-675607, mp-660454, mp-2858, mp-...</td>\n",
       "      <td>None</td>\n",
       "      <td>[291451, 291120, 80042, 80047, 80043, 62993, 8...</td>\n",
       "      <td>0.000000</td>\n",
       "      <td>-9.503491</td>\n",
       "      <td>14</td>\n",
       "      <td>-P 2ybc</td>\n",
       "      <td>O8Zr4</td>\n",
       "    </tr>\n",
       "    <tr>\n",
       "      <th>1338</th>\n",
       "      <td>{'energy': -665.88598288, 'energy_per_atom': -...</td>\n",
       "      <td>mp-1100824</td>\n",
       "      <td>ZrO2</td>\n",
       "      <td>Zr24O48</td>\n",
       "      <td>[mp-1100824, mp-1326763, mp-1847315]</td>\n",
       "      <td>None</td>\n",
       "      <td>None</td>\n",
       "      <td>0.605741</td>\n",
       "      <td>-9.248416</td>\n",
       "      <td>25</td>\n",
       "      <td>P 2 -2</td>\n",
       "      <td>O48Zr24</td>\n",
       "    </tr>\n",
       "  </tbody>\n",
       "</table>\n",
       "<p>815 rows × 12 columns</p>\n",
       "</div>"
      ],
      "text/plain": [
       "                                                  query material_id  \\\n",
       "0     {'energy': -147.85231451, 'energy_per_atom': -...   mp-755066   \n",
       "1     {'energy': -291.46625655, 'energy_per_atom': -...  mp-1247896   \n",
       "2     {'energy': -724.93346081, 'energy_per_atom': -...  mp-1245196   \n",
       "5     {'energy': -565.85781994, 'energy_per_atom': -...  mp-1247839   \n",
       "7     {'energy': -298.57883609, 'energy_per_atom': -...     mp-2254   \n",
       "...                                                 ...         ...   \n",
       "1331  {'energy': -225.96485502, 'energy_per_atom': -...   mp-776386   \n",
       "1333  {'energy': -56.80348487, 'energy_per_atom': -9...     mp-2574   \n",
       "1334  {'energy': -28.30375563, 'energy_per_atom': -9...     mp-1565   \n",
       "1335  {'energy': -114.0418938, 'energy_per_atom': -9...     mp-2858   \n",
       "1338  {'energy': -665.88598288, 'energy_per_atom': -...  mp-1100824   \n",
       "\n",
       "     pretty_formula full_formula  \\\n",
       "0             Al2O3       Al8O12   \n",
       "1             Al2O3      Al16O24   \n",
       "2             Al2O3      Al40O60   \n",
       "5             Al2O3      Al32O48   \n",
       "7             Al2O3      Al16O24   \n",
       "...             ...          ...   \n",
       "1331           ZrO2       Zr8O16   \n",
       "1333           ZrO2        Zr2O4   \n",
       "1334           ZrO2        Zr1O2   \n",
       "1335           ZrO2        Zr4O8   \n",
       "1338           ZrO2      Zr24O48   \n",
       "\n",
       "                                               task_ids icsd_id  \\\n",
       "0     [mp-859500, mp-858703, mp-755066, mp-1251182, ...    None   \n",
       "1                              [mp-1247896, mp-1818134]    None   \n",
       "2                              [mp-1245196, mp-1848370]    None   \n",
       "5                              [mp-1247839, mp-1865912]    None   \n",
       "7     [mp-672736, mp-661358, mp-2254, mp-555389, mp-...    None   \n",
       "...                                                 ...     ...   \n",
       "1331                [mp-776386, mp-1343477, mp-1809809]    None   \n",
       "1333  [mp-665220, mp-656548, mp-659686, mp-673164, m...    None   \n",
       "1334  [mp-657181, mp-657185, mp-657183, mp-2859, mp-...    None   \n",
       "1335  [mp-670146, mp-675607, mp-660454, mp-2858, mp-...    None   \n",
       "1338               [mp-1100824, mp-1326763, mp-1847315]    None   \n",
       "\n",
       "                                               icsd_ids  e_above_hull  \\\n",
       "0                                                  None      0.088742   \n",
       "1                                                  None      0.194702   \n",
       "2                                                  None      0.232023   \n",
       "5                                                  None      0.541335   \n",
       "7                        [84375, 94485, 161790, 247304]      0.016887   \n",
       "...                                                 ...           ...   \n",
       "1331                                               None      0.088289   \n",
       "1333  [291452, 66789, 93031, 92093, 92091, 157621, 6...      0.036244   \n",
       "1334  [291453, 291119, 185123, 186672, 647689, 92095...      0.068906   \n",
       "1335  [291451, 291120, 80042, 80047, 80043, 62993, 8...      0.000000   \n",
       "1338                                               None      0.605741   \n",
       "\n",
       "      energy_per_atom  sgn         hall full_formula_hill  \n",
       "0           -7.392616   14      -P 2ybc            Al8O12  \n",
       "1           -7.286656    1          P 1           Al16O24  \n",
       "2           -7.249335    1          P 1           Al40O60  \n",
       "5           -7.073223    1          P 1           Al32O48  \n",
       "7           -7.464471   33     P 2c -2n           Al16O24  \n",
       "...               ...  ...          ...               ...  \n",
       "1331        -9.415202   62    -P 2ac 2n            O16Zr8  \n",
       "1333        -9.467247  137  P 4n 2n -1n             O4Zr2  \n",
       "1334        -9.434585  225     -F 4 2 3              O2Zr  \n",
       "1335        -9.503491   14      -P 2ybc             O8Zr4  \n",
       "1338        -9.248416   25       P 2 -2           O48Zr24  \n",
       "\n",
       "[815 rows x 12 columns]"
      ]
     },
     "execution_count": 8,
     "metadata": {},
     "output_type": "execute_result"
    }
   ],
   "source": [
    "data = load_var('tmp/mp-skyline_query.pkl')\n",
    "data_flatten = [item for sublist in data for item in sublist]\n",
    "\n",
    "df = pd.DataFrame({'query': data_flatten})\n",
    "\n",
    "for col in ['material_id', 'pretty_formula', 'full_formula', 'task_ids', \n",
    "            'icsd_id', 'icsd_ids', 'e_above_hull', 'energy_per_atom']:\n",
    "    df[col] = [i[col] for i in df['query']]\n",
    "df['icsd_ids'] = [(None if len(i)==0 else i) for i in df['icsd_ids']]\n",
    "    \n",
    "df['sgn'] = [i['spacegroup']['number'] for i in df['query']]\n",
    "df['hall'] = [i['spacegroup']['hall'] for i in df['query']]\n",
    "df['full_formula_hill'] = [Formula(i).format('hill') for i in df['full_formula']]\n",
    "\n",
    "df = df.drop_duplicates(subset=['sgn', 'full_formula_hill'], keep='first')\n",
    "# df[df.duplicated(subset=['sgn', 'full_formula_hill'], keep='first')]\n",
    "# df[df.duplicated(subset=['sgn', 'pretty_formula'], keep='first')]\n",
    "df.to_csv('tmp/mp-skyline_query.csv')\n",
    "df"
   ]
  },
  {
   "cell_type": "markdown",
   "metadata": {
    "ExecuteTime": {
     "end_time": "2021-05-31T23:47:31.802479Z",
     "start_time": "2021-05-31T23:47:31.793338Z"
    }
   },
   "source": [
    "## Saving CIF files"
   ]
  },
  {
   "cell_type": "code",
   "execution_count": 9,
   "metadata": {
    "ExecuteTime": {
     "end_time": "2021-06-09T13:38:39.665476Z",
     "start_time": "2021-06-09T13:38:37.999509Z"
    }
   },
   "outputs": [
    {
     "data": {
      "application/vnd.jupyter.widget-view+json": {
       "model_id": "a1a370fa5f3646238879b96b0e29de62",
       "version_major": 2,
       "version_minor": 0
      },
      "text/plain": [
       "HBox(children=(IntProgress(value=0, max=815), HTML(value='')))"
      ]
     },
     "metadata": {},
     "output_type": "display_data"
    },
    {
     "name": "stdout",
     "output_type": "stream",
     "text": [
      "\n"
     ]
    }
   ],
   "source": [
    "makedirs(sky_line_path + '/cif_files', exist_ok=True)\n",
    "df['path'] = None\n",
    "for i, row in tqdm.tqdm_notebook(df.iterrows(), total=len(df)):\n",
    "    path = sky_line_path + f'/cif_files/{row[\"material_id\"]}.cif'\n",
    "    write_text(path, row['query']['cif'])\n",
    "    df.loc[i, 'path'] = path"
   ]
  },
  {
   "cell_type": "code",
   "execution_count": 10,
   "metadata": {
    "ExecuteTime": {
     "end_time": "2021-06-09T13:38:46.705759Z",
     "start_time": "2021-06-09T13:38:46.682384Z"
    }
   },
   "outputs": [],
   "source": [
    "df.drop(columns=['query', 'task_ids'], errors='ignore', inplace=True)\n",
    "df.to_csv(sky_line_path + '/df.csv', index=False)"
   ]
  },
  {
   "cell_type": "markdown",
   "metadata": {},
   "source": [
    "# Evaluation"
   ]
  },
  {
   "cell_type": "code",
   "execution_count": 5,
   "metadata": {
    "ExecuteTime": {
     "end_time": "2021-06-09T12:26:30.341394Z",
     "start_time": "2021-06-09T12:26:30.317653Z"
    }
   },
   "outputs": [],
   "source": [
    "df = pd.read_csv(sky_line_path + '/df.csv')"
   ]
  },
  {
   "cell_type": "markdown",
   "metadata": {},
   "source": [
    "## By CNN"
   ]
  },
  {
   "cell_type": "code",
   "execution_count": 55,
   "metadata": {
    "ExecuteTime": {
     "end_time": "2021-06-01T06:10:34.515132Z",
     "start_time": "2021-06-01T06:10:34.391499Z"
    }
   },
   "outputs": [],
   "source": [
    "# cnn_dir = 'finalized_results/cnn-3-13-7-over'\n",
    "\n",
    "# from tensorflow.keras.models import load_model\n",
    "\n",
    "# trained_model = load_model(cnn_dir + '/model.h5')\n",
    "# trained_model.load_weights(cnn_dir + '/weights0006.h5')\n",
    "\n",
    "\n",
    "# df = pd.read_csv(sky_line_path + '/df.csv')\n",
    "# df['img_path'] = df['path']\n",
    "# df['y'] = 0\n",
    "# generator = image_generator.ImageGeneratorDataFrame(df)"
   ]
  },
  {
   "cell_type": "code",
   "execution_count": 56,
   "metadata": {
    "ExecuteTime": {
     "end_time": "2021-06-01T06:17:24.560195Z",
     "start_time": "2021-06-01T06:10:35.350291Z"
    }
   },
   "outputs": [
    {
     "name": "stdout",
     "output_type": "stream",
     "text": [
      "1341/1341 [==============================] - 408s 303ms/step\n"
     ]
    }
   ],
   "source": [
    "# yp = trained_model.predict(\n",
    "#     generator, \n",
    "#     steps=len(generator),\n",
    "#     verbose=1,\n",
    "#     use_multiprocessing=True,\n",
    "#     workers=32,\n",
    "#     max_queue_size=10,\n",
    "#                              )\n",
    "# df['yp'] = yp.flatten()\n",
    "# df['ypl'] = np.sign(np.sign(yp.flatten() - 0.5) + .5)\n",
    "# df.to_csv(sky_line_path + '/df.csv')"
   ]
  },
  {
   "cell_type": "markdown",
   "metadata": {},
   "source": [
    "## By CAE + MLP Classifier"
   ]
  },
  {
   "cell_type": "code",
   "execution_count": 12,
   "metadata": {
    "ExecuteTime": {
     "end_time": "2021-06-09T13:44:14.975038Z",
     "start_time": "2021-06-09T13:39:41.991184Z"
    }
   },
   "outputs": [
    {
     "name": "stdout",
     "output_type": "stream",
     "text": [
      "815/815 [==============================] - 272s 332ms/step\n"
     ]
    }
   ],
   "source": [
    "from tensorflow.keras.models import load_model\n",
    "\n",
    "encoder = load_model(config.cae_mlp_model_dir + '/encoder.h5', compile=False)\n",
    "encoder.load_weights(config.cae_mlp_model_dir + '/encoder_weights.h5')\n",
    "\n",
    "df['img_path'] = df['path']\n",
    "df['y'] = 0\n",
    "\n",
    "generator = image_generator.ImageGeneratorDataFrame(df)\n",
    "lsr = encoder.predict(\n",
    "    generator, \n",
    "    steps=len(generator),\n",
    "    verbose=1,\n",
    "    use_multiprocessing=True,\n",
    "    workers=32,\n",
    "    max_queue_size=10,\n",
    "                             )"
   ]
  },
  {
   "cell_type": "code",
   "execution_count": 13,
   "metadata": {
    "ExecuteTime": {
     "end_time": "2021-06-09T13:44:26.471643Z",
     "start_time": "2021-06-09T13:44:26.381515Z"
    }
   },
   "outputs": [],
   "source": [
    "clf = load_var(config.cae_mlp_model_clf_dir + '/classifier_class.pkl')\n",
    "yp = clf.predict_proba(lsr)\n",
    "df['yp'] = yp.flatten()\n",
    "df['ypl'] = np.sign(np.sign(yp.flatten() - 0.5) + .5)\n",
    "df.to_csv(sky_line_path + '/df.csv', index=False)"
   ]
  },
  {
   "cell_type": "markdown",
   "metadata": {},
   "source": [
    "# Convex hull calculations"
   ]
  },
  {
   "cell_type": "code",
   "execution_count": 14,
   "metadata": {
    "ExecuteTime": {
     "end_time": "2021-06-09T13:44:30.886983Z",
     "start_time": "2021-06-09T13:44:30.828306Z"
    }
   },
   "outputs": [],
   "source": [
    "df_all = pd.read_csv(sky_line_path + '/df.csv', index_col=0)\n",
    "# skyline_vars = load_var(sky_line_path + '/variables.pkl')\n",
    "skyline_vars = load_var(sky_line_path + '/row_variables.pkl')\n",
    "\n",
    "compositions = skyline_vars['composition']\n",
    "min_eng = skyline_vars['min_eng']\n",
    "eng = skyline_vars['eng']\n",
    "\n",
    "# df_e = df_all.sort_values('e_above_hull')\n",
    "# df_e['diff'] = df_e['energy_per_atom'] - df_e['e_above_hull']\n",
    "# [df_all[df_all['pretty_formula'] == c]['e_above_hull'].min() for c in compositions]\n",
    "# df_e[df_e['pretty_formula'] == 'Al2O3']\n",
    "\n",
    "min_convex_hull = []\n",
    "for c in compositions:\n",
    "#     c = compositions[0]\n",
    "    df = df_all[df_all['pretty_formula'] == c]\n",
    "    min_convex_hull.append(np.average(df['energy_per_atom'] - df['e_above_hull']))\n",
    "min_eng_above_ground = min_eng - np.array(min_convex_hull)\n",
    "min_eng_above_ground = {compositions[i]: min_eng_above_ground[i] for i in range(len(compositions))}\n",
    "for i in range(len(eng)):\n",
    "    for j in range(len(eng[i])):\n",
    "        eng[i][j] -= min_convex_hull[i]\n",
    "        \n",
    "skyline_vars['min_eng_above_ground'] = min_eng_above_ground\n",
    "skyline_vars['min_convex_hull'] = min_convex_hull\n",
    "skyline_vars['eng_min_convex_hull'] = eng\n",
    "save_var(skyline_vars, sky_line_path + '/variables.pkl')"
   ]
  }
 ],
 "metadata": {
  "kernelspec": {
   "display_name": "explain",
   "language": "python",
   "name": "explain"
  },
  "language_info": {
   "codemirror_mode": {
    "name": "ipython",
    "version": 3
   },
   "file_extension": ".py",
   "mimetype": "text/x-python",
   "name": "python",
   "nbconvert_exporter": "python",
   "pygments_lexer": "ipython3",
   "version": "3.7.3"
  },
  "toc": {
   "base_numbering": 1,
   "nav_menu": {},
   "number_sections": true,
   "sideBar": true,
   "skip_h1_title": false,
   "title_cell": "Table of Contents",
   "title_sidebar": "Contents",
   "toc_cell": false,
   "toc_position": {
    "height": "calc(100% - 180px)",
    "left": "10px",
    "top": "150px",
    "width": "371.594px"
   },
   "toc_section_display": true,
   "toc_window_display": true
  },
  "varInspector": {
   "cols": {
    "lenName": 16,
    "lenType": 16,
    "lenVar": 40
   },
   "kernels_config": {
    "python": {
     "delete_cmd_postfix": "",
     "delete_cmd_prefix": "del ",
     "library": "var_list.py",
     "varRefreshCmd": "print(var_dic_list())"
    },
    "r": {
     "delete_cmd_postfix": ") ",
     "delete_cmd_prefix": "rm(",
     "library": "var_list.r",
     "varRefreshCmd": "cat(var_dic_list()) "
    }
   },
   "types_to_exclude": [
    "module",
    "function",
    "builtin_function_or_method",
    "instance",
    "_Feature"
   ],
   "window_display": false
  }
 },
 "nbformat": 4,
 "nbformat_minor": 4
}
