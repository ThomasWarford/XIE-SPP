{
 "cells": [
  {
   "cell_type": "code",
   "execution_count": 1,
   "metadata": {
    "ExecuteTime": {
     "end_time": "2021-06-08T16:10:37.529922Z",
     "start_time": "2021-06-08T16:10:35.628297Z"
    }
   },
   "outputs": [],
   "source": [
    "from utility.utility_general import *\n",
    "from utility.util_tf import *\n",
    "from utility import util_tf\n",
    "import utility.util_plot as Plots\n",
    "import image_generator, imp, ml_tools, plots_tools\n",
    "imp.reload(image_generator)\n",
    "imp.reload(ml_tools)\n",
    "imp.reload(plots_tools)\n",
    "\n",
    "from sklearn.model_selection import train_test_split\n",
    "from sklearn.metrics import accuracy_score, classification_report, roc_auc_score, \\\n",
    "    roc_curve, auc\n",
    "import seaborn as sns"
   ]
  },
  {
   "cell_type": "markdown",
   "metadata": {},
   "source": [
    "## Initializing variables"
   ]
  },
  {
   "cell_type": "code",
   "execution_count": 2,
   "metadata": {
    "ExecuteTime": {
     "end_time": "2021-06-08T16:10:37.537140Z",
     "start_time": "2021-06-08T16:10:37.531598Z"
    }
   },
   "outputs": [
    {
     "name": "stdout",
     "output_type": "stream",
     "text": [
      "Executable     :  /home/adavar2/anaconda3/envs/tfgpu2/bin/python\n",
      "Results        :  results/root_classifier/train_root_classifier_d9\n"
     ]
    }
   ],
   "source": [
    "notebook_filename = 'train_root_classifier_d9.ipynb'\n",
    "gpu_n = 5\n",
    "data_set_num = 9\n",
    "mlp_nodes_p_layer = 13\n",
    "epochs = 20\n",
    "over_sample = True\n",
    "\n",
    "design_num = {13: 1, 7:2}\n",
    "design_num = design_num[mlp_nodes_p_layer]\n",
    "data_set_path = data_path + f'/data_sets/data_set_{data_set_num}/'\n",
    "result_dir = f'results/root_classifier/' + notebook_filename.split('.ipynb')[0]\n",
    "\n",
    "random_seed = 0\n",
    "\n",
    "tot_time_1 = datetime.now()\n",
    "gpu_device = f'/device:GPU:{gpu_n}'\n",
    "print(f'{\"Executable\": <15}: ', sys.executable)\n",
    "print(f'{\"Results\": <15}: ', result_dir)"
   ]
  },
  {
   "cell_type": "markdown",
   "metadata": {},
   "source": [
    "## Configure GPU\n",
    "* [Disable first GPU](https://www.tensorflow.org/api_docs/python/tf/config/set_visible_devices)\n",
    "* [Restrict to first GPU](https://www.tensorflow.org/guide/gpu)"
   ]
  },
  {
   "cell_type": "code",
   "execution_count": 3,
   "metadata": {
    "ExecuteTime": {
     "end_time": "2021-06-08T16:10:38.326242Z",
     "start_time": "2021-06-08T16:10:37.538494Z"
    }
   },
   "outputs": [
    {
     "name": "stdout",
     "output_type": "stream",
     "text": [
      "Total Num. GPUs Available:  6\n",
      "6 Physical GPUs, 1 Logical GPU\n",
      "\n",
      "Selected resources:\n",
      "/physical_device:CPU:0\n",
      "/physical_device:GPU:5\n"
     ]
    }
   ],
   "source": [
    "util_tf.tf_select_gpu(gpu_n)\n",
    "makedirs(result_dir, exist_ok=True)"
   ]
  },
  {
   "cell_type": "markdown",
   "metadata": {},
   "source": [
    "## Preparing data set\n",
    "### Loading files into generators"
   ]
  },
  {
   "cell_type": "code",
   "execution_count": 4,
   "metadata": {
    "ExecuteTime": {
     "end_time": "2021-06-08T16:10:38.398025Z",
     "start_time": "2021-06-08T16:10:38.329268Z"
    }
   },
   "outputs": [
    {
     "name": "stdout",
     "output_type": "stream",
     "text": [
      "Data set:  /home/adavar2/Data/syn/data_sets/data_set_9/\n",
      "Before oversampling: Tot. samples= 1,764  [Pos.= 1,464 - Neg.=   300(17.0%)]\n",
      "After oversampling: Tot. samples= 2,928  [Pos.= 1,464 - Neg.= 1,464(50.0%)]\n",
      "Train stats    : Tot. samples= 2,928  [Pos.= 1,464 - Neg.= 1,464(50.0%)]\n",
      "Dev stats      : Tot. samples=   756  [Pos.=   640 - Neg.=   116(15.3%)]\n",
      "Test stats     : Tot. samples= 1,080  [Pos.=   896 - Neg.=   184(17.0%)]\n"
     ]
    }
   ],
   "source": [
    "print('Data set: ', data_set_path)\n",
    "train_generator = image_generator.ImageGeneratorDataFrame(data_set_path + 'train.csv', over_sample=over_sample)\n",
    "test_generator = image_generator.ImageGeneratorDataFrame(data_set_path + 'test.csv')\n",
    "dev_generator = image_generator.ImageGeneratorDataFrame(data_set_path + 'dev.csv')\n",
    "\n",
    "print(f'{\"Train stats\": <15}: ', end='')\n",
    "train_generator.stats()\n",
    "print(f'{\"Dev stats\": <15}: ', end='')\n",
    "dev_generator.stats()\n",
    "print(f'{\"Test stats\": <15}: ', end='')\n",
    "test_generator.stats()"
   ]
  },
  {
   "cell_type": "markdown",
   "metadata": {},
   "source": [
    "## Creating the model"
   ]
  },
  {
   "cell_type": "code",
   "execution_count": 5,
   "metadata": {
    "ExecuteTime": {
     "end_time": "2021-06-08T16:10:39.062394Z",
     "start_time": "2021-06-08T16:10:38.399538Z"
    }
   },
   "outputs": [
    {
     "name": "stdout",
     "output_type": "stream",
     "text": [
      "Model: \"sequential\"\n",
      "_________________________________________________________________\n",
      "Layer (type)                 Output Shape              Param #   \n",
      "=================================================================\n",
      "flatten (Flatten)            (None, 6291456)           0         \n",
      "_________________________________________________________________\n",
      "dense (Dense)                (None, 13)                81788941  \n",
      "_________________________________________________________________\n",
      "dense_1 (Dense)              (None, 13)                182       \n",
      "_________________________________________________________________\n",
      "dense_2 (Dense)              (None, 13)                182       \n",
      "_________________________________________________________________\n",
      "dense_3 (Dense)              (None, 1)                 14        \n",
      "=================================================================\n",
      "Total params: 81,789,319\n",
      "Trainable params: 81,789,319\n",
      "Non-trainable params: 0\n",
      "_________________________________________________________________\n"
     ]
    }
   ],
   "source": [
    "from keras.models import Sequential\n",
    "from keras.layers import Input, Conv3D, Flatten, Dense, MaxPooling3D, Dropout\n",
    "from keras.regularizers import l2\n",
    "from keras.optimizers import Adam\n",
    "from keras.models import load_model\n",
    "from keras.callbacks import EarlyStopping, ModelCheckpoint\n",
    "from keras.utils import Sequence\n",
    "import keras.backend as K\n",
    "import models\n",
    "from keras import layers\n",
    "\n",
    "input_shape = (128, 128, 128, 3)\n",
    "\n",
    "model = Sequential()\n",
    "model.add(layers.InputLayer(input_shape=input_shape))\n",
    "\n",
    "model.add(layers.Flatten())\n",
    "model.add(layers.Dense(mlp_nodes_p_layer))\n",
    "model.add(layers.Dense(mlp_nodes_p_layer))\n",
    "model.add(layers.Dense(mlp_nodes_p_layer))\n",
    "model.add(layers.Dense(1, activation='sigmoid'))\n",
    "\n",
    "model.compile(loss='binary_crossentropy',\n",
    "              optimizer='adam',\n",
    "              metrics=['accuracy']\n",
    "              )\n",
    "\n",
    "model.summary()"
   ]
  },
  {
   "cell_type": "markdown",
   "metadata": {},
   "source": [
    "## Preparing Loggers"
   ]
  },
  {
   "cell_type": "code",
   "execution_count": 6,
   "metadata": {
    "ExecuteTime": {
     "end_time": "2021-06-08T16:10:39.068127Z",
     "start_time": "2021-06-08T16:10:39.064549Z"
    }
   },
   "outputs": [],
   "source": [
    "from keras.callbacks import CSVLogger\n",
    "\n",
    "model_checkpoint = ModelCheckpoint(\n",
    "    result_dir + '/weights{epoch:04d}.h5',\n",
    "    monitor='val_acc',\n",
    "    verbose=1,\n",
    "    #                                    save_best_only=True,\n",
    "    #                                    mode='max',\n",
    "    save_weights_only=True,\n",
    "    save_freq='epoch')\n",
    "earlystop = EarlyStopping(monitor='val_loss',\n",
    "                          min_delta=0,\n",
    "                          patience=15,\n",
    "                          verbose=1,\n",
    "                          mode='auto')\n",
    "csv_logger = CSVLogger(result_dir + '/training.log',\n",
    "                       separator=',',\n",
    "                       append=True)\n",
    "# tb_callback = tf.keras.callbacks.TensorBoard(log_dir= result_dir + \"/tensor_board_logs\",\n",
    "#                                              histogram_freq=1,\n",
    "#                                              write_graph=False,\n",
    "#                                              write_images=True,\n",
    "#                                              update_freq=1000,\n",
    "#                                              profile_batch=2,\n",
    "#                                              embeddings_freq=0,\n",
    "#                                             )\n",
    "\n",
    "\n",
    "callbacks = [earlystop, model_checkpoint, csv_logger]"
   ]
  },
  {
   "cell_type": "markdown",
   "metadata": {},
   "source": [
    "## Training"
   ]
  },
  {
   "cell_type": "code",
   "execution_count": 7,
   "metadata": {
    "ExecuteTime": {
     "end_time": "2021-06-08T17:02:20.060971Z",
     "start_time": "2021-06-08T16:10:39.069852Z"
    },
    "scrolled": true
   },
   "outputs": [
    {
     "name": "stdout",
     "output_type": "stream",
     "text": [
      "Epoch 1/20\n",
      "2928/2928 [==============================] - 187s 63ms/step - loss: 3.1273 - accuracy: 0.6930 - val_loss: 7.0811 - val_accuracy: 0.2302\n",
      "\n",
      "Epoch 00001: saving model to results/root_classifier/train_root_classifier_d9/weights0001.h5\n",
      "Epoch 2/20\n",
      "2928/2928 [==============================] - 180s 61ms/step - loss: 0.6144 - accuracy: 0.9476 - val_loss: 4.5592 - val_accuracy: 0.8770\n",
      "\n",
      "Epoch 00002: saving model to results/root_classifier/train_root_classifier_d9/weights0002.h5\n",
      "Epoch 3/20\n",
      "2928/2928 [==============================] - 181s 62ms/step - loss: 1.1227 - accuracy: 0.9727 - val_loss: 7.3484 - val_accuracy: 0.8624\n",
      "\n",
      "Epoch 00003: saving model to results/root_classifier/train_root_classifier_d9/weights0003.h5\n",
      "Epoch 4/20\n",
      "2928/2928 [==============================] - 180s 62ms/step - loss: 0.2786 - accuracy: 0.9936 - val_loss: 11.5168 - val_accuracy: 0.8056\n",
      "\n",
      "Epoch 00004: saving model to results/root_classifier/train_root_classifier_d9/weights0004.h5\n",
      "Epoch 5/20\n",
      "2928/2928 [==============================] - 178s 61ms/step - loss: 1.1148 - accuracy: 0.9903 - val_loss: 12.2971 - val_accuracy: 0.8624\n",
      "\n",
      "Epoch 00005: saving model to results/root_classifier/train_root_classifier_d9/weights0005.h5\n",
      "Epoch 6/20\n",
      "2928/2928 [==============================] - 183s 63ms/step - loss: 0.4952 - accuracy: 0.9899 - val_loss: 9.0777 - val_accuracy: 0.8201\n",
      "\n",
      "Epoch 00006: saving model to results/root_classifier/train_root_classifier_d9/weights0006.h5\n",
      "Epoch 7/20\n",
      "2928/2928 [==============================] - 184s 63ms/step - loss: 0.0049 - accuracy: 0.9992 - val_loss: 10.0120 - val_accuracy: 0.7910\n",
      "\n",
      "Epoch 00007: saving model to results/root_classifier/train_root_classifier_d9/weights0007.h5\n",
      "Epoch 8/20\n",
      "2928/2928 [==============================] - 184s 63ms/step - loss: 4.0701e-06 - accuracy: 1.0000 - val_loss: 10.5142 - val_accuracy: 0.8161\n",
      "\n",
      "Epoch 00008: saving model to results/root_classifier/train_root_classifier_d9/weights0008.h5\n",
      "Epoch 9/20\n",
      "2928/2928 [==============================] - 186s 64ms/step - loss: 3.0091e-10 - accuracy: 1.0000 - val_loss: 10.5199 - val_accuracy: 0.8161\n",
      "\n",
      "Epoch 00009: saving model to results/root_classifier/train_root_classifier_d9/weights0009.h5\n",
      "Epoch 10/20\n",
      "2928/2928 [==============================] - 191s 65ms/step - loss: 1.6869e-10 - accuracy: 1.0000 - val_loss: 10.5261 - val_accuracy: 0.8161\n",
      "\n",
      "Epoch 00010: saving model to results/root_classifier/train_root_classifier_d9/weights0010.h5\n",
      "Epoch 11/20\n",
      "2928/2928 [==============================] - 193s 66ms/step - loss: 2.9908e-10 - accuracy: 1.0000 - val_loss: 10.5304 - val_accuracy: 0.8161\n",
      "\n",
      "Epoch 00011: saving model to results/root_classifier/train_root_classifier_d9/weights0011.h5\n",
      "Epoch 12/20\n",
      "2928/2928 [==============================] - 182s 62ms/step - loss: 1.3503e-10 - accuracy: 1.0000 - val_loss: 10.5307 - val_accuracy: 0.8161\n",
      "\n",
      "Epoch 00012: saving model to results/root_classifier/train_root_classifier_d9/weights0012.h5\n",
      "Epoch 13/20\n",
      "2928/2928 [==============================] - 181s 62ms/step - loss: 2.2109e-10 - accuracy: 1.0000 - val_loss: 10.5309 - val_accuracy: 0.8161\n",
      "\n",
      "Epoch 00013: saving model to results/root_classifier/train_root_classifier_d9/weights0013.h5\n",
      "Epoch 14/20\n",
      "2928/2928 [==============================] - 175s 60ms/step - loss: 9.4586e-11 - accuracy: 1.0000 - val_loss: 10.5322 - val_accuracy: 0.8161\n",
      "\n",
      "Epoch 00014: saving model to results/root_classifier/train_root_classifier_d9/weights0014.h5\n",
      "Epoch 15/20\n",
      "2928/2928 [==============================] - 175s 60ms/step - loss: 1.0562e-10 - accuracy: 1.0000 - val_loss: 10.5350 - val_accuracy: 0.8161\n",
      "\n",
      "Epoch 00015: saving model to results/root_classifier/train_root_classifier_d9/weights0015.h5\n",
      "Epoch 16/20\n",
      "2928/2928 [==============================] - 172s 59ms/step - loss: 1.2102e-10 - accuracy: 1.0000 - val_loss: 10.5483 - val_accuracy: 0.8161\n",
      "\n",
      "Epoch 00016: saving model to results/root_classifier/train_root_classifier_d9/weights0016.h5\n",
      "Epoch 17/20\n",
      "2928/2928 [==============================] - 169s 58ms/step - loss: 6.6709e-11 - accuracy: 1.0000 - val_loss: 10.5969 - val_accuracy: 0.8161\n",
      "\n",
      "Epoch 00017: saving model to results/root_classifier/train_root_classifier_d9/weights0017.h5\n",
      "Epoch 00017: early stopping\n",
      "End of the training. Run time: 0:51:40\n"
     ]
    }
   ],
   "source": [
    "time_1 = datetime.now()\n",
    "util_tf.random_seed(random_seed)\n",
    "\n",
    "with tf.device(gpu_device):\n",
    "    history = model.fit(\n",
    "        train_generator, \n",
    "        steps_per_epoch=len(train_generator),\n",
    "        epochs=epochs,\n",
    "        validation_data=dev_generator,\n",
    "        validation_steps=len(dev_generator),\n",
    "        callbacks=callbacks,\n",
    "        verbose=1,\n",
    "#         use_multiprocessing=True,\n",
    "#         workers=32,\n",
    "#         max_queue_size=20,\n",
    "                                 )\n",
    "    \n",
    "time_2 = datetime.now()\n",
    "print('End of the training. Run time:', str(time_2-time_1)[:-7])"
   ]
  },
  {
   "cell_type": "code",
   "execution_count": 8,
   "metadata": {
    "ExecuteTime": {
     "end_time": "2021-06-08T17:02:27.636957Z",
     "start_time": "2021-06-08T17:02:20.062691Z"
    }
   },
   "outputs": [],
   "source": [
    "model.save(result_dir + '/model.h5')\n",
    "pd.DataFrame(model.history.history).to_csv(result_dir + '/history.csv', index=False)"
   ]
  },
  {
   "cell_type": "markdown",
   "metadata": {},
   "source": [
    "### History Plots (Loss & Accuracy)"
   ]
  },
  {
   "cell_type": "code",
   "execution_count": 9,
   "metadata": {
    "ExecuteTime": {
     "end_time": "2021-06-08T17:02:27.847080Z",
     "start_time": "2021-06-08T17:02:27.639914Z"
    }
   },
   "outputs": [
    {
     "data": {
      "image/png": "[encoded data removed]",
      "text/plain": [
       "<Figure size 792x288 with 2 Axes>"
      ]
     },
     "metadata": {
      "needs_background": "light"
     },
     "output_type": "display_data"
    }
   ],
   "source": [
    "# Plot training curves\n",
    "hist = history.history\n",
    "\n",
    "plt.figure(figsize=(11, 4))\n",
    "plt.subplot(1, 2, 1)\n",
    "plt.plot(hist[\"loss\"])\n",
    "plt.plot(hist[\"val_loss\"])\n",
    "plt.legend([\"Train\", \"Val\"])\n",
    "plt.title(\"Loss\")\n",
    "plt.subplot(1, 2, 2)\n",
    "plt.plot(hist[\"accuracy\"])\n",
    "plt.plot(hist[\"val_accuracy\"])\n",
    "plt.legend([\"Train\", \"Val\"])\n",
    "plt.title(\"Accuracy\")\n",
    "plt.show()"
   ]
  },
  {
   "cell_type": "code",
   "execution_count": 10,
   "metadata": {
    "ExecuteTime": {
     "end_time": "2021-06-08T17:02:44.811902Z",
     "start_time": "2021-06-08T17:02:27.848579Z"
    }
   },
   "outputs": [],
   "source": [
    "from keras.models import load_model\n",
    "loaded_model = load_model(result_dir + '/model.h5')"
   ]
  },
  {
   "cell_type": "code",
   "execution_count": 11,
   "metadata": {
    "ExecuteTime": {
     "end_time": "2021-06-08T17:02:46.595876Z",
     "start_time": "2021-06-08T17:02:44.813907Z"
    }
   },
   "outputs": [
    {
     "data": {
      "application/javascript": [
       "IPython.notebook.save_checkpoint();"
      ],
      "text/plain": [
       "<IPython.core.display.Javascript object>"
      ]
     },
     "metadata": {},
     "output_type": "display_data"
    },
    {
     "name": "stdout",
     "output_type": "stream",
     "text": [
      "[NbConvertApp] Converting notebook train_root_classifier_d9.ipynb to html\n",
      "[NbConvertApp] Writing 648138 bytes to results/root_classifier/train_root_classifier_d9/train_root_classifier_d9.html\n"
     ]
    }
   ],
   "source": [
    "from IPython.display import display, Javascript\n",
    "display(Javascript('IPython.notebook.save_checkpoint();'))\n",
    "!cp $notebook_filename $result_dir/\n",
    "!jupyter nbconvert $notebook_filename --to html --output-dir $result_dir"
   ]
  },
  {
   "cell_type": "markdown",
   "metadata": {},
   "source": [
    "### Evaluating the test set"
   ]
  },
  {
   "cell_type": "code",
   "execution_count": 12,
   "metadata": {
    "ExecuteTime": {
     "end_time": "2021-06-08T17:02:57.352522Z",
     "start_time": "2021-06-08T17:02:46.600184Z"
    }
   },
   "outputs": [],
   "source": [
    "# Loading the trained model\n",
    "\n",
    "from keras.models import load_model\n",
    "\n",
    "trained_model = load_model(result_dir + '/model.h5')\n",
    "trained_model.load_weights(result_dir + '/weights0006.h5')"
   ]
  },
  {
   "cell_type": "code",
   "execution_count": 13,
   "metadata": {
    "ExecuteTime": {
     "end_time": "2021-06-08T17:03:48.254522Z",
     "start_time": "2021-06-08T17:02:57.354446Z"
    }
   },
   "outputs": [
    {
     "name": "stdout",
     "output_type": "stream",
     "text": [
      "1080/1080 [==============================] - 51s 47ms/step\n"
     ]
    }
   ],
   "source": [
    "# Evaluating the test data\n",
    "\n",
    "with tf.device(gpu_device):\n",
    "    yp = trained_model.predict(\n",
    "        test_generator, \n",
    "        steps=len(test_generator),\n",
    "        verbose=1,\n",
    "#         use_multiprocessing=True,\n",
    "#         workers=32,\n",
    "        max_queue_size=10,\n",
    "                                 )\n",
    "    \n",
    "yp_test = pd.DataFrame({\n",
    "    'y': test_generator.get_labels(),\n",
    "    'yp': yp.flatten(), #* 2 - 1\n",
    "    'ypl': np.sign(np.sign(yp.flatten() - 0.5) + .5),\n",
    "})\n",
    "yp_test.to_csv(result_dir + '/yp_test.csv', index=False)"
   ]
  },
  {
   "cell_type": "markdown",
   "metadata": {},
   "source": [
    "### ROC curve"
   ]
  },
  {
   "cell_type": "code",
   "execution_count": 14,
   "metadata": {
    "ExecuteTime": {
     "end_time": "2021-06-08T17:03:48.602221Z",
     "start_time": "2021-06-08T17:03:48.256012Z"
    }
   },
   "outputs": [
    {
     "name": "stdout",
     "output_type": "stream",
     "text": [
      "Test accuracy (samples=1,080) = 80.46%\n"
     ]
    },
    {
     "data": {
      "image/png": "[encoded data removed]",
      "text/plain": [
       "<Figure size 288x288 with 2 Axes>"
      ]
     },
     "metadata": {
      "needs_background": "light"
     },
     "output_type": "display_data"
    }
   ],
   "source": [
    "# Metrics on test data\n",
    "yp_test = pd.read_csv(result_dir + '/yp_test.csv')\n",
    "\n",
    "print('Test accuracy (samples={:,}) = {:.2f}%'.\n",
    "      format(len(yp_test), 100 * accuracy_score(yp_test['y'], yp_test['ypl'])))\n",
    "ml_tools.plot_roc_curve(y=yp_test['y'], yp=yp_test['yp'])\n",
    "plt.title('Test ROC')\n",
    "pass"
   ]
  },
  {
   "cell_type": "markdown",
   "metadata": {
    "ExecuteTime": {
     "end_time": "2021-04-14T22:09:01.406925Z",
     "start_time": "2021-04-14T22:00:15.793Z"
    }
   },
   "source": [
    "## Testing different data sets"
   ]
  },
  {
   "cell_type": "code",
   "execution_count": 15,
   "metadata": {
    "ExecuteTime": {
     "end_time": "2021-06-08T17:05:48.412601Z",
     "start_time": "2021-06-08T17:03:48.603976Z"
    }
   },
   "outputs": [
    {
     "name": "stdout",
     "output_type": "stream",
     "text": [
      "2569/2569 [==============================] - 120s 47ms/step\n"
     ]
    }
   ],
   "source": [
    "df_cs = pd.read_csv(data_path + '/data_sets/electrode_thermoelectric_materials.csv')\n",
    "cs_generator = image_generator.ImageGeneratorDataFrame(df_cs)\n",
    "\n",
    "util_tf.random_seed(random_seed)\n",
    "with tf.device(gpu_device):\n",
    "    yp = trained_model.predict(\n",
    "        cs_generator, \n",
    "        steps=len(cs_generator),\n",
    "        verbose=1,\n",
    "        max_queue_size=10,\n",
    "    )"
   ]
  },
  {
   "cell_type": "code",
   "execution_count": 16,
   "metadata": {
    "ExecuteTime": {
     "end_time": "2021-06-08T17:05:48.431499Z",
     "start_time": "2021-06-08T17:05:48.415488Z"
    }
   },
   "outputs": [],
   "source": [
    "yp_cs = pd.DataFrame({\n",
    "    'type': df_cs['type'],\n",
    "    'db': df_cs['db'],\n",
    "    'y': cs_generator.get_labels(),\n",
    "    'yp': yp.flatten(), #* 2 - 1\n",
    "    'ypl': np.sign(np.sign(yp.flatten() - 0.5) + .5),\n",
    "    'file': df_cs['file'],\n",
    "})\n",
    "yp_cs.to_csv(result_dir + '/yp_cs.csv', index=False)"
   ]
  },
  {
   "cell_type": "markdown",
   "metadata": {},
   "source": [
    "### Electrode - COD materials"
   ]
  },
  {
   "cell_type": "code",
   "execution_count": 17,
   "metadata": {
    "ExecuteTime": {
     "end_time": "2021-06-08T17:05:48.611665Z",
     "start_time": "2021-06-08T17:05:48.434506Z"
    }
   },
   "outputs": [
    {
     "name": "stdout",
     "output_type": "stream",
     "text": [
      "Data set cod size = 264\n",
      "Data set mp size = 1,824\n"
     ]
    },
    {
     "data": {
      "image/png": "[encoded data removed]",
      "text/plain": [
       "<Figure size 425.197x262.786 with 1 Axes>"
      ]
     },
     "metadata": {
      "needs_background": "light"
     },
     "output_type": "display_data"
    }
   ],
   "source": [
    "yp_cs = pd.read_csv(result_dir + '/yp_cs.csv')\n",
    "df = yp_cs[yp_cs['type']=='electrode']\n",
    "plots_tools.plot_electrode_thermoelectric_distribution(df)"
   ]
  },
  {
   "cell_type": "markdown",
   "metadata": {},
   "source": [
    "### Thermoelectric - COD materials"
   ]
  },
  {
   "cell_type": "code",
   "execution_count": 18,
   "metadata": {
    "ExecuteTime": {
     "end_time": "2021-06-08T17:05:48.790172Z",
     "start_time": "2021-06-08T17:05:48.614656Z"
    }
   },
   "outputs": [
    {
     "name": "stdout",
     "output_type": "stream",
     "text": [
      "Data set cod size = 56\n",
      "Data set mp size = 66\n"
     ]
    },
    {
     "data": {
      "image/png": "[encoded data removed]",
      "text/plain": [
       "<Figure size 425.197x262.786 with 1 Axes>"
      ]
     },
     "metadata": {
      "needs_background": "light"
     },
     "output_type": "display_data"
    }
   ],
   "source": [
    "df = yp_cs[yp_cs['type']=='thermoelectric']\n",
    "plots_tools.plot_electrode_thermoelectric_distribution(df)"
   ]
  },
  {
   "cell_type": "markdown",
   "metadata": {},
   "source": [
    "## Saving the notebook and release GPU"
   ]
  },
  {
   "cell_type": "code",
   "execution_count": 19,
   "metadata": {
    "ExecuteTime": {
     "end_time": "2021-06-08T17:05:49.434601Z",
     "start_time": "2021-06-08T17:05:48.791926Z"
    }
   },
   "outputs": [
    {
     "name": "stdout",
     "output_type": "stream",
     "text": [
      "End of the training. Run time: 0:55:11\n"
     ]
    }
   ],
   "source": [
    "util_tf.tf_reset_gpu() # Releasing allocated GPUs\n",
    "tot_time_2 = datetime.now()\n",
    "print('End of the training. Run time:', str(tot_time_2-tot_time_1)[:-7])"
   ]
  },
  {
   "cell_type": "code",
   "execution_count": null,
   "metadata": {
    "ExecuteTime": {
     "start_time": "2021-06-08T16:10:36.563Z"
    }
   },
   "outputs": [
    {
     "data": {
      "application/javascript": [
       "IPython.notebook.save_checkpoint();"
      ],
      "text/plain": [
       "<IPython.core.display.Javascript object>"
      ]
     },
     "metadata": {},
     "output_type": "display_data"
    },
    {
     "name": "stdout",
     "output_type": "stream",
     "text": [
      "[NbConvertApp] Converting notebook train_root_classifier_d9.ipynb to html\n",
      "[NbConvertApp] Writing 712597 bytes to results/root_classifier/train_root_classifier_d9/train_root_classifier_d9.html\n"
     ]
    }
   ],
   "source": [
    "from IPython.display import display, Javascript\n",
    "display(Javascript('IPython.notebook.save_checkpoint();')) # Saving the notebook\n",
    "!cp $notebook_filename $result_dir/\n",
    "!jupyter nbconvert $notebook_filename --to html --output-dir $result_dir\n",
    "\n",
    "# Saving other python files into a tarfile\n",
    "import tarfile\n",
    "with tarfile.open(f'{result_dir}/codes.tar', \"w\") as tar:\n",
    "    py_files = list_all_files('./', pattern='*.py', recursive=False)\n",
    "    py_files += list_all_files('./utility/', pattern='*.py', recursive=False)\n",
    "    for f in py_files:\n",
    "        tar.add(f, arcname=os.path.basename(f))\n",
    "display(Javascript('IPython.notebook.save_checkpoint();')) # Saving the notebook"
   ]
  }
 ],
 "metadata": {
  "kernelspec": {
   "display_name": "tfgpu2",
   "language": "python",
   "name": "tfgpu2"
  },
  "language_info": {
   "codemirror_mode": {
    "name": "ipython",
    "version": 3
   },
   "file_extension": ".py",
   "mimetype": "text/x-python",
   "name": "python",
   "nbconvert_exporter": "python",
   "pygments_lexer": "ipython3",
   "version": "3.7.10"
  },
  "toc": {
   "base_numbering": 1,
   "nav_menu": {},
   "number_sections": true,
   "sideBar": true,
   "skip_h1_title": false,
   "title_cell": "Table of Contents",
   "title_sidebar": "Contents",
   "toc_cell": false,
   "toc_position": {
    "height": "calc(100% - 180px)",
    "left": "10px",
    "top": "150px",
    "width": "192.275px"
   },
   "toc_section_display": true,
   "toc_window_display": true
  },
  "varInspector": {
   "cols": {
    "lenName": 16,
    "lenType": 16,
    "lenVar": 40
   },
   "kernels_config": {
    "python": {
     "delete_cmd_postfix": "",
     "delete_cmd_prefix": "del ",
     "library": "var_list.py",
     "varRefreshCmd": "print(var_dic_list())"
    },
    "r": {
     "delete_cmd_postfix": ") ",
     "delete_cmd_prefix": "rm(",
     "library": "var_list.r",
     "varRefreshCmd": "cat(var_dic_list()) "
    }
   },
   "types_to_exclude": [
    "module",
    "function",
    "builtin_function_or_method",
    "instance",
    "_Feature"
   ],
   "window_display": false
  }
 },
 "nbformat": 4,
 "nbformat_minor": 4
}
