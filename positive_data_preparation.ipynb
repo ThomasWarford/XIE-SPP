{
 "cells": [
  {
   "cell_type": "markdown",
   "metadata": {},
   "source": [
    "### Preparing conda environment \n",
    "~~~\n",
    "conda create -n synthesis python=3.7 -y\n",
    "conda activate synthesis\n",
    "pip install pandas numpy\n",
    "pip install ase==3.21.1\n",
    "\n",
    "~~~\n",
    "\n",
    "### Creating a SQL database of the COD (Do the SQLite instead)\n",
    "```sh\n",
    "sudo apt-get --purge remove mysql-server mysql-common mysql-client\n",
    "sudo apt update && sudo apt dist-upgrade && sudo apt autoremove\n",
    "sudo apt-get install -y mysql-server mysql-client\n",
    "\n",
    "# Go to the directory where you have unpacked cod-cifs-mysql.tgz:\n",
    "cd Local_Data/syn/data_bases/cod/mysql/\n",
    "sudo mysql -u root -p\n",
    "```\n",
    "~~~sql\n",
    "mysql> create database cod default character set utf8;\n",
    "mysql> use cod;\n",
    "mysql> SOURCE ./data.sql;\n",
    "mysql> ALTER TABLE data DISABLE KEYS;\n",
    "mysql> LOAD DATA LOCAL INFILE 'data.txt' INTO TABLE data CHARACTER SET utf8 FIELDS TERMINATED BY '\\t';\n",
    "mysql> ALTER TABLE data ENABLE KEYS;\n",
    "mysql> quit\n",
    "~~~\n",
    "\n",
    "### [Creating a SQLite database of the COD](https://wiki.crystallography.net/creatingSQLdatabase/)\n",
    "\n",
    "~~~sh\n",
    "sudo apt-get install sqlite3 libsql-translator-perl\n",
    "~~~\n",
    "Go to the directory where you have unpacked cod-cifs-mysql.tgz:\n",
    "~~~sql\n",
    "sqlt -f MySQL -t SQLite data.sql | sqlite3 cod.db\n",
    "~~~\n",
    "\n",
    "**remove \\ before the \\$ sign in the following line**\n",
    "Should be: perl -pe 's/\"/\\\\\"/g; s/\\\\\\n$/\\\\n/' data.txt > data.txt.sqlite \n",
    "\n",
    "~~~sql\n",
    "perl -pe 's/\"/\\\\\"/g; s/\\\\\\n\\$/\\\\n/' data.txt > data.txt.sqlite \n",
    "sqlite3 -separator \"$(echo -e \"\\t\")\" cod.db '.import data.txt.sqlite data'\n",
    "\n",
    "# The database which is created is in the file 'cod.db'. \n",
    "# You can now query it:\n",
    "sqlite3 cod.db 'select count(*) from data'\n",
    "~~~\n"
   ]
  },
  {
   "cell_type": "code",
   "execution_count": 2,
   "metadata": {
    "ExecuteTime": {
     "end_time": "2021-06-02T08:16:59.590407Z",
     "start_time": "2021-06-02T08:16:59.085412Z"
    }
   },
   "outputs": [
    {
     "name": "stdout",
     "output_type": "stream",
     "text": [
      "Results:  results/data_preparation/run_002\n"
     ]
    }
   ],
   "source": [
    "from utility.utility_general import *\n",
    "from ase.formula import Formula\n",
    "from ase.spacegroup import Spacegroup\n",
    "import ase\n",
    "import imp\n",
    "from tqdm import tqdm, tqdm_notebook\n",
    "import crystals_tools\n",
    "from joblib import Parallel, delayed\n",
    "imp.reload(crystals_tools)\n",
    "\n",
    "notebook_filename = 'positive_data_preparation.ipynb'\n",
    "result_dir = os.path.expanduser('results/data_preparation/run_002')\n",
    "print('Results: ', result_dir)"
   ]
  },
  {
   "cell_type": "markdown",
   "metadata": {},
   "source": [
    "## Gathering all the information from the COD's CIF files"
   ]
  },
  {
   "cell_type": "code",
   "execution_count": 2,
   "metadata": {
    "ExecuteTime": {
     "end_time": "2021-05-04T16:42:57.707943Z",
     "start_time": "2021-05-04T16:42:56.539888Z"
    }
   },
   "outputs": [
    {
     "name": "stdout",
     "output_type": "stream",
     "text": [
      "COD CIF files: 454,771\n"
     ]
    }
   ],
   "source": [
    "cif_files = list_all_files(f'{local_data_path}/data_bases/cod/cif',\n",
    "                           pattern='**/*.cif')\n",
    "print(f'COD CIF files: {len(cif_files):,}')"
   ]
  },
  {
   "cell_type": "markdown",
   "metadata": {},
   "source": [
    "### Reading CIF files"
   ]
  },
  {
   "cell_type": "code",
   "execution_count": 3,
   "metadata": {
    "ExecuteTime": {
     "end_time": "2021-05-04T17:20:03.996869Z",
     "start_time": "2021-05-04T16:43:02.452227Z"
    }
   },
   "outputs": [
    {
     "name": "stderr",
     "output_type": "stream",
     "text": [
      "                                                   \r"
     ]
    },
    {
     "name": "stdout",
     "output_type": "stream",
     "text": [
      "Finished converting to Atom Objects. Run time: 0:37:01\n"
     ]
    }
   ],
   "source": [
    "time_1 = datetime.now()\n",
    "n = 500\n",
    "files_split = [cif_files[i:i + n] for i in range(0, len(cif_files), n)]\n",
    "iterable = files_split\n",
    "# output = Parallel(n_jobs=5, verbose=1, backend=\"threading\")(map(parallel_read, iterable))\n",
    "from tqdm import tqdm\n",
    "output = Parallel(n_jobs=64)(\n",
    "    delayed(crystals_tools.cif_parser)(it, error_ok=True)\n",
    "    for it in tqdm(iterable, leave=False, position=0))\n",
    "# run_in_parallel(parallel_read, iterable, n_jobs=20)\n",
    "time_2 = datetime.now()\n",
    "print('Finished converting to Atom Objects. Run time:',\n",
    "      str(time_2 - time_1)[:-7])"
   ]
  },
  {
   "cell_type": "code",
   "execution_count": 4,
   "metadata": {
    "ExecuteTime": {
     "end_time": "2021-05-04T17:24:25.776560Z",
     "start_time": "2021-05-04T17:20:03.999682Z"
    }
   },
   "outputs": [
    {
     "name": "stdout",
     "output_type": "stream",
     "text": [
      "Saving the results: \n",
      "/home/adavar2/Data/syn/data_bases/cod/cif_pickle/000.pkl\n",
      "/home/adavar2/Data/syn/data_bases/cod/cif_pickle/001.pkl\n",
      "/home/adavar2/Data/syn/data_bases/cod/cif_pickle/002.pkl\n",
      "/home/adavar2/Data/syn/data_bases/cod/cif_pickle/003.pkl\n",
      "/home/adavar2/Data/syn/data_bases/cod/cif_pickle/004.pkl\n",
      "/home/adavar2/Data/syn/data_bases/cod/cif_pickle/005.pkl\n",
      "/home/adavar2/Data/syn/data_bases/cod/cif_pickle/006.pkl\n",
      "/home/adavar2/Data/syn/data_bases/cod/cif_pickle/007.pkl\n",
      "/home/adavar2/Data/syn/data_bases/cod/cif_pickle/008.pkl\n",
      "/home/adavar2/Data/syn/data_bases/cod/cif_pickle/009.pkl\n"
     ]
    }
   ],
   "source": [
    "print(f'Saving the results: {data_path}/data_bases/cod/cif_pickle/')\n",
    "crystals = [item for sublist in output for item in sublist]\n",
    "save_var(crystals,\n",
    "         f'{data_path}/data_bases/cod/cif_pickle/all.pkl',\n",
    "         make_path=True)\n",
    "\n",
    "ind = np.linspace(0, len(crystals), 11, dtype=int)\n",
    "for i in range(len(ind) - 1):\n",
    "    path = f'{data_path}/data_bases/cod/cif_pickle/{i:03}.pkl'\n",
    "    print(path)\n",
    "    save_var(crystals[ind[i]:ind[i + 1]], path)"
   ]
  },
  {
   "cell_type": "code",
   "execution_count": 143,
   "metadata": {
    "ExecuteTime": {
     "end_time": "2021-05-06T13:42:47.947749Z",
     "start_time": "2021-05-06T13:41:01.579419Z"
    }
   },
   "outputs": [],
   "source": [
    "crystals = load_var(f'{data_path}/data_bases/cod/cif_pickle/all.pkl')"
   ]
  },
  {
   "cell_type": "markdown",
   "metadata": {},
   "source": [
    "### Processing"
   ]
  },
  {
   "cell_type": "code",
   "execution_count": 165,
   "metadata": {
    "ExecuteTime": {
     "end_time": "2021-05-06T14:45:56.347550Z",
     "start_time": "2021-05-06T14:19:04.334522Z"
    }
   },
   "outputs": [
    {
     "data": {
      "application/vnd.jupyter.widget-view+json": {
       "model_id": "8da792cba4344aaea740e6efbc44d487",
       "version_major": 2,
       "version_minor": 0
      },
      "text/plain": [
       "HBox(children=(IntProgress(value=0, max=454771), HTML(value='')))"
      ]
     },
     "metadata": {},
     "output_type": "display_data"
    }
   ],
   "source": [
    "# for it in crystals[:10]:\n",
    "# #     print(it)\n",
    "#     crystals_tools.atoms_find_min_dist(it, return_dict=True, ok_error=True)\n",
    "\n",
    "min_dist = Parallel(n_jobs=64)(delayed(crystals_tools.atoms_find_min_dist)\n",
    "                             (it, return_dict=True, ok_error=True) \n",
    "                             for it in tqdm_notebook(crystals))\n",
    "\n",
    "min_dist_df = pd.DataFrame(min_dist)\n",
    "save_var(min_dist_df, 'tmp/min_dist_df.pkl')"
   ]
  },
  {
   "cell_type": "code",
   "execution_count": 193,
   "metadata": {
    "ExecuteTime": {
     "end_time": "2021-05-06T15:05:06.602005Z",
     "start_time": "2021-05-06T15:03:04.754175Z"
    },
    "scrolled": true
   },
   "outputs": [
    {
     "data": {
      "application/vnd.jupyter.widget-view+json": {
       "model_id": "e46cb74d3211447385bd64cc5481bd2c",
       "version_major": 2,
       "version_minor": 0
      },
      "text/plain": [
       "HBox(children=(IntProgress(value=1, bar_style='info', max=1), HTML(value='')))"
      ]
     },
     "metadata": {},
     "output_type": "display_data"
    },
    {
     "data": {
      "text/html": [
       "<div>\n",
       "<style scoped>\n",
       "    .dataframe tbody tr th:only-of-type {\n",
       "        vertical-align: middle;\n",
       "    }\n",
       "\n",
       "    .dataframe tbody tr th {\n",
       "        vertical-align: top;\n",
       "    }\n",
       "\n",
       "    .dataframe thead th {\n",
       "        text-align: right;\n",
       "    }\n",
       "</style>\n",
       "<table border=\"1\" class=\"dataframe\">\n",
       "  <thead>\n",
       "    <tr style=\"text-align: right;\">\n",
       "      <th></th>\n",
       "      <th>id</th>\n",
       "      <th>spacegroup</th>\n",
       "      <th>formula</th>\n",
       "      <th>minimum occupancy</th>\n",
       "      <th>error</th>\n",
       "      <th>db</th>\n",
       "      <th>filename</th>\n",
       "      <th>min_atomic_dist</th>\n",
       "    </tr>\n",
       "  </thead>\n",
       "  <tbody>\n",
       "    <tr>\n",
       "      <th>0</th>\n",
       "      <td>1000000</td>\n",
       "      <td>14    P 21/c\\n  setting 1\\n  centrosymmetric 1...</td>\n",
       "      <td>C20H68Al4N8O32P8</td>\n",
       "      <td>1.000</td>\n",
       "      <td>False</td>\n",
       "      <td>cod</td>\n",
       "      <td>/home/adavar2/Local_Data/syn/data_bases/cod/ci...</td>\n",
       "      <td>0.819938</td>\n",
       "    </tr>\n",
       "    <tr>\n",
       "      <th>1</th>\n",
       "      <td>1000001</td>\n",
       "      <td>19    P 21 21 21\\n  setting 1\\n  centrosymmetr...</td>\n",
       "      <td>C428H568N56O104</td>\n",
       "      <td>1.000</td>\n",
       "      <td>False</td>\n",
       "      <td>cod</td>\n",
       "      <td>/home/adavar2/Local_Data/syn/data_bases/cod/ci...</td>\n",
       "      <td>0.894671</td>\n",
       "    </tr>\n",
       "    <tr>\n",
       "      <th>2</th>\n",
       "      <td>1000002</td>\n",
       "      <td>14    P 21/c\\n  setting 1\\n  centrosymmetric 1...</td>\n",
       "      <td>C12H12O28Sr4</td>\n",
       "      <td>1.000</td>\n",
       "      <td>False</td>\n",
       "      <td>cod</td>\n",
       "      <td>/home/adavar2/Local_Data/syn/data_bases/cod/ci...</td>\n",
       "      <td>0.635776</td>\n",
       "    </tr>\n",
       "    <tr>\n",
       "      <th>3</th>\n",
       "      <td>1000003</td>\n",
       "      <td>14    P 21/c\\n  setting 1\\n  centrosymmetric 1...</td>\n",
       "      <td>C12O24Sr4</td>\n",
       "      <td>1.000</td>\n",
       "      <td>False</td>\n",
       "      <td>cod</td>\n",
       "      <td>/home/adavar2/Local_Data/syn/data_bases/cod/ci...</td>\n",
       "      <td>1.174074</td>\n",
       "    </tr>\n",
       "    <tr>\n",
       "      <th>4</th>\n",
       "      <td>1000004</td>\n",
       "      <td>2     P -1\\n  setting 1\\n  centrosymmetric 1\\n...</td>\n",
       "      <td>C58H60Cu2I2P4</td>\n",
       "      <td>1.000</td>\n",
       "      <td>False</td>\n",
       "      <td>cod</td>\n",
       "      <td>/home/adavar2/Local_Data/syn/data_bases/cod/ci...</td>\n",
       "      <td>0.929547</td>\n",
       "    </tr>\n",
       "    <tr>\n",
       "      <th>...</th>\n",
       "      <td>...</td>\n",
       "      <td>...</td>\n",
       "      <td>...</td>\n",
       "      <td>...</td>\n",
       "      <td>...</td>\n",
       "      <td>...</td>\n",
       "      <td>...</td>\n",
       "      <td>...</td>\n",
       "    </tr>\n",
       "    <tr>\n",
       "      <th>454766</th>\n",
       "      <td>9016726</td>\n",
       "      <td>166   R -3 m\\n  setting 1\\n  centrosymmetric 1...</td>\n",
       "      <td>Cl6Fe3</td>\n",
       "      <td>1.000</td>\n",
       "      <td>False</td>\n",
       "      <td>cod</td>\n",
       "      <td>/home/adavar2/Local_Data/syn/data_bases/cod/ci...</td>\n",
       "      <td>2.489383</td>\n",
       "    </tr>\n",
       "    <tr>\n",
       "      <th>454767</th>\n",
       "      <td>9016727</td>\n",
       "      <td>14    P 21/c\\n  setting 1\\n  centrosymmetric 1...</td>\n",
       "      <td>Ag4Mn4Pb12S48Sb20</td>\n",
       "      <td>0.049</td>\n",
       "      <td>False</td>\n",
       "      <td>cod</td>\n",
       "      <td>/home/adavar2/Local_Data/syn/data_bases/cod/ci...</td>\n",
       "      <td>2.415235</td>\n",
       "    </tr>\n",
       "    <tr>\n",
       "      <th>454768</th>\n",
       "      <td>9016728</td>\n",
       "      <td>167   R -3 c\\n  setting 1\\n  centrosymmetric 1...</td>\n",
       "      <td>Cr12O18</td>\n",
       "      <td>1.000</td>\n",
       "      <td>False</td>\n",
       "      <td>cod</td>\n",
       "      <td>/home/adavar2/Local_Data/syn/data_bases/cod/ci...</td>\n",
       "      <td>1.964360</td>\n",
       "    </tr>\n",
       "    <tr>\n",
       "      <th>454769</th>\n",
       "      <td>9016729</td>\n",
       "      <td>None</td>\n",
       "      <td>None</td>\n",
       "      <td>NaN</td>\n",
       "      <td>True</td>\n",
       "      <td>cod</td>\n",
       "      <td>/home/adavar2/Local_Data/syn/data_bases/cod/ci...</td>\n",
       "      <td>0.000000</td>\n",
       "    </tr>\n",
       "    <tr>\n",
       "      <th>454770</th>\n",
       "      <td>9016730</td>\n",
       "      <td>205   P a -3\\n  setting 1\\n  centrosymmetric 1...</td>\n",
       "      <td>Au4Sb8</td>\n",
       "      <td>1.000</td>\n",
       "      <td>False</td>\n",
       "      <td>cod</td>\n",
       "      <td>/home/adavar2/Local_Data/syn/data_bases/cod/ci...</td>\n",
       "      <td>2.762416</td>\n",
       "    </tr>\n",
       "  </tbody>\n",
       "</table>\n",
       "<p>454771 rows × 8 columns</p>\n",
       "</div>"
      ],
      "text/plain": [
       "             id                                         spacegroup  \\\n",
       "0       1000000  14    P 21/c\\n  setting 1\\n  centrosymmetric 1...   \n",
       "1       1000001  19    P 21 21 21\\n  setting 1\\n  centrosymmetr...   \n",
       "2       1000002  14    P 21/c\\n  setting 1\\n  centrosymmetric 1...   \n",
       "3       1000003  14    P 21/c\\n  setting 1\\n  centrosymmetric 1...   \n",
       "4       1000004  2     P -1\\n  setting 1\\n  centrosymmetric 1\\n...   \n",
       "...         ...                                                ...   \n",
       "454766  9016726  166   R -3 m\\n  setting 1\\n  centrosymmetric 1...   \n",
       "454767  9016727  14    P 21/c\\n  setting 1\\n  centrosymmetric 1...   \n",
       "454768  9016728  167   R -3 c\\n  setting 1\\n  centrosymmetric 1...   \n",
       "454769  9016729                                               None   \n",
       "454770  9016730  205   P a -3\\n  setting 1\\n  centrosymmetric 1...   \n",
       "\n",
       "                  formula  minimum occupancy  error   db  \\\n",
       "0        C20H68Al4N8O32P8              1.000  False  cod   \n",
       "1         C428H568N56O104              1.000  False  cod   \n",
       "2            C12H12O28Sr4              1.000  False  cod   \n",
       "3               C12O24Sr4              1.000  False  cod   \n",
       "4           C58H60Cu2I2P4              1.000  False  cod   \n",
       "...                   ...                ...    ...  ...   \n",
       "454766             Cl6Fe3              1.000  False  cod   \n",
       "454767  Ag4Mn4Pb12S48Sb20              0.049  False  cod   \n",
       "454768            Cr12O18              1.000  False  cod   \n",
       "454769               None                NaN   True  cod   \n",
       "454770             Au4Sb8              1.000  False  cod   \n",
       "\n",
       "                                                 filename  min_atomic_dist  \n",
       "0       /home/adavar2/Local_Data/syn/data_bases/cod/ci...         0.819938  \n",
       "1       /home/adavar2/Local_Data/syn/data_bases/cod/ci...         0.894671  \n",
       "2       /home/adavar2/Local_Data/syn/data_bases/cod/ci...         0.635776  \n",
       "3       /home/adavar2/Local_Data/syn/data_bases/cod/ci...         1.174074  \n",
       "4       /home/adavar2/Local_Data/syn/data_bases/cod/ci...         0.929547  \n",
       "...                                                   ...              ...  \n",
       "454766  /home/adavar2/Local_Data/syn/data_bases/cod/ci...         2.489383  \n",
       "454767  /home/adavar2/Local_Data/syn/data_bases/cod/ci...         2.415235  \n",
       "454768  /home/adavar2/Local_Data/syn/data_bases/cod/ci...         1.964360  \n",
       "454769  /home/adavar2/Local_Data/syn/data_bases/cod/ci...         0.000000  \n",
       "454770  /home/adavar2/Local_Data/syn/data_bases/cod/ci...         2.762416  \n",
       "\n",
       "[454771 rows x 8 columns]"
      ]
     },
     "execution_count": 193,
     "metadata": {},
     "output_type": "execute_result"
    }
   ],
   "source": [
    "ids = np.zeros((len(crystals), ), dtype=int)\n",
    "err = np.zeros((len(crystals), ), dtype=bool)\n",
    "# min_dist = np.zeros((len(crystals), ), dtype=int)\n",
    "# sg = np.array([ase.spacegroup.Spacegroup]*len(crystals))\n",
    "sg = np.array([None] * len(crystals))\n",
    "# sym = np.array([ase.symbols.Symbols]*len(crystals))\n",
    "sym = np.array([None] * len(crystals))\n",
    "occ_min = np.zeros((len(crystals), ))\n",
    "occ_min[:] = np.NaN\n",
    "files = np.array([None] * len(crystals))\n",
    "for i, at in tqdm_notebook(enumerate(crystals)):\n",
    "    if not isinstance(at, ase.atoms.Atoms):\n",
    "        ids[i] = int(at['filename'].split('/')[-1].split('.')[0])\n",
    "        files[i] = at['filename']\n",
    "        err[i] = True\n",
    "        continue\n",
    "    ids[i] = int(at.info['filename'].split('/')[-1].split('.')[0])\n",
    "    files[i] = at.info['filename']\n",
    "    sg[i] = at.info.get('spacegroup', None)\n",
    "    sym[i] = at.symbols.get_chemical_formula()\n",
    "#     min_dist[i] = crystals_tools.atoms_find_min_dist(at)\n",
    "    try:\n",
    "        occ_min[i] = min([\n",
    "            list(i.values())[0] for i in list(at.info['occupancy'].values())\n",
    "        ]) if 'occupancy' in at.info else 1\n",
    "    except Exception:\n",
    "        occ_min[i] = 0\n",
    "crystals_df = pd.DataFrame({\n",
    "    'id': ids,\n",
    "    'spacegroup': sg,\n",
    "    'formula': sym,\n",
    "#     'min atomic dist': min_dist,\n",
    "    'minimum occupancy': occ_min,\n",
    "    'error': err,\n",
    "    'db': 'cod',\n",
    "    'filename': files\n",
    "})\n",
    "\n",
    "# merging it with min_atomic_dist results\n",
    "# To check if merging works:\n",
    "# crystals_tools.atoms_find_min_dist(crystals_tools.cif_parser(crystals_df['filename'][454770]))\n",
    "crystals_df = pd.merge(crystals_df, min_dist_df, how='left', on='filename')\n",
    "\n",
    "save_var(crystals_df, f'{data_path}/data_bases/cod/cif_pickle/df.pkl')\n",
    "crystals_df"
   ]
  },
  {
   "cell_type": "code",
   "execution_count": 31,
   "metadata": {},
   "outputs": [],
   "source": [
    "crystals_df = load_var(f'{data_path}/data_bases/cod/cif_pickle/df.pkl')"
   ]
  },
  {
   "cell_type": "markdown",
   "metadata": {},
   "source": [
    "## Converting crystals with partial occupancies to supercells"
   ]
  },
  {
   "cell_type": "code",
   "execution_count": 30,
   "metadata": {},
   "outputs": [],
   "source": [
    "def cif_2_supercell(input_list,\n",
    "                    super_cell_executable=None,\n",
    "                    verbose=True,\n",
    "                    output_list=None):\n",
    "    if verbose:\n",
    "        print('Running the Supercell Program to handle the occupancies')\n",
    "    if super_cell_executable is None:\n",
    "        super_cell_executable = prepare_supercell()\n",
    "    if not isinstance(input_list, list):\n",
    "        input_list = [input_list]\n",
    "    if output_list is None:\n",
    "        output_list = [\n",
    "            i.replace('/cod/', '/cod_supercell/') for i in input_list\n",
    "        ]\n",
    "        output_list = [i.replace('.cif', '_supercell_') for i in output_list]\n",
    "\n",
    "    for i, in_file in enumerate(input_list):\n",
    "        out_file = output_list[i]\n",
    "        if not exists(in_file):\n",
    "            raise FileNotFoundError(in_file)\n",
    "\n",
    "        op = '/'.join(out_file.split('/')[:-1])\n",
    "        print(op)\n",
    "        os.makedirs(op, exist_ok=True)\n",
    "\n",
    "        if verbose:\n",
    "            print(i, out_file)\n",
    "        in_file = Command(\n",
    "            f'{super_cell_executable} -i {in_file} -o {out_file} -n r1 -v 0')\n",
    "        in_file.run(timeout=2)"
   ]
  },
  {
   "cell_type": "code",
   "execution_count": 24,
   "metadata": {
    "ExecuteTime": {
     "end_time": "2021-05-04T06:39:05.246662Z",
     "start_time": "2021-05-04T06:39:05.238049Z"
    }
   },
   "outputs": [
    {
     "name": "stdout",
     "output_type": "stream",
     "text": [
      "Crystals with partial occupancies: 142,568\n"
     ]
    }
   ],
   "source": [
    "n_po = np.count_nonzero(crystals_df['minimum occupancy'] < 1)\n",
    "print(f'Crystals with partial occupancies: {n_po:,}')"
   ]
  },
  {
   "cell_type": "code",
   "execution_count": 112,
   "metadata": {},
   "outputs": [
    {
     "data": {
      "text/html": [
       "<div>\n",
       "<style scoped>\n",
       "    .dataframe tbody tr th:only-of-type {\n",
       "        vertical-align: middle;\n",
       "    }\n",
       "\n",
       "    .dataframe tbody tr th {\n",
       "        vertical-align: top;\n",
       "    }\n",
       "\n",
       "    .dataframe thead th {\n",
       "        text-align: right;\n",
       "    }\n",
       "</style>\n",
       "<table border=\"1\" class=\"dataframe\">\n",
       "  <thead>\n",
       "    <tr style=\"text-align: right;\">\n",
       "      <th></th>\n",
       "      <th>input_file</th>\n",
       "      <th>status</th>\n",
       "      <th>output_file</th>\n",
       "    </tr>\n",
       "  </thead>\n",
       "  <tbody>\n",
       "    <tr>\n",
       "      <th>0</th>\n",
       "      <td>/home/adavar2/Local_Data/exp_syn/cod/cif/1/00/...</td>\n",
       "      <td>0</td>\n",
       "      <td>/home/adavar2/Local_Data/exp_syn/cod_supercell...</td>\n",
       "    </tr>\n",
       "    <tr>\n",
       "      <th>1</th>\n",
       "      <td>/home/adavar2/Local_Data/exp_syn/cod/cif/1/00/...</td>\n",
       "      <td>3</td>\n",
       "      <td>/home/adavar2/Local_Data/exp_syn/cod_supercell...</td>\n",
       "    </tr>\n",
       "    <tr>\n",
       "      <th>2</th>\n",
       "      <td>/home/adavar2/Local_Data/exp_syn/cod/cif/1/00/...</td>\n",
       "      <td>0</td>\n",
       "      <td>/home/adavar2/Local_Data/exp_syn/cod_supercell...</td>\n",
       "    </tr>\n",
       "    <tr>\n",
       "      <th>3</th>\n",
       "      <td>/home/adavar2/Local_Data/exp_syn/cod/cif/1/00/...</td>\n",
       "      <td>3</td>\n",
       "      <td>/home/adavar2/Local_Data/exp_syn/cod_supercell...</td>\n",
       "    </tr>\n",
       "    <tr>\n",
       "      <th>4</th>\n",
       "      <td>/home/adavar2/Local_Data/exp_syn/cod/cif/1/00/...</td>\n",
       "      <td>3</td>\n",
       "      <td>/home/adavar2/Local_Data/exp_syn/cod_supercell...</td>\n",
       "    </tr>\n",
       "  </tbody>\n",
       "</table>\n",
       "</div>"
      ],
      "text/plain": [
       "                                          input_file  status  \\\n",
       "0  /home/adavar2/Local_Data/exp_syn/cod/cif/1/00/...       0   \n",
       "1  /home/adavar2/Local_Data/exp_syn/cod/cif/1/00/...       3   \n",
       "2  /home/adavar2/Local_Data/exp_syn/cod/cif/1/00/...       0   \n",
       "3  /home/adavar2/Local_Data/exp_syn/cod/cif/1/00/...       3   \n",
       "4  /home/adavar2/Local_Data/exp_syn/cod/cif/1/00/...       3   \n",
       "\n",
       "                                         output_file  \n",
       "0  /home/adavar2/Local_Data/exp_syn/cod_supercell...  \n",
       "1  /home/adavar2/Local_Data/exp_syn/cod_supercell...  \n",
       "2  /home/adavar2/Local_Data/exp_syn/cod_supercell...  \n",
       "3  /home/adavar2/Local_Data/exp_syn/cod_supercell...  \n",
       "4  /home/adavar2/Local_Data/exp_syn/cod_supercell...  "
      ]
     },
     "execution_count": 112,
     "metadata": {},
     "output_type": "execute_result"
    }
   ],
   "source": [
    "imp.reload(supercell)\n",
    "sup_cell_inp = list(crystals_df[crystals_df['minimum occupancy'] < 1]['id'])\n",
    "sup_cell_inp = crystals_tools.crystal_id_2_relative_path(\n",
    "    sup_cell_inp, path=f'{local_data_path}cod/cif/')\n",
    "# A = supercell.cif_2_supercell(sup_cell_inp[:5], verbose=False)"
   ]
  },
  {
   "cell_type": "markdown",
   "metadata": {},
   "source": [
    "### Converting to Supercell"
   ]
  },
  {
   "cell_type": "code",
   "execution_count": null,
   "metadata": {},
   "outputs": [],
   "source": [
    "time_1 = datetime.now()\n",
    "n = 100\n",
    "files_split = split_arr_into_chunks_of_n(sup_cell_inp, n)\n",
    "iterable = files_split\n",
    "# output = Parallel(n_jobs=5, verbose=1, backend=\"threading\")(map(parallel_read, iterable))\n",
    "from tqdm import tqdm\n",
    "output = Parallel(n_jobs=20)(\n",
    "    delayed(supercell.cif_2_supercell)(it, verbose=False)\n",
    "    for it in tqdm(iterable, leave=False, position=0))\n",
    "# run_in_parallel(parallel_read, iterable, n_jobs=20)\n",
    "time_2 = datetime.now()\n",
    "print('Finished using the Supercell program. Run time:',\n",
    "      str(time_2 - time_1)[:-7])"
   ]
  },
  {
   "cell_type": "markdown",
   "metadata": {},
   "source": [
    "### Reading the generated supercells"
   ]
  },
  {
   "cell_type": "code",
   "execution_count": 6,
   "metadata": {
    "ExecuteTime": {
     "end_time": "2021-05-04T17:26:11.521440Z",
     "start_time": "2021-05-04T17:26:11.318196Z"
    }
   },
   "outputs": [
    {
     "name": "stdout",
     "output_type": "stream",
     "text": [
      "COD Supercell CIF files: 37,454\n"
     ]
    }
   ],
   "source": [
    "cif_files = list_all_files(f'{local_data_path}/data_bases/cod/cif_supercell',\n",
    "                           pattern='**/*.cif')\n",
    "print(f'COD Supercell CIF files: {len(cif_files):,}')"
   ]
  },
  {
   "cell_type": "code",
   "execution_count": 7,
   "metadata": {
    "ExecuteTime": {
     "end_time": "2021-05-04T17:27:36.276497Z",
     "start_time": "2021-05-04T17:26:11.523228Z"
    }
   },
   "outputs": [
    {
     "name": "stderr",
     "output_type": "stream",
     "text": [
      "                                                   \r"
     ]
    },
    {
     "name": "stdout",
     "output_type": "stream",
     "text": [
      "Finished converting to Atom Objects. Run time: 0:01:24\n"
     ]
    }
   ],
   "source": [
    "time_1 = datetime.now()\n",
    "n = 100\n",
    "files_split = [cif_files[i:i + n] for i in range(0, len(cif_files), n)]\n",
    "iterable = files_split\n",
    "# output = Parallel(n_jobs=5, verbose=1, backend=\"threading\")(map(parallel_read, iterable))\n",
    "from tqdm import tqdm\n",
    "output = Parallel(n_jobs=64)(\n",
    "    delayed(crystals_tools.cif_parser)(it, error_ok=True)\n",
    "    for it in tqdm(iterable, leave=False, position=0))\n",
    "# run_in_parallel(parallel_read, iterable, n_jobs=20)\n",
    "time_2 = datetime.now()\n",
    "print('Finished converting to Atom Objects. Run time:',\n",
    "      str(time_2 - time_1)[:-7])"
   ]
  },
  {
   "cell_type": "code",
   "execution_count": 8,
   "metadata": {
    "ExecuteTime": {
     "end_time": "2021-05-04T17:27:50.009165Z",
     "start_time": "2021-05-04T17:27:36.279127Z"
    }
   },
   "outputs": [
    {
     "name": "stdout",
     "output_type": "stream",
     "text": [
      "Saving the results: \n"
     ]
    }
   ],
   "source": [
    "print('Saving the results: ')\n",
    "sc_crystals = [item for sublist in output for item in sublist]\n",
    "save_var(sc_crystals,\n",
    "         f'{data_path}/data_bases/cod/cif_supercell_pickle/all.pkl',\n",
    "         make_path=True)"
   ]
  },
  {
   "cell_type": "code",
   "execution_count": 189,
   "metadata": {
    "ExecuteTime": {
     "end_time": "2021-05-06T14:57:42.536596Z",
     "start_time": "2021-05-06T14:57:36.380031Z"
    }
   },
   "outputs": [],
   "source": [
    "sc_crystals = load_var(f'{data_path}/data_bases/cod/cif_supercell_pickle/all.pkl')"
   ]
  },
  {
   "cell_type": "code",
   "execution_count": 190,
   "metadata": {
    "ExecuteTime": {
     "end_time": "2021-05-06T15:01:21.851074Z",
     "start_time": "2021-05-06T14:57:45.084586Z"
    }
   },
   "outputs": [
    {
     "data": {
      "application/vnd.jupyter.widget-view+json": {
       "model_id": "f4f410ada3054602a75ce24937318d83",
       "version_major": 2,
       "version_minor": 0
      },
      "text/plain": [
       "HBox(children=(IntProgress(value=0, max=37454), HTML(value='')))"
      ]
     },
     "metadata": {},
     "output_type": "display_data"
    }
   ],
   "source": [
    "sc_min_dist = Parallel(n_jobs=64)(delayed(crystals_tools.atoms_find_min_dist)\n",
    "                             (it, return_dict=True, ok_error=True) \n",
    "                             for it in tqdm_notebook(sc_crystals))\n",
    "\n",
    "sc_min_dist_df = pd.DataFrame(sc_min_dist)\n",
    "save_var(sc_min_dist_df, 'tmp/sc_min_dist_df.pkl')"
   ]
  },
  {
   "cell_type": "code",
   "execution_count": 194,
   "metadata": {
    "ExecuteTime": {
     "end_time": "2021-05-06T15:05:16.240915Z",
     "start_time": "2021-05-06T15:05:06.604432Z"
    },
    "scrolled": false
   },
   "outputs": [
    {
     "data": {
      "application/vnd.jupyter.widget-view+json": {
       "model_id": "a3985aa873a94c9fbc6d1ea6671eacbe",
       "version_major": 2,
       "version_minor": 0
      },
      "text/plain": [
       "HBox(children=(IntProgress(value=1, bar_style='info', max=1), HTML(value='')))"
      ]
     },
     "metadata": {},
     "output_type": "display_data"
    },
    {
     "data": {
      "text/html": [
       "<div>\n",
       "<style scoped>\n",
       "    .dataframe tbody tr th:only-of-type {\n",
       "        vertical-align: middle;\n",
       "    }\n",
       "\n",
       "    .dataframe tbody tr th {\n",
       "        vertical-align: top;\n",
       "    }\n",
       "\n",
       "    .dataframe thead th {\n",
       "        text-align: right;\n",
       "    }\n",
       "</style>\n",
       "<table border=\"1\" class=\"dataframe\">\n",
       "  <thead>\n",
       "    <tr style=\"text-align: right;\">\n",
       "      <th></th>\n",
       "      <th>id</th>\n",
       "      <th>spacegroup</th>\n",
       "      <th>formula</th>\n",
       "      <th>minimum occupancy</th>\n",
       "      <th>error</th>\n",
       "      <th>db</th>\n",
       "      <th>filename</th>\n",
       "      <th>min_atomic_dist</th>\n",
       "    </tr>\n",
       "  </thead>\n",
       "  <tbody>\n",
       "    <tr>\n",
       "      <th>0</th>\n",
       "      <td>1000023</td>\n",
       "      <td>1     P 1\\n  setting 1\\n  centrosymmetric 0\\n ...</td>\n",
       "      <td>Cu3Fe4O24P6</td>\n",
       "      <td>1.0</td>\n",
       "      <td>False</td>\n",
       "      <td>cod-sc</td>\n",
       "      <td>/home/adavar2/Local_Data/syn/data_bases/cod/ci...</td>\n",
       "      <td>1.508306</td>\n",
       "    </tr>\n",
       "    <tr>\n",
       "      <th>1</th>\n",
       "      <td>1000030</td>\n",
       "      <td>1     P 1\\n  setting 1\\n  centrosymmetric 0\\n ...</td>\n",
       "      <td>Ba2Cu3O7Y</td>\n",
       "      <td>1.0</td>\n",
       "      <td>False</td>\n",
       "      <td>cod-sc</td>\n",
       "      <td>/home/adavar2/Local_Data/syn/data_bases/cod/ci...</td>\n",
       "      <td>1.850666</td>\n",
       "    </tr>\n",
       "    <tr>\n",
       "      <th>2</th>\n",
       "      <td>1000049</td>\n",
       "      <td>1     P 1\\n  setting 1\\n  centrosymmetric 0\\n ...</td>\n",
       "      <td>K4O8S2</td>\n",
       "      <td>1.0</td>\n",
       "      <td>False</td>\n",
       "      <td>cod-sc</td>\n",
       "      <td>/home/adavar2/Local_Data/syn/data_bases/cod/ci...</td>\n",
       "      <td>1.340000</td>\n",
       "    </tr>\n",
       "    <tr>\n",
       "      <th>3</th>\n",
       "      <td>1000066</td>\n",
       "      <td>1     P 1\\n  setting 1\\n  centrosymmetric 0\\n ...</td>\n",
       "      <td>Ba2Cu2O7PdY</td>\n",
       "      <td>1.0</td>\n",
       "      <td>False</td>\n",
       "      <td>cod-sc</td>\n",
       "      <td>/home/adavar2/Local_Data/syn/data_bases/cod/ci...</td>\n",
       "      <td>1.844018</td>\n",
       "    </tr>\n",
       "    <tr>\n",
       "      <th>4</th>\n",
       "      <td>1000077</td>\n",
       "      <td>1     P 1\\n  setting 1\\n  centrosymmetric 0\\n ...</td>\n",
       "      <td>HCr12F36</td>\n",
       "      <td>1.0</td>\n",
       "      <td>False</td>\n",
       "      <td>cod-sc</td>\n",
       "      <td>/home/adavar2/Local_Data/syn/data_bases/cod/ci...</td>\n",
       "      <td>1.897003</td>\n",
       "    </tr>\n",
       "    <tr>\n",
       "      <th>...</th>\n",
       "      <td>...</td>\n",
       "      <td>...</td>\n",
       "      <td>...</td>\n",
       "      <td>...</td>\n",
       "      <td>...</td>\n",
       "      <td>...</td>\n",
       "      <td>...</td>\n",
       "      <td>...</td>\n",
       "    </tr>\n",
       "    <tr>\n",
       "      <th>37449</th>\n",
       "      <td>9016658</td>\n",
       "      <td>1     P 1\\n  setting 1\\n  centrosymmetric 0\\n ...</td>\n",
       "      <td>Mg16O32Si8</td>\n",
       "      <td>1.0</td>\n",
       "      <td>False</td>\n",
       "      <td>cod-sc</td>\n",
       "      <td>/home/adavar2/Local_Data/syn/data_bases/cod/ci...</td>\n",
       "      <td>1.660093</td>\n",
       "    </tr>\n",
       "    <tr>\n",
       "      <th>37450</th>\n",
       "      <td>9016666</td>\n",
       "      <td>1     P 1\\n  setting 1\\n  centrosymmetric 0\\n ...</td>\n",
       "      <td>H3Mg10O19Si4</td>\n",
       "      <td>1.0</td>\n",
       "      <td>False</td>\n",
       "      <td>cod-sc</td>\n",
       "      <td>/home/adavar2/Local_Data/syn/data_bases/cod/ci...</td>\n",
       "      <td>1.364036</td>\n",
       "    </tr>\n",
       "    <tr>\n",
       "      <th>37451</th>\n",
       "      <td>9016683</td>\n",
       "      <td>1     P 1\\n  setting 1\\n  centrosymmetric 0\\n ...</td>\n",
       "      <td>B190</td>\n",
       "      <td>1.0</td>\n",
       "      <td>False</td>\n",
       "      <td>cod-sc</td>\n",
       "      <td>/home/adavar2/Local_Data/syn/data_bases/cod/ci...</td>\n",
       "      <td>1.499742</td>\n",
       "    </tr>\n",
       "    <tr>\n",
       "      <th>37452</th>\n",
       "      <td>9016691</td>\n",
       "      <td>1     P 1\\n  setting 1\\n  centrosymmetric 0\\n ...</td>\n",
       "      <td>Al16Mg6O96Si24</td>\n",
       "      <td>1.0</td>\n",
       "      <td>False</td>\n",
       "      <td>cod-sc</td>\n",
       "      <td>/home/adavar2/Local_Data/syn/data_bases/cod/ci...</td>\n",
       "      <td>1.633527</td>\n",
       "    </tr>\n",
       "    <tr>\n",
       "      <th>37453</th>\n",
       "      <td>9016703</td>\n",
       "      <td>1     P 1\\n  setting 1\\n  centrosymmetric 0\\n ...</td>\n",
       "      <td>Al4Ca2O16Si4</td>\n",
       "      <td>1.0</td>\n",
       "      <td>False</td>\n",
       "      <td>cod-sc</td>\n",
       "      <td>/home/adavar2/Local_Data/syn/data_bases/cod/ci...</td>\n",
       "      <td>1.030387</td>\n",
       "    </tr>\n",
       "  </tbody>\n",
       "</table>\n",
       "<p>37454 rows × 8 columns</p>\n",
       "</div>"
      ],
      "text/plain": [
       "            id                                         spacegroup  \\\n",
       "0      1000023  1     P 1\\n  setting 1\\n  centrosymmetric 0\\n ...   \n",
       "1      1000030  1     P 1\\n  setting 1\\n  centrosymmetric 0\\n ...   \n",
       "2      1000049  1     P 1\\n  setting 1\\n  centrosymmetric 0\\n ...   \n",
       "3      1000066  1     P 1\\n  setting 1\\n  centrosymmetric 0\\n ...   \n",
       "4      1000077  1     P 1\\n  setting 1\\n  centrosymmetric 0\\n ...   \n",
       "...        ...                                                ...   \n",
       "37449  9016658  1     P 1\\n  setting 1\\n  centrosymmetric 0\\n ...   \n",
       "37450  9016666  1     P 1\\n  setting 1\\n  centrosymmetric 0\\n ...   \n",
       "37451  9016683  1     P 1\\n  setting 1\\n  centrosymmetric 0\\n ...   \n",
       "37452  9016691  1     P 1\\n  setting 1\\n  centrosymmetric 0\\n ...   \n",
       "37453  9016703  1     P 1\\n  setting 1\\n  centrosymmetric 0\\n ...   \n",
       "\n",
       "              formula  minimum occupancy  error      db  \\\n",
       "0         Cu3Fe4O24P6                1.0  False  cod-sc   \n",
       "1           Ba2Cu3O7Y                1.0  False  cod-sc   \n",
       "2              K4O8S2                1.0  False  cod-sc   \n",
       "3         Ba2Cu2O7PdY                1.0  False  cod-sc   \n",
       "4            HCr12F36                1.0  False  cod-sc   \n",
       "...               ...                ...    ...     ...   \n",
       "37449      Mg16O32Si8                1.0  False  cod-sc   \n",
       "37450    H3Mg10O19Si4                1.0  False  cod-sc   \n",
       "37451            B190                1.0  False  cod-sc   \n",
       "37452  Al16Mg6O96Si24                1.0  False  cod-sc   \n",
       "37453    Al4Ca2O16Si4                1.0  False  cod-sc   \n",
       "\n",
       "                                                filename  min_atomic_dist  \n",
       "0      /home/adavar2/Local_Data/syn/data_bases/cod/ci...         1.508306  \n",
       "1      /home/adavar2/Local_Data/syn/data_bases/cod/ci...         1.850666  \n",
       "2      /home/adavar2/Local_Data/syn/data_bases/cod/ci...         1.340000  \n",
       "3      /home/adavar2/Local_Data/syn/data_bases/cod/ci...         1.844018  \n",
       "4      /home/adavar2/Local_Data/syn/data_bases/cod/ci...         1.897003  \n",
       "...                                                  ...              ...  \n",
       "37449  /home/adavar2/Local_Data/syn/data_bases/cod/ci...         1.660093  \n",
       "37450  /home/adavar2/Local_Data/syn/data_bases/cod/ci...         1.364036  \n",
       "37451  /home/adavar2/Local_Data/syn/data_bases/cod/ci...         1.499742  \n",
       "37452  /home/adavar2/Local_Data/syn/data_bases/cod/ci...         1.633527  \n",
       "37453  /home/adavar2/Local_Data/syn/data_bases/cod/ci...         1.030387  \n",
       "\n",
       "[37454 rows x 8 columns]"
      ]
     },
     "execution_count": 194,
     "metadata": {},
     "output_type": "execute_result"
    }
   ],
   "source": [
    "ids = np.zeros((len(sc_crystals), ), dtype=int)\n",
    "err = np.zeros((len(sc_crystals), ), dtype=bool)\n",
    "# sg = np.array([ase.spacegroup.Spacegroup]*len(sc_crystals))\n",
    "sg = np.array([None] * len(sc_crystals))\n",
    "# sym = np.array([ase.symbols.Symbols]*len(sc_crystals))\n",
    "sym = np.array([None] * len(sc_crystals))\n",
    "occ_min = np.zeros((len(sc_crystals), ))\n",
    "occ_min[:] = np.NaN\n",
    "files = np.array([None] * len(sc_crystals))\n",
    "for i, at in tqdm_notebook(enumerate(sc_crystals)):\n",
    "    if not isinstance(at, ase.atoms.Atoms):\n",
    "        ids[i] = int(at['filename'].split('/')[-1].split('.')[0].split('_')[0])\n",
    "        files[i] = at['filename']\n",
    "        err[i] = True\n",
    "        continue\n",
    "    ids[i] = int(at.info['filename'].split('/')[-1].split('.')[0].split('_')[0])\n",
    "    files[i] = at.info['filename']\n",
    "    sg[i] = at.info.get('spacegroup', None)\n",
    "    sym[i] = at.symbols.get_chemical_formula()\n",
    "    try:\n",
    "        occ_min[i] = min([\n",
    "            list(i.values())[0] for i in list(at.info['occupancy'].values())\n",
    "        ]) if 'occupancy' in at.info else 1\n",
    "    except Exception:\n",
    "        occ_min[i] = 0\n",
    "sc_crystals_df = pd.DataFrame({\n",
    "    'id': ids,\n",
    "    'spacegroup': sg,\n",
    "    'formula': sym,\n",
    "    'minimum occupancy': occ_min,\n",
    "    'error': err,\n",
    "    'db': 'cod-sc',\n",
    "    'filename': files\n",
    "})\n",
    "\n",
    "# merging it with min_atomic_dist results\n",
    "# To check if merging works:\n",
    "# crystals_tools.atoms_find_min_dist(crystals_tools.cif_parser(sc_crystals_df['filename'][37452]))\n",
    "sc_crystals_df = pd.merge(sc_crystals_df, sc_min_dist_df, how='left', on='filename')\n",
    "\n",
    "save_var(sc_crystals_df, f'{data_path}/data_bases/cod/cif_supercell_pickle/df.pkl')\n",
    "sc_crystals_df"
   ]
  },
  {
   "cell_type": "code",
   "execution_count": null,
   "metadata": {},
   "outputs": [],
   "source": [
    "sc_crystals_df = load_var(f'{data_path}/data_bases/cod/cif_supercell_pickle/df.pkl')"
   ]
  },
  {
   "cell_type": "markdown",
   "metadata": {},
   "source": [
    "## Removing similar structures and structures used in the case studies"
   ]
  },
  {
   "cell_type": "markdown",
   "metadata": {},
   "source": [
    "### Removing incompatible crystals\n",
    "* removing min_atomic_dist < 0.5 \n",
    "* removing min_occupancy < 1\n",
    "* removing broken CIF files\n",
    "* removing atomic_number < 1 (Neutroniums)"
   ]
  },
  {
   "cell_type": "code",
   "execution_count": 3,
   "metadata": {
    "ExecuteTime": {
     "end_time": "2021-06-02T08:17:14.223796Z",
     "start_time": "2021-06-02T08:17:05.850704Z"
    }
   },
   "outputs": [],
   "source": [
    "crystals_df = load_var(f'{data_path}/data_bases/cod/cif_pickle/df.pkl')\n",
    "sc_crystals_df = load_var(f'{data_path}/data_bases/cod/cif_supercell_pickle/df.pkl')\n",
    "\n",
    "# Removing: broken CIFs & min_occupancy < 1\n",
    "crystals_df = crystals_df[(crystals_df['minimum occupancy'] == 1) & (crystals_df['error'] == False)]\n",
    "sc_crystals_df = sc_crystals_df[(sc_crystals_df['minimum occupancy'] == 1) & (sc_crystals_df['error'] == False)]\n",
    "sc_crystals_df = sc_crystals_df[~sc_crystals_df['id'].isin(crystals_df['id'])] # Only adding CIFs that \n",
    "# only exist in supercell part"
   ]
  },
  {
   "cell_type": "code",
   "execution_count": 4,
   "metadata": {
    "ExecuteTime": {
     "end_time": "2021-06-02T08:17:16.042101Z",
     "start_time": "2021-06-02T08:17:15.488898Z"
    }
   },
   "outputs": [
    {
     "data": {
      "text/html": [
       "<div>\n",
       "<style scoped>\n",
       "    .dataframe tbody tr th:only-of-type {\n",
       "        vertical-align: middle;\n",
       "    }\n",
       "\n",
       "    .dataframe tbody tr th {\n",
       "        vertical-align: top;\n",
       "    }\n",
       "\n",
       "    .dataframe thead th {\n",
       "        text-align: right;\n",
       "    }\n",
       "</style>\n",
       "<table border=\"1\" class=\"dataframe\">\n",
       "  <thead>\n",
       "    <tr style=\"text-align: right;\">\n",
       "      <th></th>\n",
       "      <th>id</th>\n",
       "      <th>spacegroup</th>\n",
       "      <th>formula</th>\n",
       "      <th>db</th>\n",
       "      <th>filename</th>\n",
       "      <th>min_atomic_dist</th>\n",
       "    </tr>\n",
       "  </thead>\n",
       "  <tbody>\n",
       "    <tr>\n",
       "      <th>0</th>\n",
       "      <td>1000000</td>\n",
       "      <td>14    P 21/c\\n  setting 1\\n  centrosymmetric 1...</td>\n",
       "      <td>C20H68Al4N8O32P8</td>\n",
       "      <td>cod</td>\n",
       "      <td>/data_bases/cod/cif/1/00/00/1000000.cif</td>\n",
       "      <td>0.819938</td>\n",
       "    </tr>\n",
       "    <tr>\n",
       "      <th>1</th>\n",
       "      <td>1000001</td>\n",
       "      <td>19    P 21 21 21\\n  setting 1\\n  centrosymmetr...</td>\n",
       "      <td>C428H568N56O104</td>\n",
       "      <td>cod</td>\n",
       "      <td>/data_bases/cod/cif/1/00/00/1000001.cif</td>\n",
       "      <td>0.894671</td>\n",
       "    </tr>\n",
       "    <tr>\n",
       "      <th>2</th>\n",
       "      <td>1000002</td>\n",
       "      <td>14    P 21/c\\n  setting 1\\n  centrosymmetric 1...</td>\n",
       "      <td>C12H12O28Sr4</td>\n",
       "      <td>cod</td>\n",
       "      <td>/data_bases/cod/cif/1/00/00/1000002.cif</td>\n",
       "      <td>0.635776</td>\n",
       "    </tr>\n",
       "    <tr>\n",
       "      <th>3</th>\n",
       "      <td>1000003</td>\n",
       "      <td>14    P 21/c\\n  setting 1\\n  centrosymmetric 1...</td>\n",
       "      <td>C12O24Sr4</td>\n",
       "      <td>cod</td>\n",
       "      <td>/data_bases/cod/cif/1/00/00/1000003.cif</td>\n",
       "      <td>1.174074</td>\n",
       "    </tr>\n",
       "    <tr>\n",
       "      <th>4</th>\n",
       "      <td>1000004</td>\n",
       "      <td>2     P -1\\n  setting 1\\n  centrosymmetric 1\\n...</td>\n",
       "      <td>C58H60Cu2I2P4</td>\n",
       "      <td>cod</td>\n",
       "      <td>/data_bases/cod/cif/1/00/00/1000004.cif</td>\n",
       "      <td>0.929547</td>\n",
       "    </tr>\n",
       "    <tr>\n",
       "      <th>...</th>\n",
       "      <td>...</td>\n",
       "      <td>...</td>\n",
       "      <td>...</td>\n",
       "      <td>...</td>\n",
       "      <td>...</td>\n",
       "      <td>...</td>\n",
       "    </tr>\n",
       "    <tr>\n",
       "      <th>342283</th>\n",
       "      <td>9016658</td>\n",
       "      <td>1     P 1\\n  setting 1\\n  centrosymmetric 0\\n ...</td>\n",
       "      <td>Mg16O32Si8</td>\n",
       "      <td>cod-sc</td>\n",
       "      <td>/data_bases/cod/cif_supercell/9/01/66/9016658_...</td>\n",
       "      <td>1.660093</td>\n",
       "    </tr>\n",
       "    <tr>\n",
       "      <th>342284</th>\n",
       "      <td>9016666</td>\n",
       "      <td>1     P 1\\n  setting 1\\n  centrosymmetric 0\\n ...</td>\n",
       "      <td>H3Mg10O19Si4</td>\n",
       "      <td>cod-sc</td>\n",
       "      <td>/data_bases/cod/cif_supercell/9/01/66/9016666_...</td>\n",
       "      <td>1.364036</td>\n",
       "    </tr>\n",
       "    <tr>\n",
       "      <th>342285</th>\n",
       "      <td>9016683</td>\n",
       "      <td>1     P 1\\n  setting 1\\n  centrosymmetric 0\\n ...</td>\n",
       "      <td>B190</td>\n",
       "      <td>cod-sc</td>\n",
       "      <td>/data_bases/cod/cif_supercell/9/01/66/9016683_...</td>\n",
       "      <td>1.499742</td>\n",
       "    </tr>\n",
       "    <tr>\n",
       "      <th>342286</th>\n",
       "      <td>9016691</td>\n",
       "      <td>1     P 1\\n  setting 1\\n  centrosymmetric 0\\n ...</td>\n",
       "      <td>Al16Mg6O96Si24</td>\n",
       "      <td>cod-sc</td>\n",
       "      <td>/data_bases/cod/cif_supercell/9/01/66/9016691_...</td>\n",
       "      <td>1.633527</td>\n",
       "    </tr>\n",
       "    <tr>\n",
       "      <th>342287</th>\n",
       "      <td>9016703</td>\n",
       "      <td>1     P 1\\n  setting 1\\n  centrosymmetric 0\\n ...</td>\n",
       "      <td>Al4Ca2O16Si4</td>\n",
       "      <td>cod-sc</td>\n",
       "      <td>/data_bases/cod/cif_supercell/9/01/67/9016703_...</td>\n",
       "      <td>1.030387</td>\n",
       "    </tr>\n",
       "  </tbody>\n",
       "</table>\n",
       "<p>342288 rows × 6 columns</p>\n",
       "</div>"
      ],
      "text/plain": [
       "             id                                         spacegroup  \\\n",
       "0       1000000  14    P 21/c\\n  setting 1\\n  centrosymmetric 1...   \n",
       "1       1000001  19    P 21 21 21\\n  setting 1\\n  centrosymmetr...   \n",
       "2       1000002  14    P 21/c\\n  setting 1\\n  centrosymmetric 1...   \n",
       "3       1000003  14    P 21/c\\n  setting 1\\n  centrosymmetric 1...   \n",
       "4       1000004  2     P -1\\n  setting 1\\n  centrosymmetric 1\\n...   \n",
       "...         ...                                                ...   \n",
       "342283  9016658  1     P 1\\n  setting 1\\n  centrosymmetric 0\\n ...   \n",
       "342284  9016666  1     P 1\\n  setting 1\\n  centrosymmetric 0\\n ...   \n",
       "342285  9016683  1     P 1\\n  setting 1\\n  centrosymmetric 0\\n ...   \n",
       "342286  9016691  1     P 1\\n  setting 1\\n  centrosymmetric 0\\n ...   \n",
       "342287  9016703  1     P 1\\n  setting 1\\n  centrosymmetric 0\\n ...   \n",
       "\n",
       "                 formula      db  \\\n",
       "0       C20H68Al4N8O32P8     cod   \n",
       "1        C428H568N56O104     cod   \n",
       "2           C12H12O28Sr4     cod   \n",
       "3              C12O24Sr4     cod   \n",
       "4          C58H60Cu2I2P4     cod   \n",
       "...                  ...     ...   \n",
       "342283        Mg16O32Si8  cod-sc   \n",
       "342284      H3Mg10O19Si4  cod-sc   \n",
       "342285              B190  cod-sc   \n",
       "342286    Al16Mg6O96Si24  cod-sc   \n",
       "342287      Al4Ca2O16Si4  cod-sc   \n",
       "\n",
       "                                                 filename  min_atomic_dist  \n",
       "0                 /data_bases/cod/cif/1/00/00/1000000.cif         0.819938  \n",
       "1                 /data_bases/cod/cif/1/00/00/1000001.cif         0.894671  \n",
       "2                 /data_bases/cod/cif/1/00/00/1000002.cif         0.635776  \n",
       "3                 /data_bases/cod/cif/1/00/00/1000003.cif         1.174074  \n",
       "4                 /data_bases/cod/cif/1/00/00/1000004.cif         0.929547  \n",
       "...                                                   ...              ...  \n",
       "342283  /data_bases/cod/cif_supercell/9/01/66/9016658_...         1.660093  \n",
       "342284  /data_bases/cod/cif_supercell/9/01/66/9016666_...         1.364036  \n",
       "342285  /data_bases/cod/cif_supercell/9/01/66/9016683_...         1.499742  \n",
       "342286  /data_bases/cod/cif_supercell/9/01/66/9016691_...         1.633527  \n",
       "342287  /data_bases/cod/cif_supercell/9/01/67/9016703_...         1.030387  \n",
       "\n",
       "[342288 rows x 6 columns]"
      ]
     },
     "execution_count": 4,
     "metadata": {},
     "output_type": "execute_result"
    }
   ],
   "source": [
    "df = pd.concat([crystals_df, sc_crystals_df]).drop(['minimum occupancy', 'error'], axis=1).reset_index(drop=True)\n",
    "df['filename'] = df['filename'].str.replace(local_data_path, '')\n",
    "# removing min_atomic_dist <= 0.5\n",
    "df = df[df['min_atomic_dist'] > 0.5].reset_index(drop=True)\n",
    "df"
   ]
  },
  {
   "cell_type": "code",
   "execution_count": 5,
   "metadata": {
    "ExecuteTime": {
     "end_time": "2021-06-02T08:17:58.922510Z",
     "start_time": "2021-06-02T08:17:19.933913Z"
    }
   },
   "outputs": [],
   "source": [
    "# Removing Neutroniums\n",
    "\n",
    "f = pd.Series([Formula(i) for i in df['formula']])\n",
    "f = pd.Series([index for index, value in f.items() if 'X' in value])\n",
    "df.drop(f, inplace=True)\n",
    "df.reset_index(drop=True, inplace=True)"
   ]
  },
  {
   "cell_type": "markdown",
   "metadata": {
    "ExecuteTime": {
     "end_time": "2021-05-04T07:55:58.781559Z",
     "start_time": "2021-05-04T07:55:58.748059Z"
    }
   },
   "source": [
    "### Removing electrode and thermoelectric materials"
   ]
  },
  {
   "cell_type": "code",
   "execution_count": 6,
   "metadata": {
    "ExecuteTime": {
     "end_time": "2021-06-02T08:18:20.098763Z",
     "start_time": "2021-06-02T08:18:10.799982Z"
    },
    "scrolled": false
   },
   "outputs": [
    {
     "data": {
      "text/html": [
       "<div>\n",
       "<style scoped>\n",
       "    .dataframe tbody tr th:only-of-type {\n",
       "        vertical-align: middle;\n",
       "    }\n",
       "\n",
       "    .dataframe tbody tr th {\n",
       "        vertical-align: top;\n",
       "    }\n",
       "\n",
       "    .dataframe thead th {\n",
       "        text-align: right;\n",
       "    }\n",
       "</style>\n",
       "<table border=\"1\" class=\"dataframe\">\n",
       "  <thead>\n",
       "    <tr style=\"text-align: right;\">\n",
       "      <th></th>\n",
       "      <th>id</th>\n",
       "      <th>formula</th>\n",
       "      <th>db</th>\n",
       "      <th>filename</th>\n",
       "      <th>min_atomic_dist</th>\n",
       "      <th>Formula_hill</th>\n",
       "      <th>sgn</th>\n",
       "      <th>index</th>\n",
       "      <th>battid</th>\n",
       "      <th>working_ion</th>\n",
       "      <th>max_voltage</th>\n",
       "      <th>capacity_vol</th>\n",
       "      <th>formula_charge</th>\n",
       "      <th>id_charge</th>\n",
       "      <th>formula_discharge</th>\n",
       "      <th>id_discharge</th>\n",
       "      <th>hall</th>\n",
       "      <th>url</th>\n",
       "      <th>path</th>\n",
       "    </tr>\n",
       "  </thead>\n",
       "  <tbody>\n",
       "    <tr>\n",
       "      <th>0</th>\n",
       "      <td>1000075</td>\n",
       "      <td>Bi2Li2O8Pd4</td>\n",
       "      <td>cod</td>\n",
       "      <td>/data_bases/cod/cif/1/00/00/1000075.cif</td>\n",
       "      <td>1.952114</td>\n",
       "      <td>BiLiO4Pd2</td>\n",
       "      <td>129</td>\n",
       "      <td>1535</td>\n",
       "      <td>mp-25201_Li</td>\n",
       "      <td>Li</td>\n",
       "      <td>4.138586</td>\n",
       "      <td>408.336004</td>\n",
       "      <td>Bi(PdO2)2</td>\n",
       "      <td>mp-25201</td>\n",
       "      <td>LiBi(PdO2)2</td>\n",
       "      <td>mp-559893</td>\n",
       "      <td>P 4ab 2ab -1ab</td>\n",
       "      <td>https://materialsproject.org/materials/mp-559893/</td>\n",
       "      <td>/home/adavar2/Data/syn/electrode_materials/dow...</td>\n",
       "    </tr>\n",
       "    <tr>\n",
       "      <th>1</th>\n",
       "      <td>1000268</td>\n",
       "      <td>Cu2La8Li2O16</td>\n",
       "      <td>cod</td>\n",
       "      <td>/data_bases/cod/cif/1/00/02/1000268.cif</td>\n",
       "      <td>1.786956</td>\n",
       "      <td>CuLa4LiO8</td>\n",
       "      <td>65</td>\n",
       "      <td>2178</td>\n",
       "      <td>mp-21496_Li</td>\n",
       "      <td>Li</td>\n",
       "      <td>3.933088</td>\n",
       "      <td>239.350906</td>\n",
       "      <td>La4CuO8</td>\n",
       "      <td>mp-772213</td>\n",
       "      <td>LiLa4CuO8</td>\n",
       "      <td>mp-21496</td>\n",
       "      <td>-C 2 2</td>\n",
       "      <td>https://materialsproject.org/materials/mp-21496/</td>\n",
       "      <td>/home/adavar2/Data/syn/electrode_materials/dow...</td>\n",
       "    </tr>\n",
       "    <tr>\n",
       "      <th>2</th>\n",
       "      <td>1001384</td>\n",
       "      <td>Na4O28P8Ti4</td>\n",
       "      <td>cod</td>\n",
       "      <td>/data_bases/cod/cif/1/00/13/1001384.cif</td>\n",
       "      <td>1.492221</td>\n",
       "      <td>NaO7P2Ti</td>\n",
       "      <td>14</td>\n",
       "      <td>3686</td>\n",
       "      <td>mp-560506_Na</td>\n",
       "      <td>Na</td>\n",
       "      <td>1.609686</td>\n",
       "      <td>315.744642</td>\n",
       "      <td>TiP2O7</td>\n",
       "      <td>mp-761010</td>\n",
       "      <td>NaTiP2O7</td>\n",
       "      <td>mp-560506</td>\n",
       "      <td>-P 2ybc</td>\n",
       "      <td>https://materialsproject.org/materials/mp-560506/</td>\n",
       "      <td>/home/adavar2/Data/syn/electrode_materials/dow...</td>\n",
       "    </tr>\n",
       "    <tr>\n",
       "      <th>3</th>\n",
       "      <td>1001384</td>\n",
       "      <td>Na4O28P8Ti4</td>\n",
       "      <td>cod</td>\n",
       "      <td>/data_bases/cod/cif/1/00/13/1001384.cif</td>\n",
       "      <td>1.492221</td>\n",
       "      <td>NaO7P2Ti</td>\n",
       "      <td>14</td>\n",
       "      <td>3687</td>\n",
       "      <td>mp-17461_Na</td>\n",
       "      <td>Na</td>\n",
       "      <td>1.764832</td>\n",
       "      <td>323.582741</td>\n",
       "      <td>TiP2O7</td>\n",
       "      <td>mp-761041</td>\n",
       "      <td>NaTiP2O7</td>\n",
       "      <td>mp-17461</td>\n",
       "      <td>-P 2ybc</td>\n",
       "      <td>https://materialsproject.org/materials/mp-17461/</td>\n",
       "      <td>/home/adavar2/Data/syn/electrode_materials/dow...</td>\n",
       "    </tr>\n",
       "    <tr>\n",
       "      <th>4</th>\n",
       "      <td>1001385</td>\n",
       "      <td>Na4O28P8Ti4</td>\n",
       "      <td>cod</td>\n",
       "      <td>/data_bases/cod/cif/1/00/13/1001385.cif</td>\n",
       "      <td>1.489720</td>\n",
       "      <td>NaO7P2Ti</td>\n",
       "      <td>14</td>\n",
       "      <td>3686</td>\n",
       "      <td>mp-560506_Na</td>\n",
       "      <td>Na</td>\n",
       "      <td>1.609686</td>\n",
       "      <td>315.744642</td>\n",
       "      <td>TiP2O7</td>\n",
       "      <td>mp-761010</td>\n",
       "      <td>NaTiP2O7</td>\n",
       "      <td>mp-560506</td>\n",
       "      <td>-P 2ybc</td>\n",
       "      <td>https://materialsproject.org/materials/mp-560506/</td>\n",
       "      <td>/home/adavar2/Data/syn/electrode_materials/dow...</td>\n",
       "    </tr>\n",
       "    <tr>\n",
       "      <th>...</th>\n",
       "      <td>...</td>\n",
       "      <td>...</td>\n",
       "      <td>...</td>\n",
       "      <td>...</td>\n",
       "      <td>...</td>\n",
       "      <td>...</td>\n",
       "      <td>...</td>\n",
       "      <td>...</td>\n",
       "      <td>...</td>\n",
       "      <td>...</td>\n",
       "      <td>...</td>\n",
       "      <td>...</td>\n",
       "      <td>...</td>\n",
       "      <td>...</td>\n",
       "      <td>...</td>\n",
       "      <td>...</td>\n",
       "      <td>...</td>\n",
       "      <td>...</td>\n",
       "      <td>...</td>\n",
       "    </tr>\n",
       "    <tr>\n",
       "      <th>277</th>\n",
       "      <td>1544720</td>\n",
       "      <td>KMn8O16</td>\n",
       "      <td>cod-sc</td>\n",
       "      <td>/data_bases/cod/cif_supercell/1/54/47/1544720_...</td>\n",
       "      <td>1.886621</td>\n",
       "      <td>KMn8O16</td>\n",
       "      <td>1</td>\n",
       "      <td>2872</td>\n",
       "      <td>mp-1003316_K</td>\n",
       "      <td>K</td>\n",
       "      <td>4.272564</td>\n",
       "      <td>512.975679</td>\n",
       "      <td>MnO2</td>\n",
       "      <td>mp-19395</td>\n",
       "      <td>KMn8O16</td>\n",
       "      <td>mp-1016153</td>\n",
       "      <td>P 1</td>\n",
       "      <td>https://materialsproject.org/materials/mp-1016...</td>\n",
       "      <td>/home/adavar2/Data/syn/electrode_materials/dow...</td>\n",
       "    </tr>\n",
       "    <tr>\n",
       "      <th>278</th>\n",
       "      <td>1533548</td>\n",
       "      <td>Cu8Ga4O28Sr8Y4</td>\n",
       "      <td>cod-sc</td>\n",
       "      <td>/data_bases/cod/cif_supercell/1/53/35/1533548_...</td>\n",
       "      <td>1.613466</td>\n",
       "      <td>Cu2GaO7Sr2Y</td>\n",
       "      <td>1</td>\n",
       "      <td>3128</td>\n",
       "      <td>mvc-15173_Y</td>\n",
       "      <td>Y</td>\n",
       "      <td>3.487032</td>\n",
       "      <td>511.353349</td>\n",
       "      <td>Sr6YGa3(Cu2O7)3</td>\n",
       "      <td>mvc-15173</td>\n",
       "      <td>Sr2YGaCu2O7</td>\n",
       "      <td>mp-556575</td>\n",
       "      <td>P 1</td>\n",
       "      <td>https://materialsproject.org/materials/mp-556575/</td>\n",
       "      <td>/home/adavar2/Data/syn/electrode_materials/dow...</td>\n",
       "    </tr>\n",
       "    <tr>\n",
       "      <th>279</th>\n",
       "      <td>2018541</td>\n",
       "      <td>Fe4Li4O16P4</td>\n",
       "      <td>cod-sc</td>\n",
       "      <td>/data_bases/cod/cif_supercell/2/01/85/2018541_...</td>\n",
       "      <td>1.521004</td>\n",
       "      <td>FeLiO4P</td>\n",
       "      <td>1</td>\n",
       "      <td>62</td>\n",
       "      <td>mp-767263_Li</td>\n",
       "      <td>Li</td>\n",
       "      <td>3.692890</td>\n",
       "      <td>255.900638</td>\n",
       "      <td>LiFe2(PO4)2</td>\n",
       "      <td>mp-767263</td>\n",
       "      <td>LiFePO4</td>\n",
       "      <td>mp-774251</td>\n",
       "      <td>P 1</td>\n",
       "      <td>https://materialsproject.org/materials/mp-774251/</td>\n",
       "      <td>/home/adavar2/Data/syn/electrode_materials/dow...</td>\n",
       "    </tr>\n",
       "    <tr>\n",
       "      <th>280</th>\n",
       "      <td>4344259</td>\n",
       "      <td>Li8NbO6</td>\n",
       "      <td>cod-sc</td>\n",
       "      <td>/data_bases/cod/cif_supercell/4/34/42/4344259_...</td>\n",
       "      <td>1.768640</td>\n",
       "      <td>Li8NbO6</td>\n",
       "      <td>1</td>\n",
       "      <td>1806</td>\n",
       "      <td>mp-37399_Li</td>\n",
       "      <td>Li</td>\n",
       "      <td>0.162446</td>\n",
       "      <td>327.063919</td>\n",
       "      <td>Li7NbO6</td>\n",
       "      <td>mp-37399</td>\n",
       "      <td>Li8NbO6</td>\n",
       "      <td>mp-774697</td>\n",
       "      <td>P 1</td>\n",
       "      <td>https://materialsproject.org/materials/mp-774697/</td>\n",
       "      <td>/home/adavar2/Data/syn/electrode_materials/dow...</td>\n",
       "    </tr>\n",
       "    <tr>\n",
       "      <th>281</th>\n",
       "      <td>8104283</td>\n",
       "      <td>Ba4Li6O44Ti19</td>\n",
       "      <td>cod-sc</td>\n",
       "      <td>/data_bases/cod/cif_supercell/8/10/42/8104283_...</td>\n",
       "      <td>1.574915</td>\n",
       "      <td>Ba4Li6O44Ti19</td>\n",
       "      <td>1</td>\n",
       "      <td>1305</td>\n",
       "      <td>mp-762032_Li</td>\n",
       "      <td>Li</td>\n",
       "      <td>1.928514</td>\n",
       "      <td>106.375221</td>\n",
       "      <td>Ba4Li4Ti19O44</td>\n",
       "      <td>mp-762032</td>\n",
       "      <td>Ba4Li6Ti19O44</td>\n",
       "      <td>mp-767511</td>\n",
       "      <td>P 1</td>\n",
       "      <td>https://materialsproject.org/materials/mp-767511/</td>\n",
       "      <td>/home/adavar2/Data/syn/electrode_materials/dow...</td>\n",
       "    </tr>\n",
       "  </tbody>\n",
       "</table>\n",
       "<p>282 rows × 19 columns</p>\n",
       "</div>"
      ],
      "text/plain": [
       "          id         formula      db  \\\n",
       "0    1000075     Bi2Li2O8Pd4     cod   \n",
       "1    1000268    Cu2La8Li2O16     cod   \n",
       "2    1001384     Na4O28P8Ti4     cod   \n",
       "3    1001384     Na4O28P8Ti4     cod   \n",
       "4    1001385     Na4O28P8Ti4     cod   \n",
       "..       ...             ...     ...   \n",
       "277  1544720         KMn8O16  cod-sc   \n",
       "278  1533548  Cu8Ga4O28Sr8Y4  cod-sc   \n",
       "279  2018541     Fe4Li4O16P4  cod-sc   \n",
       "280  4344259         Li8NbO6  cod-sc   \n",
       "281  8104283   Ba4Li6O44Ti19  cod-sc   \n",
       "\n",
       "                                              filename  min_atomic_dist  \\\n",
       "0              /data_bases/cod/cif/1/00/00/1000075.cif         1.952114   \n",
       "1              /data_bases/cod/cif/1/00/02/1000268.cif         1.786956   \n",
       "2              /data_bases/cod/cif/1/00/13/1001384.cif         1.492221   \n",
       "3              /data_bases/cod/cif/1/00/13/1001384.cif         1.492221   \n",
       "4              /data_bases/cod/cif/1/00/13/1001385.cif         1.489720   \n",
       "..                                                 ...              ...   \n",
       "277  /data_bases/cod/cif_supercell/1/54/47/1544720_...         1.886621   \n",
       "278  /data_bases/cod/cif_supercell/1/53/35/1533548_...         1.613466   \n",
       "279  /data_bases/cod/cif_supercell/2/01/85/2018541_...         1.521004   \n",
       "280  /data_bases/cod/cif_supercell/4/34/42/4344259_...         1.768640   \n",
       "281  /data_bases/cod/cif_supercell/8/10/42/8104283_...         1.574915   \n",
       "\n",
       "      Formula_hill  sgn  index        battid working_ion  max_voltage  \\\n",
       "0        BiLiO4Pd2  129   1535   mp-25201_Li          Li     4.138586   \n",
       "1        CuLa4LiO8   65   2178   mp-21496_Li          Li     3.933088   \n",
       "2         NaO7P2Ti   14   3686  mp-560506_Na          Na     1.609686   \n",
       "3         NaO7P2Ti   14   3687   mp-17461_Na          Na     1.764832   \n",
       "4         NaO7P2Ti   14   3686  mp-560506_Na          Na     1.609686   \n",
       "..             ...  ...    ...           ...         ...          ...   \n",
       "277        KMn8O16    1   2872  mp-1003316_K           K     4.272564   \n",
       "278    Cu2GaO7Sr2Y    1   3128   mvc-15173_Y           Y     3.487032   \n",
       "279        FeLiO4P    1     62  mp-767263_Li          Li     3.692890   \n",
       "280        Li8NbO6    1   1806   mp-37399_Li          Li     0.162446   \n",
       "281  Ba4Li6O44Ti19    1   1305  mp-762032_Li          Li     1.928514   \n",
       "\n",
       "     capacity_vol   formula_charge  id_charge formula_discharge id_discharge  \\\n",
       "0      408.336004        Bi(PdO2)2   mp-25201       LiBi(PdO2)2    mp-559893   \n",
       "1      239.350906          La4CuO8  mp-772213         LiLa4CuO8     mp-21496   \n",
       "2      315.744642           TiP2O7  mp-761010          NaTiP2O7    mp-560506   \n",
       "3      323.582741           TiP2O7  mp-761041          NaTiP2O7     mp-17461   \n",
       "4      315.744642           TiP2O7  mp-761010          NaTiP2O7    mp-560506   \n",
       "..            ...              ...        ...               ...          ...   \n",
       "277    512.975679             MnO2   mp-19395           KMn8O16   mp-1016153   \n",
       "278    511.353349  Sr6YGa3(Cu2O7)3  mvc-15173       Sr2YGaCu2O7    mp-556575   \n",
       "279    255.900638      LiFe2(PO4)2  mp-767263           LiFePO4    mp-774251   \n",
       "280    327.063919          Li7NbO6   mp-37399           Li8NbO6    mp-774697   \n",
       "281    106.375221    Ba4Li4Ti19O44  mp-762032     Ba4Li6Ti19O44    mp-767511   \n",
       "\n",
       "               hall                                                url  \\\n",
       "0    P 4ab 2ab -1ab  https://materialsproject.org/materials/mp-559893/   \n",
       "1            -C 2 2   https://materialsproject.org/materials/mp-21496/   \n",
       "2           -P 2ybc  https://materialsproject.org/materials/mp-560506/   \n",
       "3           -P 2ybc   https://materialsproject.org/materials/mp-17461/   \n",
       "4           -P 2ybc  https://materialsproject.org/materials/mp-560506/   \n",
       "..              ...                                                ...   \n",
       "277             P 1  https://materialsproject.org/materials/mp-1016...   \n",
       "278             P 1  https://materialsproject.org/materials/mp-556575/   \n",
       "279             P 1  https://materialsproject.org/materials/mp-774251/   \n",
       "280             P 1  https://materialsproject.org/materials/mp-774697/   \n",
       "281             P 1  https://materialsproject.org/materials/mp-767511/   \n",
       "\n",
       "                                                  path  \n",
       "0    /home/adavar2/Data/syn/electrode_materials/dow...  \n",
       "1    /home/adavar2/Data/syn/electrode_materials/dow...  \n",
       "2    /home/adavar2/Data/syn/electrode_materials/dow...  \n",
       "3    /home/adavar2/Data/syn/electrode_materials/dow...  \n",
       "4    /home/adavar2/Data/syn/electrode_materials/dow...  \n",
       "..                                                 ...  \n",
       "277  /home/adavar2/Data/syn/electrode_materials/dow...  \n",
       "278  /home/adavar2/Data/syn/electrode_materials/dow...  \n",
       "279  /home/adavar2/Data/syn/electrode_materials/dow...  \n",
       "280  /home/adavar2/Data/syn/electrode_materials/dow...  \n",
       "281  /home/adavar2/Data/syn/electrode_materials/dow...  \n",
       "\n",
       "[282 rows x 19 columns]"
      ]
     },
     "execution_count": 6,
     "metadata": {},
     "output_type": "execute_result"
    }
   ],
   "source": [
    "electrode_df = pd.read_csv(data_path + '/data_banks/electrode-mp/mp_electrode_materials.csv')\n",
    "electrode_df['Formula_hill'] = pd.Series([Formula(i).reduce()[0].format('hill') \n",
    "                                          for i in electrode_df['formula_discharge']])\n",
    "# electrode_df['spacegroup'] = pd.Series([Spacegroup(i) for i in electrode_df['sgn']])\n",
    "df['Formula_hill'] = [Formula(i).reduce()[0].format('hill') for i in df['formula']] # Considering stoichiometry\n",
    "# df['Formula_hill'] = [Formula(i).format('hill') for i in df['formula']] # Considering composition\n",
    "df['sgn'] = [i.no for i in df['spacegroup']] # Space group symbol: more conservative way of removing\n",
    "\n",
    "cod_electrode_df = pd.merge(df, electrode_df, on=['Formula_hill', 'sgn'], how='inner')\n",
    "cod_electrode_df.drop(columns=['spacegroup'], inplace=True)\n",
    "cod_electrode_df.to_csv(data_path + '/electrode_materials/cod-electrode-materials.csv')\n",
    "cod_electrode_df"
   ]
  },
  {
   "cell_type": "code",
   "execution_count": 7,
   "metadata": {
    "ExecuteTime": {
     "end_time": "2021-06-02T08:18:29.965858Z",
     "start_time": "2021-06-02T08:18:29.759044Z"
    }
   },
   "outputs": [
    {
     "name": "stdout",
     "output_type": "stream",
     "text": [
      "Removing 87 theremoelectric samples from the COD.\n",
      "Removing 264 electrode samples from the COD.\n"
     ]
    }
   ],
   "source": [
    "# electrode_ids = pd.Series(load_var(f'{data_path}/electrode_materials/cod_ids.pkl'))\n",
    "electrode_ids = cod_electrode_df['id']\n",
    "thermo_ids = load_var(f'{data_path}/thermoelectric_materials/atoms_list_top_10.pkl')\n",
    "thermo_ids = thermo_ids[thermo_ids['data_set'] == 'cod'].rename({'atoms': 'id'}, axis=1)\n",
    "\n",
    "ind = df['id'].isin(thermo_ids['id'])\n",
    "print('Removing {:,} theremoelectric samples from the COD.'.format(np.count_nonzero(ind)))\n",
    "df = df[~ind]\n",
    "\n",
    "ind = df['id'].isin(electrode_ids)\n",
    "print('Removing {:,} electrode samples from the COD.'.format(np.count_nonzero(ind)))\n",
    "df = df[~ind]"
   ]
  },
  {
   "cell_type": "markdown",
   "metadata": {
    "ExecuteTime": {
     "end_time": "2021-05-04T08:35:16.696208Z",
     "start_time": "2021-05-04T08:35:16.688157Z"
    }
   },
   "source": [
    "### Removing similar crystals"
   ]
  },
  {
   "cell_type": "code",
   "execution_count": 8,
   "metadata": {
    "ExecuteTime": {
     "end_time": "2021-06-02T08:18:48.293969Z",
     "start_time": "2021-06-02T08:18:39.025926Z"
    }
   },
   "outputs": [
    {
     "name": "stdout",
     "output_type": "stream",
     "text": [
      "Number of duplicates based on exact stoichiometry only: 124,488\n",
      "Number of duplicates based on spacegroups only: 341,934\n",
      "Number of duplicates based on the stoichiometry and spacegroup: 84,208\n"
     ]
    },
    {
     "data": {
      "text/html": [
       "<div>\n",
       "<style scoped>\n",
       "    .dataframe tbody tr th:only-of-type {\n",
       "        vertical-align: middle;\n",
       "    }\n",
       "\n",
       "    .dataframe tbody tr th {\n",
       "        vertical-align: top;\n",
       "    }\n",
       "\n",
       "    .dataframe thead th {\n",
       "        text-align: right;\n",
       "    }\n",
       "</style>\n",
       "<table border=\"1\" class=\"dataframe\">\n",
       "  <thead>\n",
       "    <tr style=\"text-align: right;\">\n",
       "      <th></th>\n",
       "      <th>id</th>\n",
       "      <th>spacegroup</th>\n",
       "      <th>formula</th>\n",
       "      <th>db</th>\n",
       "      <th>filename</th>\n",
       "      <th>min_atomic_dist</th>\n",
       "    </tr>\n",
       "  </thead>\n",
       "  <tbody>\n",
       "    <tr>\n",
       "      <th>0</th>\n",
       "      <td>1000000</td>\n",
       "      <td>14    P 21/c\\n  setting 1\\n  centrosymmetric 1...</td>\n",
       "      <td>C20H68Al4N8O32P8</td>\n",
       "      <td>cod</td>\n",
       "      <td>/data_bases/cod/cif/1/00/00/1000000.cif</td>\n",
       "      <td>0.819938</td>\n",
       "    </tr>\n",
       "    <tr>\n",
       "      <th>1</th>\n",
       "      <td>1000001</td>\n",
       "      <td>19    P 21 21 21\\n  setting 1\\n  centrosymmetr...</td>\n",
       "      <td>C428H568N56O104</td>\n",
       "      <td>cod</td>\n",
       "      <td>/data_bases/cod/cif/1/00/00/1000001.cif</td>\n",
       "      <td>0.894671</td>\n",
       "    </tr>\n",
       "    <tr>\n",
       "      <th>2</th>\n",
       "      <td>1000002</td>\n",
       "      <td>14    P 21/c\\n  setting 1\\n  centrosymmetric 1...</td>\n",
       "      <td>C12H12O28Sr4</td>\n",
       "      <td>cod</td>\n",
       "      <td>/data_bases/cod/cif/1/00/00/1000002.cif</td>\n",
       "      <td>0.635776</td>\n",
       "    </tr>\n",
       "    <tr>\n",
       "      <th>3</th>\n",
       "      <td>1000003</td>\n",
       "      <td>14    P 21/c\\n  setting 1\\n  centrosymmetric 1...</td>\n",
       "      <td>C12O24Sr4</td>\n",
       "      <td>cod</td>\n",
       "      <td>/data_bases/cod/cif/1/00/00/1000003.cif</td>\n",
       "      <td>1.174074</td>\n",
       "    </tr>\n",
       "    <tr>\n",
       "      <th>4</th>\n",
       "      <td>1000004</td>\n",
       "      <td>2     P -1\\n  setting 1\\n  centrosymmetric 1\\n...</td>\n",
       "      <td>C58H60Cu2I2P4</td>\n",
       "      <td>cod</td>\n",
       "      <td>/data_bases/cod/cif/1/00/00/1000004.cif</td>\n",
       "      <td>0.929547</td>\n",
       "    </tr>\n",
       "    <tr>\n",
       "      <th>...</th>\n",
       "      <td>...</td>\n",
       "      <td>...</td>\n",
       "      <td>...</td>\n",
       "      <td>...</td>\n",
       "      <td>...</td>\n",
       "      <td>...</td>\n",
       "    </tr>\n",
       "    <tr>\n",
       "      <th>285616</th>\n",
       "      <td>9016520</td>\n",
       "      <td>1     P 1\\n  setting 1\\n  centrosymmetric 0\\n ...</td>\n",
       "      <td>Al4Ca2Mg6Na2O48Si16</td>\n",
       "      <td>cod-sc</td>\n",
       "      <td>/data_bases/cod/cif_supercell/9/01/65/9016520_...</td>\n",
       "      <td>1.283376</td>\n",
       "    </tr>\n",
       "    <tr>\n",
       "      <th>285617</th>\n",
       "      <td>9016605</td>\n",
       "      <td>1     P 1\\n  setting 1\\n  centrosymmetric 0\\n ...</td>\n",
       "      <td>Fe15Si32</td>\n",
       "      <td>cod-sc</td>\n",
       "      <td>/data_bases/cod/cif_supercell/9/01/66/9016605_...</td>\n",
       "      <td>2.226056</td>\n",
       "    </tr>\n",
       "    <tr>\n",
       "      <th>285618</th>\n",
       "      <td>9016621</td>\n",
       "      <td>1     P 1\\n  setting 1\\n  centrosymmetric 0\\n ...</td>\n",
       "      <td>H4Cl2Cr4F2O20Pb8</td>\n",
       "      <td>cod-sc</td>\n",
       "      <td>/data_bases/cod/cif_supercell/9/01/66/9016621_...</td>\n",
       "      <td>0.981248</td>\n",
       "    </tr>\n",
       "    <tr>\n",
       "      <th>285619</th>\n",
       "      <td>9016666</td>\n",
       "      <td>1     P 1\\n  setting 1\\n  centrosymmetric 0\\n ...</td>\n",
       "      <td>H3Mg10O19Si4</td>\n",
       "      <td>cod-sc</td>\n",
       "      <td>/data_bases/cod/cif_supercell/9/01/66/9016666_...</td>\n",
       "      <td>1.364036</td>\n",
       "    </tr>\n",
       "    <tr>\n",
       "      <th>285620</th>\n",
       "      <td>9016691</td>\n",
       "      <td>1     P 1\\n  setting 1\\n  centrosymmetric 0\\n ...</td>\n",
       "      <td>Al16Mg6O96Si24</td>\n",
       "      <td>cod-sc</td>\n",
       "      <td>/data_bases/cod/cif_supercell/9/01/66/9016691_...</td>\n",
       "      <td>1.633527</td>\n",
       "    </tr>\n",
       "  </tbody>\n",
       "</table>\n",
       "<p>285621 rows × 6 columns</p>\n",
       "</div>"
      ],
      "text/plain": [
       "             id                                         spacegroup  \\\n",
       "0       1000000  14    P 21/c\\n  setting 1\\n  centrosymmetric 1...   \n",
       "1       1000001  19    P 21 21 21\\n  setting 1\\n  centrosymmetr...   \n",
       "2       1000002  14    P 21/c\\n  setting 1\\n  centrosymmetric 1...   \n",
       "3       1000003  14    P 21/c\\n  setting 1\\n  centrosymmetric 1...   \n",
       "4       1000004  2     P -1\\n  setting 1\\n  centrosymmetric 1\\n...   \n",
       "...         ...                                                ...   \n",
       "285616  9016520  1     P 1\\n  setting 1\\n  centrosymmetric 0\\n ...   \n",
       "285617  9016605  1     P 1\\n  setting 1\\n  centrosymmetric 0\\n ...   \n",
       "285618  9016621  1     P 1\\n  setting 1\\n  centrosymmetric 0\\n ...   \n",
       "285619  9016666  1     P 1\\n  setting 1\\n  centrosymmetric 0\\n ...   \n",
       "285620  9016691  1     P 1\\n  setting 1\\n  centrosymmetric 0\\n ...   \n",
       "\n",
       "                    formula      db  \\\n",
       "0          C20H68Al4N8O32P8     cod   \n",
       "1           C428H568N56O104     cod   \n",
       "2              C12H12O28Sr4     cod   \n",
       "3                 C12O24Sr4     cod   \n",
       "4             C58H60Cu2I2P4     cod   \n",
       "...                     ...     ...   \n",
       "285616  Al4Ca2Mg6Na2O48Si16  cod-sc   \n",
       "285617             Fe15Si32  cod-sc   \n",
       "285618     H4Cl2Cr4F2O20Pb8  cod-sc   \n",
       "285619         H3Mg10O19Si4  cod-sc   \n",
       "285620       Al16Mg6O96Si24  cod-sc   \n",
       "\n",
       "                                                 filename  min_atomic_dist  \n",
       "0                 /data_bases/cod/cif/1/00/00/1000000.cif         0.819938  \n",
       "1                 /data_bases/cod/cif/1/00/00/1000001.cif         0.894671  \n",
       "2                 /data_bases/cod/cif/1/00/00/1000002.cif         0.635776  \n",
       "3                 /data_bases/cod/cif/1/00/00/1000003.cif         1.174074  \n",
       "4                 /data_bases/cod/cif/1/00/00/1000004.cif         0.929547  \n",
       "...                                                   ...              ...  \n",
       "285616  /data_bases/cod/cif_supercell/9/01/65/9016520_...         1.283376  \n",
       "285617  /data_bases/cod/cif_supercell/9/01/66/9016605_...         2.226056  \n",
       "285618  /data_bases/cod/cif_supercell/9/01/66/9016621_...         0.981248  \n",
       "285619  /data_bases/cod/cif_supercell/9/01/66/9016666_...         1.364036  \n",
       "285620  /data_bases/cod/cif_supercell/9/01/66/9016691_...         1.633527  \n",
       "\n",
       "[285621 rows x 6 columns]"
      ]
     },
     "execution_count": 8,
     "metadata": {},
     "output_type": "execute_result"
    }
   ],
   "source": [
    "df = df[(~df['spacegroup'].isnull()) & (~df['formula'].isnull())] # drop null values\n",
    "# df['Formula_hill'] = [Formula(i).format('hill') for i in df['formula']] # Considering composition\n",
    "df['Formula_hill'] = [Formula(i).reduce()[0].format('hill') for i in df['formula']] # Considering stoichiometry\n",
    "# df['sg_symbol'] = [i.symbol for i in df['spacegroup']] # Space group symbol: more accurate\n",
    "df['sgn'] = [i.no for i in df['spacegroup']] # Space group symbol: more conservative way of removing\n",
    "\n",
    "print('Number of duplicates based on exact stoichiometry only: {:,}'\n",
    "      .format(np.count_nonzero(df.duplicated(['Formula_hill'], keep=False))))\n",
    "print('Number of duplicates based on spacegroups only: {:,}'\n",
    "      .format(np.count_nonzero(df.duplicated(['sgn'], keep=False))))\n",
    "print('Number of duplicates based on the stoichiometry and spacegroup: {:,}'\n",
    "      .format(np.count_nonzero(df.duplicated(['Formula_hill', 'sgn'], keep=False))))\n",
    "\n",
    "df = df.drop_duplicates(['Formula_hill', 'sgn']).drop(['Formula_hill', 'sgn'], axis=1)\n",
    "df = df.reset_index(drop=True)\n",
    "df"
   ]
  },
  {
   "cell_type": "markdown",
   "metadata": {
    "ExecuteTime": {
     "end_time": "2021-05-04T18:01:24.289060Z",
     "start_time": "2021-05-04T18:01:24.193794Z"
    }
   },
   "source": [
    "## Creating the COD banks"
   ]
  },
  {
   "cell_type": "code",
   "execution_count": 54,
   "metadata": {
    "ExecuteTime": {
     "end_time": "2021-05-12T09:27:58.625864Z",
     "start_time": "2021-05-12T09:24:13.384134Z"
    }
   },
   "outputs": [
    {
     "data": {
      "application/vnd.jupyter.widget-view+json": {
       "model_id": "6c353701fe5b4d8eaa4b418a89a55c50",
       "version_major": 2,
       "version_minor": 0
      },
      "text/plain": [
       "HBox(children=(IntProgress(value=1, bar_style='info', max=1), HTML(value='')))"
      ]
     },
     "metadata": {},
     "output_type": "display_data"
    },
    {
     "name": "stdout",
     "output_type": "stream",
     "text": [
      "\n"
     ]
    }
   ],
   "source": [
    "import shutil\n",
    "if exists(local_data_path + '/data_banks/cod'):\n",
    "    shutil.rmtree(local_data_path + '/data_banks/cod')\n",
    "    \n",
    "for index, row in tqdm_notebook(df.iterrows()):\n",
    "    output_path = local_data_path + '/'.join(row['filename'].split('/')[:-1]).\\\n",
    "                    replace('/data_bases/', '/data_banks/')\n",
    "    output_file = output_path + '/' + row['filename'].split('/')[-1]\n",
    "    os.makedirs(output_path, exist_ok=True)\n",
    "    shutil.copyfile(local_data_path + row['filename'], output_file)"
   ]
  },
  {
   "cell_type": "code",
   "execution_count": 11,
   "metadata": {
    "ExecuteTime": {
     "end_time": "2021-06-02T08:20:59.147277Z",
     "start_time": "2021-06-02T08:20:54.005578Z"
    }
   },
   "outputs": [],
   "source": [
    "# df = load_var(f'{local_data_path}/data_banks/cod/df.pkl')"
   ]
  },
  {
   "cell_type": "code",
   "execution_count": 12,
   "metadata": {
    "ExecuteTime": {
     "end_time": "2021-06-02T08:21:05.145419Z",
     "start_time": "2021-06-02T08:21:02.523681Z"
    }
   },
   "outputs": [
    {
     "name": "stdout",
     "output_type": "stream",
     "text": [
      "COD CIF files in the COD bank: 285,621\n"
     ]
    }
   ],
   "source": [
    "cif_files = list_all_files(f'{local_data_path}/data_banks/cod/',\n",
    "                           pattern='**/*.cif')\n",
    "print(f'COD CIF files in the COD bank: {len(cif_files):,}')\n",
    "save_var(df, f'{local_data_path}/data_banks/cod/df.pkl')\n",
    "tmp = df.copy()\n",
    "tmp['path'] = tmp['filename']\n",
    "tmp['filename'] = tmp['filename'].str.replace('/data_bases/cod', '')\n",
    "tmp['sgn'] = [i.no for i in tmp['spacegroup']]\n",
    "tmp['spacegroup'] = [i.symbol for i in tmp['spacegroup']]\n",
    "tmp.to_csv(f'{local_data_path}/data_banks/cod/df.csv')"
   ]
  },
  {
   "cell_type": "markdown",
   "metadata": {},
   "source": [
    "## Preparing a data set of electrode and thermoelectric materials "
   ]
  },
  {
   "cell_type": "code",
   "execution_count": 257,
   "metadata": {
    "ExecuteTime": {
     "end_time": "2021-05-07T09:34:46.217791Z",
     "start_time": "2021-05-07T09:34:46.201071Z"
    }
   },
   "outputs": [],
   "source": [
    "electrode_ids = pd.Series(load_var(f'{data_path}/electrode_materials/cod_ids.pkl'))\n",
    "thermo_ids = load_var(f'{data_path}/thermoelectric_materials/atoms_list_top_10.pkl')\n",
    "# thermo_ids = thermo_ids[thermo_ids['data_set'] == 'cod'].rename({'atoms': 'id'}, axis=1)"
   ]
  },
  {
   "cell_type": "markdown",
   "metadata": {},
   "source": [
    "## Saving the notebook"
   ]
  },
  {
   "cell_type": "code",
   "execution_count": 57,
   "metadata": {
    "ExecuteTime": {
     "end_time": "2021-05-12T09:43:08.054480Z",
     "start_time": "2021-05-12T09:43:05.979612Z"
    }
   },
   "outputs": [
    {
     "data": {
      "application/javascript": [
       "IPython.notebook.save_checkpoint();"
      ],
      "text/plain": [
       "<IPython.core.display.Javascript object>"
      ]
     },
     "metadata": {},
     "output_type": "display_data"
    },
    {
     "name": "stdout",
     "output_type": "stream",
     "text": [
      "[NbConvertApp] Converting notebook positive_data_preparation.ipynb to html\n",
      "[NbConvertApp] Writing 695651 bytes to results/data_preparation/run_002/positive_data_preparation.html\n"
     ]
    }
   ],
   "source": [
    "from IPython.display import display, Javascript\n",
    "display(Javascript('IPython.notebook.save_checkpoint();'))\n",
    "!cp $notebook_filename $result_dir$notebook_filename\n",
    "!jupyter nbconvert $notebook_filename --to html --output-dir $result_dir"
   ]
  }
 ],
 "metadata": {
  "kernelspec": {
   "display_name": "explain",
   "language": "python",
   "name": "explain"
  },
  "language_info": {
   "codemirror_mode": {
    "name": "ipython",
    "version": 3
   },
   "file_extension": ".py",
   "mimetype": "text/x-python",
   "name": "python",
   "nbconvert_exporter": "python",
   "pygments_lexer": "ipython3",
   "version": "3.7.3"
  },
  "toc": {
   "base_numbering": 1,
   "nav_menu": {},
   "number_sections": true,
   "sideBar": true,
   "skip_h1_title": false,
   "title_cell": "Table of Contents",
   "title_sidebar": "Contents",
   "toc_cell": false,
   "toc_position": {
    "height": "calc(100% - 180px)",
    "left": "10px",
    "top": "150px",
    "width": "165px"
   },
   "toc_section_display": true,
   "toc_window_display": true
  },
  "varInspector": {
   "cols": {
    "lenName": 16,
    "lenType": 16,
    "lenVar": 40
   },
   "kernels_config": {
    "python": {
     "delete_cmd_postfix": "",
     "delete_cmd_prefix": "del ",
     "library": "var_list.py",
     "varRefreshCmd": "print(var_dic_list())"
    },
    "r": {
     "delete_cmd_postfix": ") ",
     "delete_cmd_prefix": "rm(",
     "library": "var_list.r",
     "varRefreshCmd": "cat(var_dic_list()) "
    }
   },
   "types_to_exclude": [
    "module",
    "function",
    "builtin_function_or_method",
    "instance",
    "_Feature"
   ],
   "window_display": false
  }
 },
 "nbformat": 4,
 "nbformat_minor": 2
}
