{
 "cells": [
  {
   "cell_type": "markdown",
   "metadata": {},
   "source": [
    "## Imports"
   ]
  },
  {
   "cell_type": "code",
   "execution_count": 49,
   "metadata": {
    "ExecuteTime": {
     "end_time": "2021-06-05T01:42:17.788058Z",
     "start_time": "2021-06-05T01:42:17.778915Z"
    }
   },
   "outputs": [],
   "source": [
    "from utility.utility_general import *\n",
    "from utility import utility_crystal\n",
    "import imp, crystals_tools\n",
    "imp.reload(crystals_tools)\n",
    "\n",
    "from sklearn.model_selection import train_test_split\n",
    "import h5py\n",
    "\n",
    "# pd.set_option('display.width', 1000)\n",
    "# pd.set_option('display.max_columns', 500)\n",
    "# pd.set_option('display.max_rows',None)\n",
    "# pd.set_option('display.max_colwidth', 500)\n",
    "\n",
    "from datetime import datetime\n",
    "from joblib import Parallel, delayed\n",
    "from tqdm import tqdm, tqdm_notebook"
   ]
  },
  {
   "cell_type": "markdown",
   "metadata": {},
   "source": [
    "## Loading CIF files from the banks"
   ]
  },
  {
   "cell_type": "code",
   "execution_count": 4,
   "metadata": {
    "ExecuteTime": {
     "end_time": "2021-06-03T16:19:47.739250Z",
     "start_time": "2021-06-03T16:19:45.175932Z"
    },
    "scrolled": false
   },
   "outputs": [
    {
     "data": {
      "text/html": [
       "<div>\n",
       "<style scoped>\n",
       "    .dataframe tbody tr th:only-of-type {\n",
       "        vertical-align: middle;\n",
       "    }\n",
       "\n",
       "    .dataframe tbody tr th {\n",
       "        vertical-align: top;\n",
       "    }\n",
       "\n",
       "    .dataframe thead th {\n",
       "        text-align: right;\n",
       "    }\n",
       "</style>\n",
       "<table border=\"1\" class=\"dataframe\">\n",
       "  <thead>\n",
       "    <tr style=\"text-align: right;\">\n",
       "      <th></th>\n",
       "      <th>id</th>\n",
       "      <th>db</th>\n",
       "      <th>y</th>\n",
       "      <th>cif_file</th>\n",
       "      <th>img_path</th>\n",
       "    </tr>\n",
       "  </thead>\n",
       "  <tbody>\n",
       "    <tr>\n",
       "      <th>0</th>\n",
       "      <td>1000000</td>\n",
       "      <td>cod</td>\n",
       "      <td>1</td>\n",
       "      <td>/home/adavar2/Local_Data/syn/data_banks/cod/ci...</td>\n",
       "      <td>/home/adavar2/Data/syn/data_banks/cod/cif/1/00...</td>\n",
       "    </tr>\n",
       "    <tr>\n",
       "      <th>1</th>\n",
       "      <td>1000001</td>\n",
       "      <td>cod</td>\n",
       "      <td>1</td>\n",
       "      <td>/home/adavar2/Local_Data/syn/data_banks/cod/ci...</td>\n",
       "      <td>/home/adavar2/Data/syn/data_banks/cod/cif/1/00...</td>\n",
       "    </tr>\n",
       "    <tr>\n",
       "      <th>2</th>\n",
       "      <td>1000002</td>\n",
       "      <td>cod</td>\n",
       "      <td>1</td>\n",
       "      <td>/home/adavar2/Local_Data/syn/data_banks/cod/ci...</td>\n",
       "      <td>/home/adavar2/Data/syn/data_banks/cod/cif/1/00...</td>\n",
       "    </tr>\n",
       "    <tr>\n",
       "      <th>3</th>\n",
       "      <td>1000003</td>\n",
       "      <td>cod</td>\n",
       "      <td>1</td>\n",
       "      <td>/home/adavar2/Local_Data/syn/data_banks/cod/ci...</td>\n",
       "      <td>/home/adavar2/Data/syn/data_banks/cod/cif/1/00...</td>\n",
       "    </tr>\n",
       "    <tr>\n",
       "      <th>4</th>\n",
       "      <td>1000004</td>\n",
       "      <td>cod</td>\n",
       "      <td>1</td>\n",
       "      <td>/home/adavar2/Local_Data/syn/data_banks/cod/ci...</td>\n",
       "      <td>/home/adavar2/Data/syn/data_banks/cod/cif/1/00...</td>\n",
       "    </tr>\n",
       "    <tr>\n",
       "      <th>...</th>\n",
       "      <td>...</td>\n",
       "      <td>...</td>\n",
       "      <td>...</td>\n",
       "      <td>...</td>\n",
       "      <td>...</td>\n",
       "    </tr>\n",
       "    <tr>\n",
       "      <th>285616</th>\n",
       "      <td>9016520_super</td>\n",
       "      <td>cod</td>\n",
       "      <td>1</td>\n",
       "      <td>/home/adavar2/Local_Data/syn/data_banks/cod/ci...</td>\n",
       "      <td>/home/adavar2/Data/syn/data_banks/cod/cif_supe...</td>\n",
       "    </tr>\n",
       "    <tr>\n",
       "      <th>285617</th>\n",
       "      <td>9016605_super</td>\n",
       "      <td>cod</td>\n",
       "      <td>1</td>\n",
       "      <td>/home/adavar2/Local_Data/syn/data_banks/cod/ci...</td>\n",
       "      <td>/home/adavar2/Data/syn/data_banks/cod/cif_supe...</td>\n",
       "    </tr>\n",
       "    <tr>\n",
       "      <th>285618</th>\n",
       "      <td>9016621_super</td>\n",
       "      <td>cod</td>\n",
       "      <td>1</td>\n",
       "      <td>/home/adavar2/Local_Data/syn/data_banks/cod/ci...</td>\n",
       "      <td>/home/adavar2/Data/syn/data_banks/cod/cif_supe...</td>\n",
       "    </tr>\n",
       "    <tr>\n",
       "      <th>285619</th>\n",
       "      <td>9016666_super</td>\n",
       "      <td>cod</td>\n",
       "      <td>1</td>\n",
       "      <td>/home/adavar2/Local_Data/syn/data_banks/cod/ci...</td>\n",
       "      <td>/home/adavar2/Data/syn/data_banks/cod/cif_supe...</td>\n",
       "    </tr>\n",
       "    <tr>\n",
       "      <th>285620</th>\n",
       "      <td>9016691_super</td>\n",
       "      <td>cod</td>\n",
       "      <td>1</td>\n",
       "      <td>/home/adavar2/Local_Data/syn/data_banks/cod/ci...</td>\n",
       "      <td>/home/adavar2/Data/syn/data_banks/cod/cif_supe...</td>\n",
       "    </tr>\n",
       "  </tbody>\n",
       "</table>\n",
       "<p>285621 rows × 5 columns</p>\n",
       "</div>"
      ],
      "text/plain": [
       "                   id   db  y  \\\n",
       "0             1000000  cod  1   \n",
       "1             1000001  cod  1   \n",
       "2             1000002  cod  1   \n",
       "3             1000003  cod  1   \n",
       "4             1000004  cod  1   \n",
       "...               ...  ... ..   \n",
       "285616  9016520_super  cod  1   \n",
       "285617  9016605_super  cod  1   \n",
       "285618  9016621_super  cod  1   \n",
       "285619  9016666_super  cod  1   \n",
       "285620  9016691_super  cod  1   \n",
       "\n",
       "                                                 cif_file  \\\n",
       "0       /home/adavar2/Local_Data/syn/data_banks/cod/ci...   \n",
       "1       /home/adavar2/Local_Data/syn/data_banks/cod/ci...   \n",
       "2       /home/adavar2/Local_Data/syn/data_banks/cod/ci...   \n",
       "3       /home/adavar2/Local_Data/syn/data_banks/cod/ci...   \n",
       "4       /home/adavar2/Local_Data/syn/data_banks/cod/ci...   \n",
       "...                                                   ...   \n",
       "285616  /home/adavar2/Local_Data/syn/data_banks/cod/ci...   \n",
       "285617  /home/adavar2/Local_Data/syn/data_banks/cod/ci...   \n",
       "285618  /home/adavar2/Local_Data/syn/data_banks/cod/ci...   \n",
       "285619  /home/adavar2/Local_Data/syn/data_banks/cod/ci...   \n",
       "285620  /home/adavar2/Local_Data/syn/data_banks/cod/ci...   \n",
       "\n",
       "                                                 img_path  \n",
       "0       /home/adavar2/Data/syn/data_banks/cod/cif/1/00...  \n",
       "1       /home/adavar2/Data/syn/data_banks/cod/cif/1/00...  \n",
       "2       /home/adavar2/Data/syn/data_banks/cod/cif/1/00...  \n",
       "3       /home/adavar2/Data/syn/data_banks/cod/cif/1/00...  \n",
       "4       /home/adavar2/Data/syn/data_banks/cod/cif/1/00...  \n",
       "...                                                   ...  \n",
       "285616  /home/adavar2/Data/syn/data_banks/cod/cif_supe...  \n",
       "285617  /home/adavar2/Data/syn/data_banks/cod/cif_supe...  \n",
       "285618  /home/adavar2/Data/syn/data_banks/cod/cif_supe...  \n",
       "285619  /home/adavar2/Data/syn/data_banks/cod/cif_supe...  \n",
       "285620  /home/adavar2/Data/syn/data_banks/cod/cif_supe...  \n",
       "\n",
       "[285621 rows x 5 columns]"
      ]
     },
     "execution_count": 4,
     "metadata": {},
     "output_type": "execute_result"
    }
   ],
   "source": [
    "# top_n = 300\n",
    "\n",
    "pos_files = list_all_files(f'{local_data_path}/data_banks/cod/',\n",
    "                           pattern='**/*.cif')\n",
    "# neg_files = list_all_files(f'{local_data_path}/data_banks/cspd_{top_n}/',\n",
    "#                            pattern='**/*.cif')\n",
    "neg_files = list_all_files(f'{local_data_path}/data_banks/',\n",
    "                           pattern='cspd_*/**/*.cif')\n",
    "\n",
    "pos_df = pd.DataFrame({\n",
    "    'id': [i.split('/')[-1].split('.')[0] for i in pos_files],\n",
    "    'db': 'cod',\n",
    "    'y': [1] * len(pos_files),\n",
    "    'cif_file': pos_files,\n",
    "})\n",
    "neg_df = pd.DataFrame({\n",
    "    'id': [(i.split('/')[-1].split('.')[0]) for i in neg_files],\n",
    "    'db': [i.split('/')[-3] for i in neg_files],\n",
    "    'y': [-1] * len(neg_files),\n",
    "    'cif_file': neg_files,\n",
    "})\n",
    "df = pd.concat([pos_df, neg_df]).reset_index(drop=True)\n",
    "df['img_path'] = df['cif_file'].str.replace('Local_Data/', 'Data/') + '.npy'\n",
    "df_all = df.copy()\n",
    "\n",
    "\n",
    "df = df[df['y']==1]\n",
    "# df = pos_df\n",
    "df"
   ]
  },
  {
   "cell_type": "code",
   "execution_count": 20,
   "metadata": {
    "ExecuteTime": {
     "end_time": "2021-05-21T07:35:17.538034Z",
     "start_time": "2021-05-21T07:35:17.517598Z"
    }
   },
   "outputs": [
    {
     "data": {
      "text/html": [
       "<div>\n",
       "<style scoped>\n",
       "    .dataframe tbody tr th:only-of-type {\n",
       "        vertical-align: middle;\n",
       "    }\n",
       "\n",
       "    .dataframe tbody tr th {\n",
       "        vertical-align: top;\n",
       "    }\n",
       "\n",
       "    .dataframe thead th {\n",
       "        text-align: right;\n",
       "    }\n",
       "</style>\n",
       "<table border=\"1\" class=\"dataframe\">\n",
       "  <thead>\n",
       "    <tr style=\"text-align: right;\">\n",
       "      <th></th>\n",
       "      <th>id</th>\n",
       "      <th>db</th>\n",
       "      <th>y</th>\n",
       "      <th>cif_file</th>\n",
       "    </tr>\n",
       "  </thead>\n",
       "  <tbody>\n",
       "    <tr>\n",
       "      <th>0</th>\n",
       "      <td>0000000</td>\n",
       "      <td>cspd_108</td>\n",
       "      <td>-1</td>\n",
       "      <td>/home/adavar2/Local_Data/syn/data_banks/cspd_1...</td>\n",
       "    </tr>\n",
       "    <tr>\n",
       "      <th>1</th>\n",
       "      <td>0000001</td>\n",
       "      <td>cspd_108</td>\n",
       "      <td>-1</td>\n",
       "      <td>/home/adavar2/Local_Data/syn/data_banks/cspd_1...</td>\n",
       "    </tr>\n",
       "    <tr>\n",
       "      <th>2</th>\n",
       "      <td>0000002</td>\n",
       "      <td>cspd_108</td>\n",
       "      <td>-1</td>\n",
       "      <td>/home/adavar2/Local_Data/syn/data_banks/cspd_1...</td>\n",
       "    </tr>\n",
       "    <tr>\n",
       "      <th>3</th>\n",
       "      <td>0000003</td>\n",
       "      <td>cspd_108</td>\n",
       "      <td>-1</td>\n",
       "      <td>/home/adavar2/Local_Data/syn/data_banks/cspd_1...</td>\n",
       "    </tr>\n",
       "    <tr>\n",
       "      <th>4</th>\n",
       "      <td>0000004</td>\n",
       "      <td>cspd_108</td>\n",
       "      <td>-1</td>\n",
       "      <td>/home/adavar2/Local_Data/syn/data_banks/cspd_1...</td>\n",
       "    </tr>\n",
       "    <tr>\n",
       "      <th>...</th>\n",
       "      <td>...</td>\n",
       "      <td>...</td>\n",
       "      <td>...</td>\n",
       "      <td>...</td>\n",
       "    </tr>\n",
       "    <tr>\n",
       "      <th>2141</th>\n",
       "      <td>2990000</td>\n",
       "      <td>cspd_300</td>\n",
       "      <td>-1</td>\n",
       "      <td>/home/adavar2/Local_Data/syn/data_banks/cspd_3...</td>\n",
       "    </tr>\n",
       "    <tr>\n",
       "      <th>2142</th>\n",
       "      <td>2990001</td>\n",
       "      <td>cspd_300</td>\n",
       "      <td>-1</td>\n",
       "      <td>/home/adavar2/Local_Data/syn/data_banks/cspd_3...</td>\n",
       "    </tr>\n",
       "    <tr>\n",
       "      <th>2143</th>\n",
       "      <td>2990002</td>\n",
       "      <td>cspd_300</td>\n",
       "      <td>-1</td>\n",
       "      <td>/home/adavar2/Local_Data/syn/data_banks/cspd_3...</td>\n",
       "    </tr>\n",
       "    <tr>\n",
       "      <th>2144</th>\n",
       "      <td>2990003</td>\n",
       "      <td>cspd_300</td>\n",
       "      <td>-1</td>\n",
       "      <td>/home/adavar2/Local_Data/syn/data_banks/cspd_3...</td>\n",
       "    </tr>\n",
       "    <tr>\n",
       "      <th>2145</th>\n",
       "      <td>2990004</td>\n",
       "      <td>cspd_300</td>\n",
       "      <td>-1</td>\n",
       "      <td>/home/adavar2/Local_Data/syn/data_banks/cspd_3...</td>\n",
       "    </tr>\n",
       "  </tbody>\n",
       "</table>\n",
       "<p>2146 rows × 4 columns</p>\n",
       "</div>"
      ],
      "text/plain": [
       "           id        db  y                                           cif_file\n",
       "0     0000000  cspd_108 -1  /home/adavar2/Local_Data/syn/data_banks/cspd_1...\n",
       "1     0000001  cspd_108 -1  /home/adavar2/Local_Data/syn/data_banks/cspd_1...\n",
       "2     0000002  cspd_108 -1  /home/adavar2/Local_Data/syn/data_banks/cspd_1...\n",
       "3     0000003  cspd_108 -1  /home/adavar2/Local_Data/syn/data_banks/cspd_1...\n",
       "4     0000004  cspd_108 -1  /home/adavar2/Local_Data/syn/data_banks/cspd_1...\n",
       "...       ...       ... ..                                                ...\n",
       "2141  2990000  cspd_300 -1  /home/adavar2/Local_Data/syn/data_banks/cspd_3...\n",
       "2142  2990001  cspd_300 -1  /home/adavar2/Local_Data/syn/data_banks/cspd_3...\n",
       "2143  2990002  cspd_300 -1  /home/adavar2/Local_Data/syn/data_banks/cspd_3...\n",
       "2144  2990003  cspd_300 -1  /home/adavar2/Local_Data/syn/data_banks/cspd_3...\n",
       "2145  2990004  cspd_300 -1  /home/adavar2/Local_Data/syn/data_banks/cspd_3...\n",
       "\n",
       "[2146 rows x 4 columns]"
      ]
     },
     "execution_count": 20,
     "metadata": {},
     "output_type": "execute_result"
    }
   ],
   "source": [
    "neg_df"
   ]
  },
  {
   "cell_type": "markdown",
   "metadata": {},
   "source": [
    "## Converting CIF files to images\n",
    "### Removing the old positive images"
   ]
  },
  {
   "cell_type": "code",
   "execution_count": 45,
   "metadata": {
    "ExecuteTime": {
     "end_time": "2021-05-12T18:04:53.539370Z",
     "start_time": "2021-05-12T18:04:01.736084Z"
    }
   },
   "outputs": [
    {
     "name": "stdout",
     "output_type": "stream",
     "text": [
      "Te be deleted: 0 - To be converted to image: 0\n"
     ]
    },
    {
     "name": "stderr",
     "output_type": "stream",
     "text": [
      "/home/adavar2/.local/lib/python3.7/site-packages/ipykernel_launcher.py:5: DeprecationWarning: The default dtype for empty Series will be 'object' instead of 'float64' in a future version. Specify a dtype explicitly to silence this warning.\n",
      "  \"\"\"\n",
      "/home/adavar2/.local/lib/python3.7/site-packages/ipykernel_launcher.py:6: DeprecationWarning: The default dtype for empty Series will be 'object' instead of 'float64' in a future version. Specify a dtype explicitly to silence this warning.\n",
      "  \n"
     ]
    }
   ],
   "source": [
    "pos_imgs = list_all_files(f'{data_path}/data_banks/cod/',\n",
    "                           pattern='**/*.npy')\n",
    "\n",
    "pos_imgs = pd.Series(pos_imgs)\n",
    "to_del = pd.Series(list(set(pos_imgs) - set(df['img_path'])))\n",
    "to_conv2img = pd.Series(list(set(df['img_path']) - set(pos_imgs)))\n",
    "\n",
    "print('Te be deleted: {:,} - To be converted to image: {:,}'.format(len(to_del), len(to_conv2img)))\n",
    "# for f in to_del:\n",
    "#     os.remove(f)\n",
    "\n",
    "df = df[df['img_path'].isin(to_conv2img)].reset_index(drop=True)"
   ]
  },
  {
   "cell_type": "markdown",
   "metadata": {},
   "source": [
    "### Removing the negative set images\n",
    "It's better do be done manually:\n",
    "~~~\n",
    "cd ~/Data/syn/data_banks/cspd_108/\n",
    "rm -r 0*\n",
    "~~~"
   ]
  },
  {
   "cell_type": "markdown",
   "metadata": {},
   "source": [
    "### Creating new images"
   ]
  },
  {
   "cell_type": "code",
   "execution_count": 21,
   "metadata": {
    "ExecuteTime": {
     "end_time": "2021-05-21T07:40:23.341466Z",
     "start_time": "2021-05-21T07:37:23.027993Z"
    }
   },
   "outputs": [
    {
     "data": {
      "application/vnd.jupyter.widget-view+json": {
       "model_id": "48dd3c138c854aa3ae61b42ddf2d23c5",
       "version_major": 2,
       "version_minor": 0
      },
      "text/plain": [
       "HBox(children=(IntProgress(value=0, max=2146), HTML(value='')))"
      ]
     },
     "metadata": {},
     "output_type": "display_data"
    },
    {
     "name": "stderr",
     "output_type": "stream",
     "text": [
      "/home/adavar2/anaconda3/envs/explain/lib/python3.7/site-packages/joblib/externals/loky/process_executor.py:706: UserWarning: A worker stopped while some jobs were given to the executor. This can be caused by a too short worker timeout or by a memory leak.\n",
      "  \"timeout or by a memory leak.\", UserWarning\n"
     ]
    },
    {
     "name": "stdout",
     "output_type": "stream",
     "text": [
      "\n",
      "Finished: Creating anomalies. Run time: 0:03:00\n"
     ]
    }
   ],
   "source": [
    "time_1 = datetime.now()\n",
    "\n",
    "output = Parallel(n_jobs=64)(delayed(crystals_tools.cif2image)\n",
    "#                              (row['cif_file'], save_to=row['img_path'], create_path=True, ok_error=True,\n",
    "                             (df['cif_file'][i], save_to=df['img_path'][i], create_path=True, ok_error=True,\n",
    "                             skip_min_atomic_dist=True) \n",
    "#                              for _, row in tqdm_notebook(df.iterrows()))\n",
    "                             for i, _ in tqdm_notebook(df.iterrows(), total=len(df)))\n",
    "\n",
    "time_2 = datetime.now()\n",
    "print('Finished: Creating anomalies. Run time:', str(time_2 - time_1)[:-7])"
   ]
  },
  {
   "cell_type": "code",
   "execution_count": 140,
   "metadata": {
    "ExecuteTime": {
     "end_time": "2021-05-07T01:10:01.058370Z",
     "start_time": "2021-05-07T01:07:00.517149Z"
    }
   },
   "outputs": [
    {
     "data": {
      "application/vnd.jupyter.widget-view+json": {
       "model_id": "ab1720259b0448508a67281ed3dfdec8",
       "version_major": 2,
       "version_minor": 0
      },
      "text/plain": [
       "HBox(children=(IntProgress(value=0, max=2149), HTML(value='')))"
      ]
     },
     "metadata": {},
     "output_type": "display_data"
    },
    {
     "name": "stderr",
     "output_type": "stream",
     "text": [
      "/home/adavar2/anaconda3/envs/explain/lib/python3.7/site-packages/joblib/externals/loky/process_executor.py:706: UserWarning: A worker stopped while some jobs were given to the executor. This can be caused by a too short worker timeout or by a memory leak.\n",
      "  \"timeout or by a memory leak.\", UserWarning\n"
     ]
    },
    {
     "name": "stdout",
     "output_type": "stream",
     "text": [
      "Finished: Creating anomalies. Run time: 0:03:00\n"
     ]
    }
   ],
   "source": [
    "time_1 = datetime.now()\n",
    "\n",
    "output = Parallel(n_jobs=64)(delayed(crystals_tools.cif2image)\n",
    "#                              (row['cif_file'], save_to=row['img_path'], create_path=True, ok_error=True,\n",
    "                             (df['cif_file'][i], save_to=df['img_path'][i], create_path=True, ok_error=False,\n",
    "                             skip_min_atomic_dist=True) \n",
    "#                              for _, row in tqdm_notebook(df.iterrows()))\n",
    "                             for i in tqdm_notebook(range(len(df))))\n",
    "\n",
    "time_2 = datetime.now()\n",
    "print('Finished: Creating anomalies. Run time:', str(time_2 - time_1)[:-7])"
   ]
  },
  {
   "cell_type": "markdown",
   "metadata": {},
   "source": [
    "### Checking if all the cif files in the bank were converted to images or not"
   ]
  },
  {
   "cell_type": "code",
   "execution_count": 22,
   "metadata": {
    "ExecuteTime": {
     "end_time": "2021-05-21T07:41:53.364605Z",
     "start_time": "2021-05-21T07:41:52.887312Z"
    }
   },
   "outputs": [
    {
     "name": "stdout",
     "output_type": "stream",
     "text": [
      "2146 2146\n"
     ]
    }
   ],
   "source": [
    "# Checking if all the cif files in the bank were converted to images or not\n",
    "# img_files = list_all_files(f'{data_path}/data_banks/', pattern='**/*.npy')\n",
    "img_files = list_all_files(f'{data_path}/data_banks/', pattern='cspd_*/**/*.npy')\n",
    "print(len(img_files), len(df))\n",
    "# assert len(img_files) == len(df)"
   ]
  },
  {
   "cell_type": "markdown",
   "metadata": {},
   "source": [
    "## Creating data sets"
   ]
  },
  {
   "cell_type": "markdown",
   "metadata": {},
   "source": [
    "### Data set 9:\n",
    "The same as method as data set 7 with a constraint on min_dist >0.9"
   ]
  },
  {
   "cell_type": "code",
   "execution_count": 90,
   "metadata": {
    "ExecuteTime": {
     "end_time": "2021-06-07T00:01:22.661790Z",
     "start_time": "2021-06-07T00:01:14.766094Z"
    }
   },
   "outputs": [],
   "source": [
    "from ase.formula import Formula\n",
    "path = f'{data_path}/data_sets/data_set_9/'\n",
    "top_n = 108\n",
    "\n",
    "df_neg = df_all[df_all['db'] == f'cspd_{top_n}'].sample(frac=1, random_state=0)\n",
    "df = pd.read_csv(f'{local_data_path}/data_bases/cspd/cif_top_{top_n}/df.csv')\n",
    "df['id'] = [i.split('/')[-1].split('.')[0] for i in df['file']]\n",
    "assert df['id'].isin(df_neg['id']).all()\n",
    "df_neg = pd.merge(df_neg, df[['id', 'sgn', 'symbols']], on='id', how='left')\n",
    "df_neg['formula_hill'] = [Formula(i).reduce()[0].format('hill') for i in df_neg['symbols']]\n",
    "\n",
    "df_pos = pd.read_csv(f'{local_data_path}/data_banks/cod/df.csv', index_col=0)\n",
    "df_pos['cif_file'] = local_data_path + '/data_banks/cod' + df_pos['filename'].astype('string')\n",
    "# from utility import utility_crystal\n",
    "# sg = utility_crystal.SpaceGroups()\n",
    "# df_pos['sgn'] = [sg.convert(i, 'Hall', 'sgn', pick_one=True) for i in df_pos['spacegroup']]\n",
    "df_pos['formula_hill'] = [Formula(i).reduce()[0].format('hill') for i in df_pos['formula']]"
   ]
  },
  {
   "cell_type": "code",
   "execution_count": 91,
   "metadata": {
    "ExecuteTime": {
     "end_time": "2021-06-07T00:01:23.015608Z",
     "start_time": "2021-06-07T00:01:22.934558Z"
    }
   },
   "outputs": [
    {
     "name": "stdout",
     "output_type": "stream",
     "text": [
      "Number of data positive data points fitting in the resolution constraint: 111,461/285,621\n"
     ]
    }
   ],
   "source": [
    "n_df_pos_initial = len(df_pos)\n",
    "df_pos = df_pos[df_pos['min_atomic_dist'] > (3**.5 * 70/128)]\n",
    "print(f'Number of data positive data points fitting in the resolution constraint: {len(df_pos):,}/{n_df_pos_initial:,}')"
   ]
  },
  {
   "cell_type": "code",
   "execution_count": 92,
   "metadata": {
    "ExecuteTime": {
     "end_time": "2021-06-07T00:01:23.564393Z",
     "start_time": "2021-06-07T00:01:23.302117Z"
    }
   },
   "outputs": [
    {
     "name": "stdout",
     "output_type": "stream",
     "text": [
      "Positive crystals with sharing the same compositions as negatives: 367\n",
      "Tot. samples=3,600  [Pos.=3,000 - Neg.=600(16.7%)]\n",
      "Tot. train=1,764 - Tot. dev.=756 - Tot. test=1,080\n"
     ]
    }
   ],
   "source": [
    "df = df_pos[df_pos['formula_hill'].isin(df_neg['formula_hill'])]\n",
    "print('Positive crystals with sharing the same compositions as negatives: {:,}'.format(len(df)))\n",
    "df_pos_1 = df_all[df_all['cif_file'].isin(df['cif_file'])]\n",
    "assert len(df) == len(df_pos_1)\n",
    "df = df_all[~df_all['cif_file'].isin(df_pos_1['cif_file'])]\n",
    "assert len(df) + len(df_pos_1) == len(df_all)\n",
    "df_pos_2 = df[df['db'] == 'cod'].sample(n=len(df_neg) * 5 - len(df_pos_1), random_state=0)\n",
    "df_pos = pd.concat([df_pos_1, df_pos_2])\n",
    "assert len(df_pos) == len(df_neg) * 5\n",
    "\n",
    "df_ds = pd.concat([df_neg, df_pos]).sample(frac=1, random_state=0)\n",
    "df_train, df_test = train_test_split(df_ds, test_size=0.3, random_state=0)\n",
    "df_train, df_dev = train_test_split(df_train, test_size=0.3, random_state=0)\n",
    "\n",
    "print('Tot. samples={:,}  [Pos.={:,} - Neg.={:,}({:.1f}%)]'.format(\n",
    "    len(df_ds), len(df_ds[df_ds['y']==1]), len(df_ds[df_ds['y']==-1]), \n",
    "    len(df_ds[df_ds['y']==-1])/len(df_ds)*100\n",
    "))\n",
    "\n",
    "print('Tot. train={:,} - Tot. dev.={:,} - Tot. test={:,}'.format(\n",
    "    len(df_train), len(df_dev), len(df_test)\n",
    "))\n",
    "\n",
    "# makedirs(path, exist_ok=True)\n",
    "# df_train.to_csv(path + 'train.csv')\n",
    "# df_test.to_csv(path + 'test.csv')\n",
    "# df_dev.to_csv(path + 'dev.csv')"
   ]
  },
  {
   "cell_type": "markdown",
   "metadata": {},
   "source": [
    "### Data set of electrode and thermoelectric materials"
   ]
  },
  {
   "cell_type": "code",
   "execution_count": 66,
   "metadata": {
    "ExecuteTime": {
     "end_time": "2021-06-05T01:57:06.365131Z",
     "start_time": "2021-06-05T01:57:06.335116Z"
    }
   },
   "outputs": [
    {
     "data": {
      "text/html": [
       "<div>\n",
       "<style scoped>\n",
       "    .dataframe tbody tr th:only-of-type {\n",
       "        vertical-align: middle;\n",
       "    }\n",
       "\n",
       "    .dataframe tbody tr th {\n",
       "        vertical-align: top;\n",
       "    }\n",
       "\n",
       "    .dataframe thead th {\n",
       "        text-align: right;\n",
       "    }\n",
       "</style>\n",
       "<table border=\"1\" class=\"dataframe\">\n",
       "  <thead>\n",
       "    <tr style=\"text-align: right;\">\n",
       "      <th></th>\n",
       "      <th>year</th>\n",
       "      <th>formula</th>\n",
       "      <th>db</th>\n",
       "      <th>file</th>\n",
       "      <th>sgn</th>\n",
       "      <th>HM</th>\n",
       "      <th>formula_hill</th>\n",
       "    </tr>\n",
       "  </thead>\n",
       "  <tbody>\n",
       "    <tr>\n",
       "      <th>0</th>\n",
       "      <td>2001</td>\n",
       "      <td>EuH3Li</td>\n",
       "      <td>mp</td>\n",
       "      <td>/home/ali/Data/cod/thermoelectric/cif-top-10s/...</td>\n",
       "      <td>221.0</td>\n",
       "      <td>Pm-3m</td>\n",
       "      <td>H3EuLi</td>\n",
       "    </tr>\n",
       "    <tr>\n",
       "      <th>1</th>\n",
       "      <td>2001</td>\n",
       "      <td>CdGeP2</td>\n",
       "      <td>mp-avail-in-cod</td>\n",
       "      <td>/home/ali/Data/cod/thermoelectric/cif-top-10s/...</td>\n",
       "      <td>122.0</td>\n",
       "      <td>I-42d</td>\n",
       "      <td>CdGeP2</td>\n",
       "    </tr>\n",
       "    <tr>\n",
       "      <th>2</th>\n",
       "      <td>2001</td>\n",
       "      <td>CdGeP2</td>\n",
       "      <td>mp</td>\n",
       "      <td>/home/ali/Data/cod/thermoelectric/cif-top-10s/...</td>\n",
       "      <td>225.0</td>\n",
       "      <td>Fm-3m</td>\n",
       "      <td>CdGeP2</td>\n",
       "    </tr>\n",
       "    <tr>\n",
       "      <th>3</th>\n",
       "      <td>2001</td>\n",
       "      <td>CdGeP2</td>\n",
       "      <td>mp</td>\n",
       "      <td>/home/ali/Data/cod/thermoelectric/cif-top-10s/...</td>\n",
       "      <td>160.0</td>\n",
       "      <td>R3m</td>\n",
       "      <td>CdGeP2</td>\n",
       "    </tr>\n",
       "    <tr>\n",
       "      <th>4</th>\n",
       "      <td>2001</td>\n",
       "      <td>CdGeP2</td>\n",
       "      <td>cod</td>\n",
       "      <td>/home/ali/Data/cod/thermoelectric/cif-top-10s/...</td>\n",
       "      <td>122.0</td>\n",
       "      <td>I -4 2 d</td>\n",
       "      <td>CdGeP2</td>\n",
       "    </tr>\n",
       "    <tr>\n",
       "      <th>...</th>\n",
       "      <td>...</td>\n",
       "      <td>...</td>\n",
       "      <td>...</td>\n",
       "      <td>...</td>\n",
       "      <td>...</td>\n",
       "      <td>...</td>\n",
       "      <td>...</td>\n",
       "    </tr>\n",
       "    <tr>\n",
       "      <th>209</th>\n",
       "      <td>2018</td>\n",
       "      <td>CuTe</td>\n",
       "      <td>mp-avail-in-cod-duplicated</td>\n",
       "      <td>/home/ali/Data/cod/thermoelectric/cif-top-10s/...</td>\n",
       "      <td>59.0</td>\n",
       "      <td>Pmmn</td>\n",
       "      <td>CuTe</td>\n",
       "    </tr>\n",
       "    <tr>\n",
       "      <th>210</th>\n",
       "      <td>2018</td>\n",
       "      <td>CuTe</td>\n",
       "      <td>mp-avail-in-cod</td>\n",
       "      <td>/home/ali/Data/cod/thermoelectric/cif-top-10s/...</td>\n",
       "      <td>59.0</td>\n",
       "      <td>Pmmn</td>\n",
       "      <td>CuTe</td>\n",
       "    </tr>\n",
       "    <tr>\n",
       "      <th>211</th>\n",
       "      <td>2018</td>\n",
       "      <td>CuTe</td>\n",
       "      <td>cod</td>\n",
       "      <td>/home/ali/Data/cod/thermoelectric/cif-top-10s/...</td>\n",
       "      <td>59.0</td>\n",
       "      <td>P m m n</td>\n",
       "      <td>CuTe</td>\n",
       "    </tr>\n",
       "    <tr>\n",
       "      <th>212</th>\n",
       "      <td>2018</td>\n",
       "      <td>CuTe</td>\n",
       "      <td>cod-duplicated</td>\n",
       "      <td>/home/ali/Data/cod/thermoelectric/cif-top-10s/...</td>\n",
       "      <td>59.0</td>\n",
       "      <td>P m m n</td>\n",
       "      <td>CuTe</td>\n",
       "    </tr>\n",
       "    <tr>\n",
       "      <th>213</th>\n",
       "      <td>2018</td>\n",
       "      <td>Cu2Se2Tl</td>\n",
       "      <td>mp</td>\n",
       "      <td>/home/ali/Data/cod/thermoelectric/cif-top-10s/...</td>\n",
       "      <td>139.0</td>\n",
       "      <td>I4/mmm</td>\n",
       "      <td>Cu2Se2Tl</td>\n",
       "    </tr>\n",
       "  </tbody>\n",
       "</table>\n",
       "<p>214 rows × 7 columns</p>\n",
       "</div>"
      ],
      "text/plain": [
       "     year   formula                          db  \\\n",
       "0    2001    EuH3Li                          mp   \n",
       "1    2001    CdGeP2             mp-avail-in-cod   \n",
       "2    2001    CdGeP2                          mp   \n",
       "3    2001    CdGeP2                          mp   \n",
       "4    2001    CdGeP2                         cod   \n",
       "..    ...       ...                         ...   \n",
       "209  2018      CuTe  mp-avail-in-cod-duplicated   \n",
       "210  2018      CuTe             mp-avail-in-cod   \n",
       "211  2018      CuTe                         cod   \n",
       "212  2018      CuTe              cod-duplicated   \n",
       "213  2018  Cu2Se2Tl                          mp   \n",
       "\n",
       "                                                  file    sgn        HM  \\\n",
       "0    /home/ali/Data/cod/thermoelectric/cif-top-10s/...  221.0     Pm-3m   \n",
       "1    /home/ali/Data/cod/thermoelectric/cif-top-10s/...  122.0     I-42d   \n",
       "2    /home/ali/Data/cod/thermoelectric/cif-top-10s/...  225.0     Fm-3m   \n",
       "3    /home/ali/Data/cod/thermoelectric/cif-top-10s/...  160.0       R3m   \n",
       "4    /home/ali/Data/cod/thermoelectric/cif-top-10s/...  122.0  I -4 2 d   \n",
       "..                                                 ...    ...       ...   \n",
       "209  /home/ali/Data/cod/thermoelectric/cif-top-10s/...   59.0      Pmmn   \n",
       "210  /home/ali/Data/cod/thermoelectric/cif-top-10s/...   59.0      Pmmn   \n",
       "211  /home/ali/Data/cod/thermoelectric/cif-top-10s/...   59.0   P m m n   \n",
       "212  /home/ali/Data/cod/thermoelectric/cif-top-10s/...   59.0   P m m n   \n",
       "213  /home/ali/Data/cod/thermoelectric/cif-top-10s/...  139.0    I4/mmm   \n",
       "\n",
       "    formula_hill  \n",
       "0         H3EuLi  \n",
       "1         CdGeP2  \n",
       "2         CdGeP2  \n",
       "3         CdGeP2  \n",
       "4         CdGeP2  \n",
       "..           ...  \n",
       "209         CuTe  \n",
       "210         CuTe  \n",
       "211         CuTe  \n",
       "212         CuTe  \n",
       "213     Cu2Se2Tl  \n",
       "\n",
       "[214 rows x 7 columns]"
      ]
     },
     "execution_count": 66,
     "metadata": {},
     "output_type": "execute_result"
    }
   ],
   "source": [
    "thermo = pd.read_csv(f'{data_path}/thermoelectric_materials/thermoelectric_materials.csv')\n",
    "\n",
    "thermo.rename(columns={'data_set': 'db', 'filename': 'file'}, inplace=True)\n",
    "assert ~ thermo.duplicated(subset=['file']).any()\n",
    "thermo"
   ]
  },
  {
   "cell_type": "code",
   "execution_count": 79,
   "metadata": {
    "ExecuteTime": {
     "end_time": "2021-06-05T03:14:21.292040Z",
     "start_time": "2021-06-05T03:14:20.059714Z"
    }
   },
   "outputs": [
    {
     "data": {
      "text/html": [
       "<div>\n",
       "<style scoped>\n",
       "    .dataframe tbody tr th:only-of-type {\n",
       "        vertical-align: middle;\n",
       "    }\n",
       "\n",
       "    .dataframe tbody tr th {\n",
       "        vertical-align: top;\n",
       "    }\n",
       "\n",
       "    .dataframe thead th {\n",
       "        text-align: right;\n",
       "    }\n",
       "</style>\n",
       "<table border=\"1\" class=\"dataframe\">\n",
       "  <thead>\n",
       "    <tr style=\"text-align: right;\">\n",
       "      <th></th>\n",
       "      <th>type</th>\n",
       "      <th>db</th>\n",
       "      <th>y</th>\n",
       "      <th>file</th>\n",
       "      <th>img_path</th>\n",
       "    </tr>\n",
       "  </thead>\n",
       "  <tbody>\n",
       "    <tr>\n",
       "      <th>0</th>\n",
       "      <td>electrode</td>\n",
       "      <td>mp</td>\n",
       "      <td>1</td>\n",
       "      <td>/home/adavar2/Data/syn/electrode_materials/dow...</td>\n",
       "      <td>/home/adavar2/Data/syn/data_banks/electrode-th...</td>\n",
       "    </tr>\n",
       "    <tr>\n",
       "      <th>1</th>\n",
       "      <td>electrode</td>\n",
       "      <td>mp</td>\n",
       "      <td>1</td>\n",
       "      <td>/home/adavar2/Data/syn/electrode_materials/dow...</td>\n",
       "      <td>/home/adavar2/Data/syn/data_banks/electrode-th...</td>\n",
       "    </tr>\n",
       "    <tr>\n",
       "      <th>2</th>\n",
       "      <td>electrode</td>\n",
       "      <td>mp</td>\n",
       "      <td>1</td>\n",
       "      <td>/home/adavar2/Data/syn/electrode_materials/dow...</td>\n",
       "      <td>/home/adavar2/Data/syn/data_banks/electrode-th...</td>\n",
       "    </tr>\n",
       "    <tr>\n",
       "      <th>3</th>\n",
       "      <td>electrode</td>\n",
       "      <td>mp</td>\n",
       "      <td>1</td>\n",
       "      <td>/home/adavar2/Data/syn/electrode_materials/dow...</td>\n",
       "      <td>/home/adavar2/Data/syn/data_banks/electrode-th...</td>\n",
       "    </tr>\n",
       "    <tr>\n",
       "      <th>4</th>\n",
       "      <td>electrode</td>\n",
       "      <td>mp</td>\n",
       "      <td>1</td>\n",
       "      <td>/home/adavar2/Data/syn/electrode_materials/dow...</td>\n",
       "      <td>/home/adavar2/Data/syn/data_banks/electrode-th...</td>\n",
       "    </tr>\n",
       "    <tr>\n",
       "      <th>...</th>\n",
       "      <td>...</td>\n",
       "      <td>...</td>\n",
       "      <td>...</td>\n",
       "      <td>...</td>\n",
       "      <td>...</td>\n",
       "    </tr>\n",
       "    <tr>\n",
       "      <th>2564</th>\n",
       "      <td>thermoelectric</td>\n",
       "      <td>mp-avail-in-cod-duplicated</td>\n",
       "      <td>1</td>\n",
       "      <td>/home/adavar2/Data/cod/thermoelectric/cif-top-...</td>\n",
       "      <td>/home/adavar2/Data/syn/data_banks/electrode-th...</td>\n",
       "    </tr>\n",
       "    <tr>\n",
       "      <th>2565</th>\n",
       "      <td>thermoelectric</td>\n",
       "      <td>mp-avail-in-cod</td>\n",
       "      <td>1</td>\n",
       "      <td>/home/adavar2/Data/cod/thermoelectric/cif-top-...</td>\n",
       "      <td>/home/adavar2/Data/syn/data_banks/electrode-th...</td>\n",
       "    </tr>\n",
       "    <tr>\n",
       "      <th>2566</th>\n",
       "      <td>thermoelectric</td>\n",
       "      <td>cod</td>\n",
       "      <td>1</td>\n",
       "      <td>/home/adavar2/Data/cod/thermoelectric/cif-top-...</td>\n",
       "      <td>/home/adavar2/Data/syn/data_banks/electrode-th...</td>\n",
       "    </tr>\n",
       "    <tr>\n",
       "      <th>2567</th>\n",
       "      <td>thermoelectric</td>\n",
       "      <td>cod-duplicated</td>\n",
       "      <td>1</td>\n",
       "      <td>/home/adavar2/Data/cod/thermoelectric/cif-top-...</td>\n",
       "      <td>/home/adavar2/Data/syn/data_banks/electrode-th...</td>\n",
       "    </tr>\n",
       "    <tr>\n",
       "      <th>2568</th>\n",
       "      <td>thermoelectric</td>\n",
       "      <td>mp</td>\n",
       "      <td>1</td>\n",
       "      <td>/home/adavar2/Data/cod/thermoelectric/cif-top-...</td>\n",
       "      <td>/home/adavar2/Data/syn/data_banks/electrode-th...</td>\n",
       "    </tr>\n",
       "  </tbody>\n",
       "</table>\n",
       "<p>2569 rows × 5 columns</p>\n",
       "</div>"
      ],
      "text/plain": [
       "                type                          db  y  \\\n",
       "0          electrode                          mp  1   \n",
       "1          electrode                          mp  1   \n",
       "2          electrode                          mp  1   \n",
       "3          electrode                          mp  1   \n",
       "4          electrode                          mp  1   \n",
       "...              ...                         ... ..   \n",
       "2564  thermoelectric  mp-avail-in-cod-duplicated  1   \n",
       "2565  thermoelectric             mp-avail-in-cod  1   \n",
       "2566  thermoelectric                         cod  1   \n",
       "2567  thermoelectric              cod-duplicated  1   \n",
       "2568  thermoelectric                          mp  1   \n",
       "\n",
       "                                                   file  \\\n",
       "0     /home/adavar2/Data/syn/electrode_materials/dow...   \n",
       "1     /home/adavar2/Data/syn/electrode_materials/dow...   \n",
       "2     /home/adavar2/Data/syn/electrode_materials/dow...   \n",
       "3     /home/adavar2/Data/syn/electrode_materials/dow...   \n",
       "4     /home/adavar2/Data/syn/electrode_materials/dow...   \n",
       "...                                                 ...   \n",
       "2564  /home/adavar2/Data/cod/thermoelectric/cif-top-...   \n",
       "2565  /home/adavar2/Data/cod/thermoelectric/cif-top-...   \n",
       "2566  /home/adavar2/Data/cod/thermoelectric/cif-top-...   \n",
       "2567  /home/adavar2/Data/cod/thermoelectric/cif-top-...   \n",
       "2568  /home/adavar2/Data/cod/thermoelectric/cif-top-...   \n",
       "\n",
       "                                               img_path  \n",
       "0     /home/adavar2/Data/syn/data_banks/electrode-th...  \n",
       "1     /home/adavar2/Data/syn/data_banks/electrode-th...  \n",
       "2     /home/adavar2/Data/syn/data_banks/electrode-th...  \n",
       "3     /home/adavar2/Data/syn/data_banks/electrode-th...  \n",
       "4     /home/adavar2/Data/syn/data_banks/electrode-th...  \n",
       "...                                                 ...  \n",
       "2564  /home/adavar2/Data/syn/data_banks/electrode-th...  \n",
       "2565  /home/adavar2/Data/syn/data_banks/electrode-th...  \n",
       "2566  /home/adavar2/Data/syn/data_banks/electrode-th...  \n",
       "2567  /home/adavar2/Data/syn/data_banks/electrode-th...  \n",
       "2568  /home/adavar2/Data/syn/data_banks/electrode-th...  \n",
       "\n",
       "[2569 rows x 5 columns]"
      ]
     },
     "execution_count": 79,
     "metadata": {},
     "output_type": "execute_result"
    }
   ],
   "source": [
    "# df = pd.read_csv('tmp/electrode-and-thermo-df.csv', index_col=0)\n",
    "# df\n",
    "# thermo = load_var(f'{data_path}/thermoelectric_materials/atoms_list_top_10.pkl')\n",
    "thermo = pd.read_csv(f'{data_path}/thermoelectric_materials/thermoelectric_materials.csv')\n",
    "\n",
    "thermo.rename(columns={'data_set': 'db', 'filename': 'file'}, inplace=True)\n",
    "assert ~ thermo.duplicated(subset=['file']).any()\n",
    "thermo['type'] = 'thermoelectric'\n",
    "thermo['y'] = 1\n",
    "thermo['file'] = thermo['file'].str.replace('/ali/', '/adavar2/')\n",
    "assert np.array([exists(f) for f in thermo['file']]).all() # File existance check\n",
    "thermo = thermo[['type', 'db', 'y', 'file']]\n",
    "\n",
    "electrode_df = pd.read_csv(data_path + '/electrode_materials/electrode-materials.csv')\n",
    "electrode_df['type'] = 'electrode'\n",
    "electrode_df['y'] = 1\n",
    "electrode_df['file'] = electrode_df['path']\n",
    "electrode_df.loc[electrode_df['db']=='cod-sc', 'db'] = 'cod'\n",
    "electrode_df = electrode_df[list(thermo.columns)]\n",
    "\n",
    "# thermo\n",
    "# electrode_df\n",
    "df = pd.concat([electrode_df, thermo]).reset_index(drop=True)\n",
    "# df['img_path'] = [f'{data_path}/tmp/electrode-thermo-img/{i//100:03}/{3:04}.npy' for i in range(len(df))]\n",
    "df['img_path'] = [f'{data_path}/data_banks/electrode-thermoelectric_materials/imgs/{i//100:03}/{i:05}.npy'\\\n",
    "                  for i in range(len(df))]\n",
    "\n",
    "df.loc[~np.array([exists(f) for f in df['file']]), 'file'] = local_data_path +\\\n",
    "    df.loc[~np.array([exists(f) for f in df['file']]), 'file']\n",
    "\n",
    "assert np.array([exists(f) for f in df['file']]).all()\n",
    "assert np.array([exists(f) for f in df['img_path']]).all()\n",
    "assert ~df.duplicated(subset=['file']).any()\n",
    "assert ~df.duplicated(subset=['img_path']).any()\n",
    "\n",
    "# df.to_csv(data_path + '/data_sets/electrode_thermoelectric_materials.csv', index=False)\n",
    "df"
   ]
  },
  {
   "cell_type": "code",
   "execution_count": 78,
   "metadata": {
    "ExecuteTime": {
     "end_time": "2021-06-05T03:12:38.107598Z",
     "start_time": "2021-06-05T03:12:38.091700Z"
    }
   },
   "outputs": [
    {
     "data": {
      "text/plain": [
       "mp                            66\n",
       "cod                           56\n",
       "mp-avail-in-cod               43\n",
       "cod-duplicated                42\n",
       "mp-avail-in-cod-duplicated     7\n",
       "Name: db, dtype: int64"
      ]
     },
     "execution_count": 78,
     "metadata": {},
     "output_type": "execute_result"
    }
   ],
   "source": [
    "# df = pd.read_csv(data_path + '/data_sets/electrode_thermoelectric_materials.csv')\n",
    "df.loc[df['type'] == 'thermoelectric', 'db'].value_counts()"
   ]
  },
  {
   "cell_type": "markdown",
   "metadata": {},
   "source": [
    "#### Creating images"
   ]
  },
  {
   "cell_type": "code",
   "execution_count": 214,
   "metadata": {
    "ExecuteTime": {
     "end_time": "2021-05-28T06:03:03.055027Z",
     "start_time": "2021-05-28T06:00:40.165483Z"
    }
   },
   "outputs": [
    {
     "data": {
      "application/vnd.jupyter.widget-view+json": {
       "model_id": "1fee6b35a7694b10b97090b4640f3b8e",
       "version_major": 2,
       "version_minor": 0
      },
      "text/plain": [
       "HBox(children=(IntProgress(value=0, max=2569), HTML(value='')))"
      ]
     },
     "metadata": {},
     "output_type": "display_data"
    },
    {
     "name": "stderr",
     "output_type": "stream",
     "text": [
      "/home/adavar2/anaconda3/envs/explain/lib/python3.7/site-packages/joblib/externals/loky/process_executor.py:706: UserWarning: A worker stopped while some jobs were given to the executor. This can be caused by a too short worker timeout or by a memory leak.\n",
      "  \"timeout or by a memory leak.\", UserWarning\n"
     ]
    },
    {
     "name": "stdout",
     "output_type": "stream",
     "text": [
      "\n",
      "Finished: Creating anomalies. Run time: 0:02:22\n"
     ]
    }
   ],
   "source": [
    "time_1 = datetime.now()\n",
    "shutil.rmtree(f'{data_path}/tmp/electrode-thermo-img/')\n",
    "\n",
    "output = Parallel(n_jobs=64)(delayed(crystals_tools.cif2image)\n",
    "                             (row['file'], save_to=row['img_path'], create_path=True, ok_error=True,\n",
    "                             skip_min_atomic_dist=True) \n",
    "                             for _, row in tqdm_notebook(df.iterrows(), total=len(df)))\n",
    "\n",
    "time_2 = datetime.now()\n",
    "print('Finished: Creating anomalies. Run time:', str(time_2 - time_1)[:-7])"
   ]
  },
  {
   "cell_type": "code",
   "execution_count": null,
   "metadata": {
    "ExecuteTime": {
     "end_time": "2021-05-28T06:32:32.628282Z",
     "start_time": "2021-05-28T06:32:32.539593Z"
    }
   },
   "outputs": [],
   "source": [
    "# Checking if all the images are converted \n",
    "created_imgs = set(list_all_files(f'{data_path}/tmp/electrode-thermo-img/' ,pattern='**/*.npy'))\n",
    "assert set(df['img_path']) == created_imgs"
   ]
  }
 ],
 "metadata": {
  "kernelspec": {
   "display_name": "Python 3",
   "language": "python",
   "name": "python3"
  },
  "language_info": {
   "codemirror_mode": {
    "name": "ipython",
    "version": 3
   },
   "file_extension": ".py",
   "mimetype": "text/x-python",
   "name": "python",
   "nbconvert_exporter": "python",
   "pygments_lexer": "ipython3",
   "version": "3.7.10"
  },
  "toc": {
   "base_numbering": 1,
   "nav_menu": {},
   "number_sections": true,
   "sideBar": true,
   "skip_h1_title": false,
   "title_cell": "Table of Contents",
   "title_sidebar": "Contents",
   "toc_cell": false,
   "toc_position": {
    "height": "calc(100% - 180px)",
    "left": "10px",
    "top": "150px",
    "width": "261px"
   },
   "toc_section_display": true,
   "toc_window_display": true
  },
  "varInspector": {
   "cols": {
    "lenName": 16,
    "lenType": 16,
    "lenVar": 40
   },
   "kernels_config": {
    "python": {
     "delete_cmd_postfix": "",
     "delete_cmd_prefix": "del ",
     "library": "var_list.py",
     "varRefreshCmd": "print(var_dic_list())"
    },
    "r": {
     "delete_cmd_postfix": ") ",
     "delete_cmd_prefix": "rm(",
     "library": "var_list.r",
     "varRefreshCmd": "cat(var_dic_list()) "
    }
   },
   "types_to_exclude": [
    "module",
    "function",
    "builtin_function_or_method",
    "instance",
    "_Feature"
   ],
   "window_display": false
  }
 },
 "nbformat": 4,
 "nbformat_minor": 4
}
