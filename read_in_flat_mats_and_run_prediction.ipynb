{
 "cells": [
  {
   "cell_type": "markdown",
   "metadata": {},
   "source": [
    "# Read in from anupam and siphon flat materials"
   ]
  },
  {
   "cell_type": "code",
   "execution_count": 1,
   "metadata": {
    "tags": []
   },
   "outputs": [
    {
     "name": "stderr",
     "output_type": "stream",
     "text": [
      "2024-02-29 13:59:50.103857: I tensorflow/core/platform/cpu_feature_guard.cc:182] This TensorFlow binary is optimized to use available CPU instructions in performance-critical operations.\n",
      "To enable the following instructions: SSE4.1 SSE4.2 AVX AVX2 FMA, in other operations, rebuild TensorFlow with the appropriate compiler flags.\n"
     ]
    }
   ],
   "source": [
    "import pandas as pd\n",
    "import numpy as np\n",
    "import tensorflow as tf\n",
    "import re\n",
    "from xiespp import synthesizability, get_test_samples"
   ]
  },
  {
   "cell_type": "code",
   "execution_count": 2,
   "metadata": {
    "scrolled": true,
    "tags": []
   },
   "outputs": [
    {
     "data": {
      "text/html": [
       "<div>\n",
       "<style scoped>\n",
       "    .dataframe tbody tr th:only-of-type {\n",
       "        vertical-align: middle;\n",
       "    }\n",
       "\n",
       "    .dataframe tbody tr th {\n",
       "        vertical-align: top;\n",
       "    }\n",
       "\n",
       "    .dataframe thead th {\n",
       "        text-align: right;\n",
       "    }\n",
       "</style>\n",
       "<table border=\"1\" class=\"dataframe\">\n",
       "  <thead>\n",
       "    <tr style=\"text-align: right;\">\n",
       "      <th></th>\n",
       "      <th>Unnamed: 0</th>\n",
       "      <th>MP-ID</th>\n",
       "      <th>Comp Flatness score</th>\n",
       "      <th>Flat/not-flat</th>\n",
       "      <th>Flat segments</th>\n",
       "    </tr>\n",
       "  </thead>\n",
       "  <tbody>\n",
       "    <tr>\n",
       "      <th>0</th>\n",
       "      <td>0</td>\n",
       "      <td>mp-1</td>\n",
       "      <td>0.189216</td>\n",
       "      <td>False</td>\n",
       "      <td>[]</td>\n",
       "    </tr>\n",
       "    <tr>\n",
       "      <th>1</th>\n",
       "      <td>1</td>\n",
       "      <td>mp-2</td>\n",
       "      <td>0.197447</td>\n",
       "      <td>False</td>\n",
       "      <td>[]</td>\n",
       "    </tr>\n",
       "    <tr>\n",
       "      <th>2</th>\n",
       "      <td>2</td>\n",
       "      <td>mp-3</td>\n",
       "      <td>0.350097</td>\n",
       "      <td>False</td>\n",
       "      <td>[]</td>\n",
       "    </tr>\n",
       "    <tr>\n",
       "      <th>3</th>\n",
       "      <td>3</td>\n",
       "      <td>mp-4</td>\n",
       "      <td>0.143728</td>\n",
       "      <td>False</td>\n",
       "      <td>[]</td>\n",
       "    </tr>\n",
       "    <tr>\n",
       "      <th>4</th>\n",
       "      <td>4</td>\n",
       "      <td>mp-7</td>\n",
       "      <td>0.799074</td>\n",
       "      <td>True</td>\n",
       "      <td>[4]</td>\n",
       "    </tr>\n",
       "    <tr>\n",
       "      <th>...</th>\n",
       "      <td>...</td>\n",
       "      <td>...</td>\n",
       "      <td>...</td>\n",
       "      <td>...</td>\n",
       "      <td>...</td>\n",
       "    </tr>\n",
       "    <tr>\n",
       "      <th>69814</th>\n",
       "      <td>69814</td>\n",
       "      <td>mp-1446611</td>\n",
       "      <td>0.285079</td>\n",
       "      <td>False</td>\n",
       "      <td>[]</td>\n",
       "    </tr>\n",
       "    <tr>\n",
       "      <th>69815</th>\n",
       "      <td>69815</td>\n",
       "      <td>mp-1475723</td>\n",
       "      <td>0.172382</td>\n",
       "      <td>False</td>\n",
       "      <td>[]</td>\n",
       "    </tr>\n",
       "    <tr>\n",
       "      <th>69816</th>\n",
       "      <td>69816</td>\n",
       "      <td>mp-1475733</td>\n",
       "      <td>0.922906</td>\n",
       "      <td>True</td>\n",
       "      <td>[1, 2, 4]</td>\n",
       "    </tr>\n",
       "    <tr>\n",
       "      <th>69817</th>\n",
       "      <td>69817</td>\n",
       "      <td>mp-1503976</td>\n",
       "      <td>0.130819</td>\n",
       "      <td>False</td>\n",
       "      <td>[]</td>\n",
       "    </tr>\n",
       "    <tr>\n",
       "      <th>69818</th>\n",
       "      <td>69818</td>\n",
       "      <td>mp-1504314</td>\n",
       "      <td>0.394900</td>\n",
       "      <td>False</td>\n",
       "      <td>[]</td>\n",
       "    </tr>\n",
       "  </tbody>\n",
       "</table>\n",
       "<p>69819 rows × 5 columns</p>\n",
       "</div>"
      ],
      "text/plain": [
       "       Unnamed: 0       MP-ID  Comp Flatness score  Flat/not-flat  \\\n",
       "0               0        mp-1             0.189216          False   \n",
       "1               1        mp-2             0.197447          False   \n",
       "2               2        mp-3             0.350097          False   \n",
       "3               3        mp-4             0.143728          False   \n",
       "4               4        mp-7             0.799074           True   \n",
       "...           ...         ...                  ...            ...   \n",
       "69814       69814  mp-1446611             0.285079          False   \n",
       "69815       69815  mp-1475723             0.172382          False   \n",
       "69816       69816  mp-1475733             0.922906           True   \n",
       "69817       69817  mp-1503976             0.130819          False   \n",
       "69818       69818  mp-1504314             0.394900          False   \n",
       "\n",
       "      Flat segments  \n",
       "0                []  \n",
       "1                []  \n",
       "2                []  \n",
       "3                []  \n",
       "4               [4]  \n",
       "...             ...  \n",
       "69814            []  \n",
       "69815            []  \n",
       "69816     [1, 2, 4]  \n",
       "69817            []  \n",
       "69818            []  \n",
       "\n",
       "[69819 rows x 5 columns]"
      ]
     },
     "execution_count": 2,
     "metadata": {},
     "output_type": "execute_result"
    }
   ],
   "source": [
    "df = pd.read_csv('Compound_flatness_score.csv')\n",
    "df"
   ]
  },
  {
   "cell_type": "code",
   "execution_count": 3,
   "metadata": {
    "tags": []
   },
   "outputs": [
    {
     "data": {
      "text/html": [
       "<div>\n",
       "<style scoped>\n",
       "    .dataframe tbody tr th:only-of-type {\n",
       "        vertical-align: middle;\n",
       "    }\n",
       "\n",
       "    .dataframe tbody tr th {\n",
       "        vertical-align: top;\n",
       "    }\n",
       "\n",
       "    .dataframe thead th {\n",
       "        text-align: right;\n",
       "    }\n",
       "</style>\n",
       "<table border=\"1\" class=\"dataframe\">\n",
       "  <thead>\n",
       "    <tr style=\"text-align: right;\">\n",
       "      <th></th>\n",
       "      <th>MP-ID</th>\n",
       "      <th>Flat/not-flat</th>\n",
       "    </tr>\n",
       "  </thead>\n",
       "  <tbody>\n",
       "    <tr>\n",
       "      <th>4</th>\n",
       "      <td>mp-7</td>\n",
       "      <td>True</td>\n",
       "    </tr>\n",
       "    <tr>\n",
       "      <th>18</th>\n",
       "      <td>mp-25</td>\n",
       "      <td>True</td>\n",
       "    </tr>\n",
       "    <tr>\n",
       "      <th>26</th>\n",
       "      <td>mp-35</td>\n",
       "      <td>True</td>\n",
       "    </tr>\n",
       "    <tr>\n",
       "      <th>33</th>\n",
       "      <td>mp-43</td>\n",
       "      <td>True</td>\n",
       "    </tr>\n",
       "    <tr>\n",
       "      <th>64</th>\n",
       "      <td>mp-83</td>\n",
       "      <td>True</td>\n",
       "    </tr>\n",
       "    <tr>\n",
       "      <th>...</th>\n",
       "      <td>...</td>\n",
       "      <td>...</td>\n",
       "    </tr>\n",
       "    <tr>\n",
       "      <th>69787</th>\n",
       "      <td>mp-1443188</td>\n",
       "      <td>True</td>\n",
       "    </tr>\n",
       "    <tr>\n",
       "      <th>69788</th>\n",
       "      <td>mp-1443279</td>\n",
       "      <td>True</td>\n",
       "    </tr>\n",
       "    <tr>\n",
       "      <th>69791</th>\n",
       "      <td>mp-1443442</td>\n",
       "      <td>True</td>\n",
       "    </tr>\n",
       "    <tr>\n",
       "      <th>69806</th>\n",
       "      <td>mp-1445771</td>\n",
       "      <td>True</td>\n",
       "    </tr>\n",
       "    <tr>\n",
       "      <th>69816</th>\n",
       "      <td>mp-1475733</td>\n",
       "      <td>True</td>\n",
       "    </tr>\n",
       "  </tbody>\n",
       "</table>\n",
       "<p>33399 rows × 2 columns</p>\n",
       "</div>"
      ],
      "text/plain": [
       "            MP-ID  Flat/not-flat\n",
       "4            mp-7           True\n",
       "18          mp-25           True\n",
       "26          mp-35           True\n",
       "33          mp-43           True\n",
       "64          mp-83           True\n",
       "...           ...            ...\n",
       "69787  mp-1443188           True\n",
       "69788  mp-1443279           True\n",
       "69791  mp-1443442           True\n",
       "69806  mp-1445771           True\n",
       "69816  mp-1475733           True\n",
       "\n",
       "[33399 rows x 2 columns]"
      ]
     },
     "execution_count": 3,
     "metadata": {},
     "output_type": "execute_result"
    }
   ],
   "source": [
    "df_slice = df[['MP-ID','Flat/not-flat']]\n",
    "# extract materials with at least one flat band across the whole k-space path chosen\n",
    "df_flat_only = df_slice.loc[df_slice['Flat/not-flat']==True]\n",
    "df_flat_only"
   ]
  },
  {
   "cell_type": "code",
   "execution_count": 4,
   "metadata": {
    "tags": []
   },
   "outputs": [],
   "source": [
    "flat_ids = df_flat_only['MP-ID'].to_numpy()\n",
    "#print(flat_ids)\n",
    "np.savetxt('flat_mat_ids', flat_ids, delimiter=',', fmt='%s')"
   ]
  },
  {
   "cell_type": "markdown",
   "metadata": {},
   "source": [
    "## Using the 2nd version of the synthesizability predictor"
   ]
  },
  {
   "cell_type": "markdown",
   "metadata": {},
   "source": [
    "#### Order the .CIF files in terms of rising material project-id"
   ]
  },
  {
   "cell_type": "code",
   "execution_count": 5,
   "metadata": {},
   "outputs": [],
   "source": [
    "def natural_keys(text):\n",
    "    '''\n",
    "    alist.sort(key=natural_keys) sorts in human order\n",
    "    http://nedbatchelder.com/blog/200712/human_sorting.html\n",
    "    (See Toothy's implementation in the comments)\n",
    "    '''\n",
    "    return [ atoi(c) for c in re.split(r'(\\d+)', text) ]\n",
    "def atoi(text):\n",
    "    return int(text) if text.isdigit() else text"
   ]
  },
  {
   "cell_type": "code",
   "execution_count": 6,
   "metadata": {},
   "outputs": [
    {
     "name": "stdout",
     "output_type": "stream",
     "text": [
      "33399\n"
     ]
    }
   ],
   "source": [
    "samples = get_test_samples('all_flat_mats')\n",
    "samples.sort(key=natural_keys)\n",
    "print(len(samples))"
   ]
  },
  {
   "cell_type": "code",
   "execution_count": 7,
   "metadata": {},
   "outputs": [
    {
     "data": {
      "text/plain": [
       "<SynthesizabilityPredictor: device=/device:CPU:0, ensemble=100>"
      ]
     },
     "execution_count": 7,
     "metadata": {},
     "output_type": "execute_result"
    }
   ],
   "source": [
    "model = synthesizability.SynthesizabilityPredictor()\n",
    "model"
   ]
  },
  {
   "cell_type": "code",
   "execution_count": null,
   "metadata": {
    "scrolled": true
   },
   "outputs": [
    {
     "name": "stdout",
     "output_type": "stream",
     "text": [
      "Reading CIF files...\n"
     ]
    },
    {
     "name": "stderr",
     "output_type": "stream",
     "text": [
      "100%|██████████████████████████████████████| 6680/6680 [00:35<00:00, 186.71it/s]"
     ]
    },
    {
     "name": "stdout",
     "output_type": "stream",
     "text": [
      "Preparing image objects...\n"
     ]
    },
    {
     "name": "stderr",
     "output_type": "stream",
     "text": [
      "\n"
     ]
    },
    {
     "name": "stdout",
     "output_type": "stream",
     "text": [
      "Checking image requirements...\n"
     ]
    },
    {
     "name": "stderr",
     "output_type": "stream",
     "text": [
      " 89%|█████████████████████████████████▉    | 5976/6680 [00:16<00:01, 359.05it/s]"
     ]
    }
   ],
   "source": [
    "from IPython.display import clear_output\n",
    "\n",
    "sample_chunks = np.array_split(samples, 5)\n",
    "scores = np.array([])\n",
    "\n",
    "for sample_chunk in sample_chunks:\n",
    "    # remove excessive warnings to prevent out-of-memory error\n",
    "    clear_output(wait=True)\n",
    "    \n",
    "    scores = np.append(scores, model.predict(sample_chunk))\n",
    "    np.savetxt('flat_material_scores.csv', scores, delimiter=',', fmt='%s')"
   ]
  },
  {
   "cell_type": "code",
   "execution_count": null,
   "metadata": {},
   "outputs": [],
   "source": []
  }
 ],
 "metadata": {
  "kernelspec": {
   "display_name": "Python 3 (ipykernel)",
   "language": "python",
   "name": "python3"
  },
  "language_info": {
   "codemirror_mode": {
    "name": "ipython",
    "version": 3
   },
   "file_extension": ".py",
   "mimetype": "text/x-python",
   "name": "python",
   "nbconvert_exporter": "python",
   "pygments_lexer": "ipython3",
   "version": "3.11.8"
  }
 },
 "nbformat": 4,
 "nbformat_minor": 4
}
